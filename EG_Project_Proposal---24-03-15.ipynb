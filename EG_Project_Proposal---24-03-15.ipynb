{
 "cells": [
  {
   "cell_type": "markdown",
   "metadata": {},
   "source": [
    "HIST-501D\n",
    "\n",
    "Ezra Garow\n",
    "\n",
    "3/15/24\n",
    "\n",
    "# Digital History Final Paper Proposal\n",
    "\n",
    "## Overview\n",
    "\n",
    "&nbsp;&nbsp;&nbsp;&nbsp;&nbsp;&nbsp;&nbsp;&nbsp;&nbsp;&nbsp;This project will examine the benefits and drawbacks of geospatial technologies (GSTs) for the historical field. At the simplest level, historians have often employed analog maps in order to orient themselves and their readers when describing events. Newer digital GSTs such as online data repositories and mapping softwares have made this easier than ever. However, the capabilities of these GSTs go far beyond straightforward presentations of locations. Widely available and beginner-friendly resources can produce stream line analyses or calculate an area's viability as an ecosystem, while more advanced users can work with the same GSTs to train machine learning models and design automatic workflows. This opens up a new world of possibilities and dangers for historians who wish to incorporate GSTs into their work.\n",
    "\n",
    "&nbsp;&nbsp;&nbsp;&nbsp;&nbsp;&nbsp;&nbsp;&nbsp;&nbsp;&nbsp;New technologies naturally expand researchers' abilities. Digital and especially online GSTs give historians the opportunity to produce, access, and use data more easily and for a broader variety of projects. Shapefiles of Census tracts can be combined with historical data to quickly create maps of demographic arrangements from decades ago, georeferencing software can locate hundreds of addresses within minutes, and pre-built tools or coding enable historians to conduct analyses that used to require trained geographers, to name just a few possibilities. Additionally, web-based maps and applications can amplify a project's reach or provide easy ways to gain community input. The wealth of possibilities is a major boon for historians, though it comes with an equal wealth of potential pitfalls. Implementing quantitative methods in humanities projects is complicated at the best of times, and becomes even more problematic when working with tools that researchers do not have to fully comprehend to utilize. The value of GSTs in technical terms is positive, but not without caveats.\n",
    "\n",
    "&nbsp;&nbsp;&nbsp;&nbsp;&nbsp;&nbsp;&nbsp;&nbsp;&nbsp;&nbsp;In addition to their technical possibilities, digital GSTs can offer novel ways of thinking about historical events and people. Work in the so-called \"spatial turn\" in history does not *require* digital GSTs, but the larger-scale and more complicated work that can be done with them can expand and support theories or even prompt different theoretical work than analog methods. For example, a study of the geographic reach of a particular newspaper can be performed by simply counting the number of its agents in a given area, which can support certain methods of historical analysis. But digital analyses can propose the actual roads along which the paper might have been shipped, much more quickly and accurately than a human could.  canSuch a study could suggest entirely different avenues of inquiry. This is an exciting new frontier in research that will doubtless produce important new understandings of history. However, as with the methods of any theoretical framework, researchers will need to be on guard for overly-deterministic stances or bad methods leading to erroneous conclusions. With regards to historical theory, digital GSTs are valuable but not foolproof tools.\n",
    "\n",
    "&nbsp;&nbsp;&nbsp;&nbsp;&nbsp;&nbsp;&nbsp;&nbsp;&nbsp;&nbsp;The paper will begin with a brief overview of what GSTs are and how both analog and digital GSTs have been used for humanities in general and history specifically. It will then transition to an examination of the technical value these technologies offer, with both general concepts and specific examples. The third section will discuss some of the theoretical avenues GST has opened, as well as the problems those avenues pose. The paper will end with the author’s evaluation of GSTs' usefulness in history in light of the possibilities and problems presented.\n",
    "\n",
    "## Preliminary Bibliography\n",
    "\n",
    "Goodchild, Michael F., Pinde Fu, and Paul Rich. “Sharing Geographic Information: An Assessment of the Geospatial One-Stop.” Annals of the Association of American\n",
    "&nbsp;&nbsp;&nbsp;&nbsp;&nbsp;&nbsp;&nbsp;&nbsp;&nbsp;&nbsp;Geographers 97, no. 2 (2007): 250–66. http://www.jstor.org/stable/4620258.\n",
    "\n",
    "Holden, Vanessa M. *Surviving Southampton: African American Women and Resistance in Nat Turner's Community*, Chicago: University of Illinois Press, 2021.\n",
    "\n",
    "Jerram, Leif. “Space: A Useless Category for Historical Analysis?” History and Theory 52, no. 3 (2013): 400–419. http://www.jstor.org/stable/24542993.\n",
    "\n",
    "Klinkenberg, Brian. “Forum: Geospatial Technologies and the Geographies of Hope and Fear.” Annals of the Association of American Geographers 97, no. 2 (2007): 50–60. \n",
    "&nbsp;&nbsp;&nbsp;&nbsp;&nbsp;&nbsp;&nbsp;&nbsp;&nbsp;&nbsp;http://www.jstor.org/stable/4620265.\n",
    "\n",
    "KÜMIN, BEAT, and CORNELIE USBORNE. “AT HOME AND IN THE WORKPLACE: A HISTORICAL INTRODUCTION TO THE ‘SPATIAL TURN.’” History and Theory 52, no. 3 (2013): 305–18. &nbsp;&nbsp;&nbsp;&nbsp;&nbsp;&nbsp;&nbsp;&nbsp;&nbsp;&nbsp;http://www.jstor.org/stable/24542988.\n",
    "\n",
    "Lam, Nina Siu-Ngan. “Geospatial Methods for Reducing Uncertainties in Environmental Health Risk Assessment: Challenges and Opportunities.” Annals of the Association of \n",
    "&nbsp;&nbsp;&nbsp;&nbsp;&nbsp;&nbsp;&nbsp;&nbsp;&nbsp;&nbsp;American Geographers 102, no. 5 (2012): 942–50. http://www.jstor.org/stable/23275568.\n",
    "\n",
    "Mintzker, Yair. “Between the Linguistic and the Spatial Turns: A Reconsideration of the Concept of Space and Its Role in the Early Modern Period.” Historical Reflections / Réflexions \n",
    "&nbsp;&nbsp;&nbsp;&nbsp;&nbsp;&nbsp;&nbsp;&nbsp;&nbsp;&nbsp;Historiques 35, no. 3 (2009): 37–51. http://www.jstor.org/stable/41403672.\n",
    "\n",
    "Scarlett, Sarah Fayen, Don Lafreniere, Daniel J. Trepal, John D. M. Arnold, and Yichun Xie. “Out of the Classroom and Into History: Mobile Historical GIS and Community-Engaged \n",
    "&nbsp;&nbsp;&nbsp;&nbsp;&nbsp;&nbsp;&nbsp;&nbsp;&nbsp;&nbsp;Teaching.” The History Teacher 53, no. 1 (2019): 11–35. https://www.jstor.org/stable/27058561.\n",
    "\n",
    "Sweet, John Wood. *The Sewing Girl's Tale: A Story of Crime and Consequences in Revolutionary America*, New York: Henry Holt and Company, 2022.\n",
    "\n",
    "Withers, Charles W. J. “Place and the ‘Spatial Turn’ in Geography and in History.” Journal of the History of Ideas 70, no. 4 (2009): 637–58. http://www.jstor.org/stable/20621915."
   ]
  }
 ],
 "metadata": {
  "language_info": {
   "name": "python"
  }
 },
 "nbformat": 4,
 "nbformat_minor": 2
}
