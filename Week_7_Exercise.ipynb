{
 "cells": [
  {
   "cell_type": "code",
   "execution_count": 1,
   "metadata": {},
   "outputs": [],
   "source": [
    "import numpy as np\n",
    "import pandas as pd\n",
    "import plotly.express as px\n",
    "import plotly.graph_objects as go \n",
    "from plotly.graph_objs.scatter.marker import Line"
   ]
  },
  {
   "cell_type": "code",
   "execution_count": 2,
   "metadata": {},
   "outputs": [
    {
     "name": "stderr",
     "output_type": "stream",
     "text": [
      "C:\\Users\\agaro\\AppData\\Local\\Temp\\ipykernel_30348\\2590570194.py:24: FutureWarning: A value is trying to be set on a copy of a DataFrame or Series through chained assignment using an inplace method.\n",
      "The behavior will change in pandas 3.0. This inplace method will never work because the intermediate object on which we are setting values always behaves as a copy.\n",
      "\n",
      "For example, when doing 'df[col].method(value, inplace=True)', try using 'df.method({col: value}, inplace=True)' or df[col] = df[col].method(value) instead, to perform the operation inplace on the original object.\n",
      "\n",
      "\n",
      "  phl_crime[\"Charge\"].replace(\n",
      "C:\\Users\\agaro\\AppData\\Local\\Temp\\ipykernel_30348\\2590570194.py:29: FutureWarning: A value is trying to be set on a copy of a DataFrame or Series through chained assignment using an inplace method.\n",
      "The behavior will change in pandas 3.0. This inplace method will never work because the intermediate object on which we are setting values always behaves as a copy.\n",
      "\n",
      "For example, when doing 'df[col].method(value, inplace=True)', try using 'df.method({col: value}, inplace=True)' or df[col] = df[col].method(value) instead, to perform the operation inplace on the original object.\n",
      "\n",
      "\n",
      "  phl_crime[\"Gender of accused\"].replace(\n",
      "C:\\Users\\agaro\\AppData\\Local\\Temp\\ipykernel_30348\\2590570194.py:34: FutureWarning: A value is trying to be set on a copy of a DataFrame or Series through chained assignment using an inplace method.\n",
      "The behavior will change in pandas 3.0. This inplace method will never work because the intermediate object on which we are setting values always behaves as a copy.\n",
      "\n",
      "For example, when doing 'df[col].method(value, inplace=True)', try using 'df.method({col: value}, inplace=True)' or df[col] = df[col].method(value) instead, to perform the operation inplace on the original object.\n",
      "\n",
      "\n",
      "  phl_crime[\"Year\"].replace(\n",
      "C:\\Users\\agaro\\AppData\\Local\\Temp\\ipykernel_30348\\2590570194.py:39: FutureWarning: A value is trying to be set on a copy of a DataFrame or Series through chained assignment using an inplace method.\n",
      "The behavior will change in pandas 3.0. This inplace method will never work because the intermediate object on which we are setting values always behaves as a copy.\n",
      "\n",
      "For example, when doing 'df[col].method(value, inplace=True)', try using 'df.method({col: value}, inplace=True)' or df[col] = df[col].method(value) instead, to perform the operation inplace on the original object.\n",
      "\n",
      "\n",
      "  phl_crime[\"Gang\"].replace({1: \"No gang\", 2: \"Teen gang\", 3: \"Adult gang\"}, inplace=True)\n",
      "C:\\Users\\agaro\\AppData\\Local\\Temp\\ipykernel_30348\\2590570194.py:42: FutureWarning: A value is trying to be set on a copy of a DataFrame or Series through chained assignment using an inplace method.\n",
      "The behavior will change in pandas 3.0. This inplace method will never work because the intermediate object on which we are setting values always behaves as a copy.\n",
      "\n",
      "For example, when doing 'df[col].method(value, inplace=True)', try using 'df.method({col: value}, inplace=True)' or df[col] = df[col].method(value) instead, to perform the operation inplace on the original object.\n",
      "\n",
      "\n",
      "  phl_crime[\"Weapon\"].replace(\n"
     ]
    }
   ],
   "source": [
    "# Import data as DataFrame (only the columns specified under 'fields' list will be kept)\n",
    "fields = [\n",
    "    \"Year\",\n",
    "    \"Charge\",\n",
    "    \"Gender of accused\",\n",
    "    \"Age of accused\",\n",
    "    \"Victim age\",\n",
    "    \"Weapon\",\n",
    "    \"Gang\",\n",
    "]\n",
    "\n",
    "# Store csv data as DataFrame, keeping specified columns with 'usecols' parameter\n",
    "phl_crime = pd.read_csv(\"C:\\\\Users\\\\agaro\\\\Downloads\\\\sample-dataset-philadelphia-homicides-1902-1932.csv\", usecols=fields) \n",
    "\n",
    "# Replace missing numeric values (classified in original dataset as '99') to NumPy NaN\n",
    "phl_crime.replace(99, np.NaN, inplace=True)\n",
    "\n",
    "# Drop rows with where crime type is unknown (those classified as either '4' or '9' under the 'Charge' column)\n",
    "phl_crime = phl_crime.drop(\n",
    "    phl_crime[(phl_crime.Charge == 4) | (phl_crime.Charge == 9)].index\n",
    ")\n",
    "\n",
    "# Re-label crime types (under \"Charge\" column) as nouns (originally coded numerically)\n",
    "phl_crime[\"Charge\"].replace(\n",
    "    {1: \"Murder\", 2: \"Manslaughter\", 3: \"Abortion\"}, inplace=True\n",
    ")\n",
    "\n",
    "# Re-label gender (under \"Gender of accused\" column) as nouns (originally coded numerically)\n",
    "phl_crime[\"Gender of accused\"].replace(\n",
    "    {1: \"Male\", 2: \"Female\", 3: np.NaN, 9: np.NaN}, inplace=True\n",
    ")\n",
    "\n",
    "# Replace erroneous data and typos in \"Year\" column\n",
    "phl_crime[\"Year\"].replace(\n",
    "    {1514: 1914, 1520: 1920, 1526: 1926, 1532: 1932, 1915: 1914}, inplace=True\n",
    ")\n",
    "\n",
    "# Re-label gang affilation (under \"Gang\" column) as nouns (originally coded numerically)\n",
    "phl_crime[\"Gang\"].replace({1: \"No gang\", 2: \"Teen gang\", 3: \"Adult gang\"}, inplace=True)\n",
    "\n",
    "# Re-label weapons (under \"Weapon\" column) as nouns (originally coded numerically)\n",
    "phl_crime[\"Weapon\"].replace(\n",
    "    {\n",
    "        1: \"Gun\",\n",
    "        2: \"Knife, sharp instrument\",\n",
    "        3: \"Blunt object\",\n",
    "        4: \"Fist, other body part\",\n",
    "        5: \"Vehicle\",\n",
    "        6: \"Other\",\n",
    "        7: \"Poison\",\n",
    "        9: np.NaN,\n",
    "    },\n",
    "    inplace=True,\n",
    ")"
   ]
  },
  {
   "cell_type": "code",
   "execution_count": 3,
   "metadata": {},
   "outputs": [],
   "source": [
    "phl_by_charge = phl_crime.groupby([\"Charge\"], as_index=False).size()"
   ]
  },
  {
   "cell_type": "code",
   "execution_count": 4,
   "metadata": {},
   "outputs": [
    {
     "data": {
      "application/vnd.plotly.v1+json": {
       "config": {
        "plotlyServerURL": "https://plot.ly"
       },
       "data": [
        {
         "alignmentgroup": "True",
         "hovertemplate": "Charge=%{x}<br>Count=%{y}<extra></extra>",
         "legendgroup": "Abortion",
         "marker": {
          "color": "#636efa",
          "pattern": {
           "shape": ""
          }
         },
         "name": "Abortion",
         "offsetgroup": "Abortion",
         "orientation": "v",
         "showlegend": true,
         "textposition": "auto",
         "type": "bar",
         "x": [
          "Abortion"
         ],
         "xaxis": "x",
         "y": [
          54
         ],
         "yaxis": "y"
        },
        {
         "alignmentgroup": "True",
         "hovertemplate": "Charge=%{x}<br>Count=%{y}<extra></extra>",
         "legendgroup": "Manslaughter",
         "marker": {
          "color": "#EF553B",
          "pattern": {
           "shape": ""
          }
         },
         "name": "Manslaughter",
         "offsetgroup": "Manslaughter",
         "orientation": "v",
         "showlegend": true,
         "textposition": "auto",
         "type": "bar",
         "x": [
          "Manslaughter"
         ],
         "xaxis": "x",
         "y": [
          112
         ],
         "yaxis": "y"
        },
        {
         "alignmentgroup": "True",
         "hovertemplate": "Charge=%{x}<br>Count=%{y}<extra></extra>",
         "legendgroup": "Murder",
         "marker": {
          "color": "#00cc96",
          "pattern": {
           "shape": ""
          }
         },
         "name": "Murder",
         "offsetgroup": "Murder",
         "orientation": "v",
         "showlegend": true,
         "textposition": "auto",
         "type": "bar",
         "x": [
          "Murder"
         ],
         "xaxis": "x",
         "y": [
          548
         ],
         "yaxis": "y"
        }
       ],
       "layout": {
        "barmode": "relative",
        "legend": {
         "title": {
          "text": "Charge"
         },
         "tracegroupgap": 0
        },
        "template": {
         "data": {
          "bar": [
           {
            "error_x": {
             "color": "#2a3f5f"
            },
            "error_y": {
             "color": "#2a3f5f"
            },
            "marker": {
             "line": {
              "color": "#E5ECF6",
              "width": 0.5
             },
             "pattern": {
              "fillmode": "overlay",
              "size": 10,
              "solidity": 0.2
             }
            },
            "type": "bar"
           }
          ],
          "barpolar": [
           {
            "marker": {
             "line": {
              "color": "#E5ECF6",
              "width": 0.5
             },
             "pattern": {
              "fillmode": "overlay",
              "size": 10,
              "solidity": 0.2
             }
            },
            "type": "barpolar"
           }
          ],
          "carpet": [
           {
            "aaxis": {
             "endlinecolor": "#2a3f5f",
             "gridcolor": "white",
             "linecolor": "white",
             "minorgridcolor": "white",
             "startlinecolor": "#2a3f5f"
            },
            "baxis": {
             "endlinecolor": "#2a3f5f",
             "gridcolor": "white",
             "linecolor": "white",
             "minorgridcolor": "white",
             "startlinecolor": "#2a3f5f"
            },
            "type": "carpet"
           }
          ],
          "choropleth": [
           {
            "colorbar": {
             "outlinewidth": 0,
             "ticks": ""
            },
            "type": "choropleth"
           }
          ],
          "contour": [
           {
            "colorbar": {
             "outlinewidth": 0,
             "ticks": ""
            },
            "colorscale": [
             [
              0,
              "#0d0887"
             ],
             [
              0.1111111111111111,
              "#46039f"
             ],
             [
              0.2222222222222222,
              "#7201a8"
             ],
             [
              0.3333333333333333,
              "#9c179e"
             ],
             [
              0.4444444444444444,
              "#bd3786"
             ],
             [
              0.5555555555555556,
              "#d8576b"
             ],
             [
              0.6666666666666666,
              "#ed7953"
             ],
             [
              0.7777777777777778,
              "#fb9f3a"
             ],
             [
              0.8888888888888888,
              "#fdca26"
             ],
             [
              1,
              "#f0f921"
             ]
            ],
            "type": "contour"
           }
          ],
          "contourcarpet": [
           {
            "colorbar": {
             "outlinewidth": 0,
             "ticks": ""
            },
            "type": "contourcarpet"
           }
          ],
          "heatmap": [
           {
            "colorbar": {
             "outlinewidth": 0,
             "ticks": ""
            },
            "colorscale": [
             [
              0,
              "#0d0887"
             ],
             [
              0.1111111111111111,
              "#46039f"
             ],
             [
              0.2222222222222222,
              "#7201a8"
             ],
             [
              0.3333333333333333,
              "#9c179e"
             ],
             [
              0.4444444444444444,
              "#bd3786"
             ],
             [
              0.5555555555555556,
              "#d8576b"
             ],
             [
              0.6666666666666666,
              "#ed7953"
             ],
             [
              0.7777777777777778,
              "#fb9f3a"
             ],
             [
              0.8888888888888888,
              "#fdca26"
             ],
             [
              1,
              "#f0f921"
             ]
            ],
            "type": "heatmap"
           }
          ],
          "heatmapgl": [
           {
            "colorbar": {
             "outlinewidth": 0,
             "ticks": ""
            },
            "colorscale": [
             [
              0,
              "#0d0887"
             ],
             [
              0.1111111111111111,
              "#46039f"
             ],
             [
              0.2222222222222222,
              "#7201a8"
             ],
             [
              0.3333333333333333,
              "#9c179e"
             ],
             [
              0.4444444444444444,
              "#bd3786"
             ],
             [
              0.5555555555555556,
              "#d8576b"
             ],
             [
              0.6666666666666666,
              "#ed7953"
             ],
             [
              0.7777777777777778,
              "#fb9f3a"
             ],
             [
              0.8888888888888888,
              "#fdca26"
             ],
             [
              1,
              "#f0f921"
             ]
            ],
            "type": "heatmapgl"
           }
          ],
          "histogram": [
           {
            "marker": {
             "pattern": {
              "fillmode": "overlay",
              "size": 10,
              "solidity": 0.2
             }
            },
            "type": "histogram"
           }
          ],
          "histogram2d": [
           {
            "colorbar": {
             "outlinewidth": 0,
             "ticks": ""
            },
            "colorscale": [
             [
              0,
              "#0d0887"
             ],
             [
              0.1111111111111111,
              "#46039f"
             ],
             [
              0.2222222222222222,
              "#7201a8"
             ],
             [
              0.3333333333333333,
              "#9c179e"
             ],
             [
              0.4444444444444444,
              "#bd3786"
             ],
             [
              0.5555555555555556,
              "#d8576b"
             ],
             [
              0.6666666666666666,
              "#ed7953"
             ],
             [
              0.7777777777777778,
              "#fb9f3a"
             ],
             [
              0.8888888888888888,
              "#fdca26"
             ],
             [
              1,
              "#f0f921"
             ]
            ],
            "type": "histogram2d"
           }
          ],
          "histogram2dcontour": [
           {
            "colorbar": {
             "outlinewidth": 0,
             "ticks": ""
            },
            "colorscale": [
             [
              0,
              "#0d0887"
             ],
             [
              0.1111111111111111,
              "#46039f"
             ],
             [
              0.2222222222222222,
              "#7201a8"
             ],
             [
              0.3333333333333333,
              "#9c179e"
             ],
             [
              0.4444444444444444,
              "#bd3786"
             ],
             [
              0.5555555555555556,
              "#d8576b"
             ],
             [
              0.6666666666666666,
              "#ed7953"
             ],
             [
              0.7777777777777778,
              "#fb9f3a"
             ],
             [
              0.8888888888888888,
              "#fdca26"
             ],
             [
              1,
              "#f0f921"
             ]
            ],
            "type": "histogram2dcontour"
           }
          ],
          "mesh3d": [
           {
            "colorbar": {
             "outlinewidth": 0,
             "ticks": ""
            },
            "type": "mesh3d"
           }
          ],
          "parcoords": [
           {
            "line": {
             "colorbar": {
              "outlinewidth": 0,
              "ticks": ""
             }
            },
            "type": "parcoords"
           }
          ],
          "pie": [
           {
            "automargin": true,
            "type": "pie"
           }
          ],
          "scatter": [
           {
            "fillpattern": {
             "fillmode": "overlay",
             "size": 10,
             "solidity": 0.2
            },
            "type": "scatter"
           }
          ],
          "scatter3d": [
           {
            "line": {
             "colorbar": {
              "outlinewidth": 0,
              "ticks": ""
             }
            },
            "marker": {
             "colorbar": {
              "outlinewidth": 0,
              "ticks": ""
             }
            },
            "type": "scatter3d"
           }
          ],
          "scattercarpet": [
           {
            "marker": {
             "colorbar": {
              "outlinewidth": 0,
              "ticks": ""
             }
            },
            "type": "scattercarpet"
           }
          ],
          "scattergeo": [
           {
            "marker": {
             "colorbar": {
              "outlinewidth": 0,
              "ticks": ""
             }
            },
            "type": "scattergeo"
           }
          ],
          "scattergl": [
           {
            "marker": {
             "colorbar": {
              "outlinewidth": 0,
              "ticks": ""
             }
            },
            "type": "scattergl"
           }
          ],
          "scattermapbox": [
           {
            "marker": {
             "colorbar": {
              "outlinewidth": 0,
              "ticks": ""
             }
            },
            "type": "scattermapbox"
           }
          ],
          "scatterpolar": [
           {
            "marker": {
             "colorbar": {
              "outlinewidth": 0,
              "ticks": ""
             }
            },
            "type": "scatterpolar"
           }
          ],
          "scatterpolargl": [
           {
            "marker": {
             "colorbar": {
              "outlinewidth": 0,
              "ticks": ""
             }
            },
            "type": "scatterpolargl"
           }
          ],
          "scatterternary": [
           {
            "marker": {
             "colorbar": {
              "outlinewidth": 0,
              "ticks": ""
             }
            },
            "type": "scatterternary"
           }
          ],
          "surface": [
           {
            "colorbar": {
             "outlinewidth": 0,
             "ticks": ""
            },
            "colorscale": [
             [
              0,
              "#0d0887"
             ],
             [
              0.1111111111111111,
              "#46039f"
             ],
             [
              0.2222222222222222,
              "#7201a8"
             ],
             [
              0.3333333333333333,
              "#9c179e"
             ],
             [
              0.4444444444444444,
              "#bd3786"
             ],
             [
              0.5555555555555556,
              "#d8576b"
             ],
             [
              0.6666666666666666,
              "#ed7953"
             ],
             [
              0.7777777777777778,
              "#fb9f3a"
             ],
             [
              0.8888888888888888,
              "#fdca26"
             ],
             [
              1,
              "#f0f921"
             ]
            ],
            "type": "surface"
           }
          ],
          "table": [
           {
            "cells": {
             "fill": {
              "color": "#EBF0F8"
             },
             "line": {
              "color": "white"
             }
            },
            "header": {
             "fill": {
              "color": "#C8D4E3"
             },
             "line": {
              "color": "white"
             }
            },
            "type": "table"
           }
          ]
         },
         "layout": {
          "annotationdefaults": {
           "arrowcolor": "#2a3f5f",
           "arrowhead": 0,
           "arrowwidth": 1
          },
          "autotypenumbers": "strict",
          "coloraxis": {
           "colorbar": {
            "outlinewidth": 0,
            "ticks": ""
           }
          },
          "colorscale": {
           "diverging": [
            [
             0,
             "#8e0152"
            ],
            [
             0.1,
             "#c51b7d"
            ],
            [
             0.2,
             "#de77ae"
            ],
            [
             0.3,
             "#f1b6da"
            ],
            [
             0.4,
             "#fde0ef"
            ],
            [
             0.5,
             "#f7f7f7"
            ],
            [
             0.6,
             "#e6f5d0"
            ],
            [
             0.7,
             "#b8e186"
            ],
            [
             0.8,
             "#7fbc41"
            ],
            [
             0.9,
             "#4d9221"
            ],
            [
             1,
             "#276419"
            ]
           ],
           "sequential": [
            [
             0,
             "#0d0887"
            ],
            [
             0.1111111111111111,
             "#46039f"
            ],
            [
             0.2222222222222222,
             "#7201a8"
            ],
            [
             0.3333333333333333,
             "#9c179e"
            ],
            [
             0.4444444444444444,
             "#bd3786"
            ],
            [
             0.5555555555555556,
             "#d8576b"
            ],
            [
             0.6666666666666666,
             "#ed7953"
            ],
            [
             0.7777777777777778,
             "#fb9f3a"
            ],
            [
             0.8888888888888888,
             "#fdca26"
            ],
            [
             1,
             "#f0f921"
            ]
           ],
           "sequentialminus": [
            [
             0,
             "#0d0887"
            ],
            [
             0.1111111111111111,
             "#46039f"
            ],
            [
             0.2222222222222222,
             "#7201a8"
            ],
            [
             0.3333333333333333,
             "#9c179e"
            ],
            [
             0.4444444444444444,
             "#bd3786"
            ],
            [
             0.5555555555555556,
             "#d8576b"
            ],
            [
             0.6666666666666666,
             "#ed7953"
            ],
            [
             0.7777777777777778,
             "#fb9f3a"
            ],
            [
             0.8888888888888888,
             "#fdca26"
            ],
            [
             1,
             "#f0f921"
            ]
           ]
          },
          "colorway": [
           "#636efa",
           "#EF553B",
           "#00cc96",
           "#ab63fa",
           "#FFA15A",
           "#19d3f3",
           "#FF6692",
           "#B6E880",
           "#FF97FF",
           "#FECB52"
          ],
          "font": {
           "color": "#2a3f5f"
          },
          "geo": {
           "bgcolor": "white",
           "lakecolor": "white",
           "landcolor": "#E5ECF6",
           "showlakes": true,
           "showland": true,
           "subunitcolor": "white"
          },
          "hoverlabel": {
           "align": "left"
          },
          "hovermode": "closest",
          "mapbox": {
           "style": "light"
          },
          "paper_bgcolor": "white",
          "plot_bgcolor": "#E5ECF6",
          "polar": {
           "angularaxis": {
            "gridcolor": "white",
            "linecolor": "white",
            "ticks": ""
           },
           "bgcolor": "#E5ECF6",
           "radialaxis": {
            "gridcolor": "white",
            "linecolor": "white",
            "ticks": ""
           }
          },
          "scene": {
           "xaxis": {
            "backgroundcolor": "#E5ECF6",
            "gridcolor": "white",
            "gridwidth": 2,
            "linecolor": "white",
            "showbackground": true,
            "ticks": "",
            "zerolinecolor": "white"
           },
           "yaxis": {
            "backgroundcolor": "#E5ECF6",
            "gridcolor": "white",
            "gridwidth": 2,
            "linecolor": "white",
            "showbackground": true,
            "ticks": "",
            "zerolinecolor": "white"
           },
           "zaxis": {
            "backgroundcolor": "#E5ECF6",
            "gridcolor": "white",
            "gridwidth": 2,
            "linecolor": "white",
            "showbackground": true,
            "ticks": "",
            "zerolinecolor": "white"
           }
          },
          "shapedefaults": {
           "line": {
            "color": "#2a3f5f"
           }
          },
          "ternary": {
           "aaxis": {
            "gridcolor": "white",
            "linecolor": "white",
            "ticks": ""
           },
           "baxis": {
            "gridcolor": "white",
            "linecolor": "white",
            "ticks": ""
           },
           "bgcolor": "#E5ECF6",
           "caxis": {
            "gridcolor": "white",
            "linecolor": "white",
            "ticks": ""
           }
          },
          "title": {
           "x": 0.05
          },
          "xaxis": {
           "automargin": true,
           "gridcolor": "white",
           "linecolor": "white",
           "ticks": "",
           "title": {
            "standoff": 15
           },
           "zerolinecolor": "white",
           "zerolinewidth": 2
          },
          "yaxis": {
           "automargin": true,
           "gridcolor": "white",
           "linecolor": "white",
           "ticks": "",
           "title": {
            "standoff": 15
           },
           "zerolinecolor": "white",
           "zerolinewidth": 2
          }
         }
        },
        "title": {
         "text": "Prosecutions per Crime"
        },
        "xaxis": {
         "anchor": "y",
         "categoryarray": [
          "Abortion",
          "Manslaughter",
          "Murder"
         ],
         "categoryorder": "array",
         "domain": [
          0,
          1
         ],
         "title": {
          "text": "Charge"
         }
        },
        "yaxis": {
         "anchor": "x",
         "domain": [
          0,
          1
         ],
         "title": {
          "text": "Count"
         }
        }
       }
      }
     },
     "metadata": {},
     "output_type": "display_data"
    }
   ],
   "source": [
    "# Create bar chart using the .bar() method (in a new code cell)\n",
    "fig = px.bar(\n",
    "    phl_by_charge,\n",
    "    x=\"Charge\",\n",
    "    y=\"size\",\n",
    "    title=\"Prosecutions per Crime\",\n",
    "    labels={\"size\": \"Count\"},\n",
    "    color=\"Charge\", # Note that the 'color' parameter takes the name of our column ('Charge') as a string\n",
    ")\n",
    "\n",
    "fig.show()"
   ]
  },
  {
   "cell_type": "code",
   "execution_count": 5,
   "metadata": {},
   "outputs": [
    {
     "data": {
      "application/vnd.plotly.v1+json": {
       "config": {
        "plotlyServerURL": "https://plot.ly"
       },
       "data": [
        {
         "hovertemplate": "Charge=Abortion<br>Year=%{x}<br>Count=%{y}<extra></extra>",
         "legendgroup": "Abortion",
         "line": {
          "color": "#636efa",
          "dash": "solid"
         },
         "marker": {
          "symbol": "circle"
         },
         "mode": "lines",
         "name": "Abortion",
         "orientation": "v",
         "showlegend": true,
         "type": "scatter",
         "x": [
          1902,
          1908,
          1914,
          1920,
          1926,
          1932
         ],
         "xaxis": "x",
         "y": [
          12,
          9,
          7,
          9,
          5,
          12
         ],
         "yaxis": "y"
        },
        {
         "hovertemplate": "Charge=Manslaughter<br>Year=%{x}<br>Count=%{y}<extra></extra>",
         "legendgroup": "Manslaughter",
         "line": {
          "color": "#EF553B",
          "dash": "solid"
         },
         "marker": {
          "symbol": "circle"
         },
         "mode": "lines",
         "name": "Manslaughter",
         "orientation": "v",
         "showlegend": true,
         "type": "scatter",
         "x": [
          1908,
          1914,
          1920,
          1926,
          1932
         ],
         "xaxis": "x",
         "y": [
          12,
          29,
          34,
          12,
          25
         ],
         "yaxis": "y"
        },
        {
         "hovertemplate": "Charge=Murder<br>Year=%{x}<br>Count=%{y}<extra></extra>",
         "legendgroup": "Murder",
         "line": {
          "color": "#00cc96",
          "dash": "solid"
         },
         "marker": {
          "symbol": "circle"
         },
         "mode": "lines",
         "name": "Murder",
         "orientation": "v",
         "showlegend": true,
         "type": "scatter",
         "x": [
          1902,
          1908,
          1914,
          1920,
          1926,
          1932
         ],
         "xaxis": "x",
         "y": [
          29,
          47,
          58,
          102,
          180,
          132
         ],
         "yaxis": "y"
        }
       ],
       "layout": {
        "font": {
         "color": "blue",
         "family": "Courier New"
        },
        "legend": {
         "title": {
          "font": {
           "color": "red"
          },
          "text": "Charge"
         },
         "tracegroupgap": 0
        },
        "template": {
         "data": {
          "bar": [
           {
            "error_x": {
             "color": "#2a3f5f"
            },
            "error_y": {
             "color": "#2a3f5f"
            },
            "marker": {
             "line": {
              "color": "#E5ECF6",
              "width": 0.5
             },
             "pattern": {
              "fillmode": "overlay",
              "size": 10,
              "solidity": 0.2
             }
            },
            "type": "bar"
           }
          ],
          "barpolar": [
           {
            "marker": {
             "line": {
              "color": "#E5ECF6",
              "width": 0.5
             },
             "pattern": {
              "fillmode": "overlay",
              "size": 10,
              "solidity": 0.2
             }
            },
            "type": "barpolar"
           }
          ],
          "carpet": [
           {
            "aaxis": {
             "endlinecolor": "#2a3f5f",
             "gridcolor": "white",
             "linecolor": "white",
             "minorgridcolor": "white",
             "startlinecolor": "#2a3f5f"
            },
            "baxis": {
             "endlinecolor": "#2a3f5f",
             "gridcolor": "white",
             "linecolor": "white",
             "minorgridcolor": "white",
             "startlinecolor": "#2a3f5f"
            },
            "type": "carpet"
           }
          ],
          "choropleth": [
           {
            "colorbar": {
             "outlinewidth": 0,
             "ticks": ""
            },
            "type": "choropleth"
           }
          ],
          "contour": [
           {
            "colorbar": {
             "outlinewidth": 0,
             "ticks": ""
            },
            "colorscale": [
             [
              0,
              "#0d0887"
             ],
             [
              0.1111111111111111,
              "#46039f"
             ],
             [
              0.2222222222222222,
              "#7201a8"
             ],
             [
              0.3333333333333333,
              "#9c179e"
             ],
             [
              0.4444444444444444,
              "#bd3786"
             ],
             [
              0.5555555555555556,
              "#d8576b"
             ],
             [
              0.6666666666666666,
              "#ed7953"
             ],
             [
              0.7777777777777778,
              "#fb9f3a"
             ],
             [
              0.8888888888888888,
              "#fdca26"
             ],
             [
              1,
              "#f0f921"
             ]
            ],
            "type": "contour"
           }
          ],
          "contourcarpet": [
           {
            "colorbar": {
             "outlinewidth": 0,
             "ticks": ""
            },
            "type": "contourcarpet"
           }
          ],
          "heatmap": [
           {
            "colorbar": {
             "outlinewidth": 0,
             "ticks": ""
            },
            "colorscale": [
             [
              0,
              "#0d0887"
             ],
             [
              0.1111111111111111,
              "#46039f"
             ],
             [
              0.2222222222222222,
              "#7201a8"
             ],
             [
              0.3333333333333333,
              "#9c179e"
             ],
             [
              0.4444444444444444,
              "#bd3786"
             ],
             [
              0.5555555555555556,
              "#d8576b"
             ],
             [
              0.6666666666666666,
              "#ed7953"
             ],
             [
              0.7777777777777778,
              "#fb9f3a"
             ],
             [
              0.8888888888888888,
              "#fdca26"
             ],
             [
              1,
              "#f0f921"
             ]
            ],
            "type": "heatmap"
           }
          ],
          "heatmapgl": [
           {
            "colorbar": {
             "outlinewidth": 0,
             "ticks": ""
            },
            "colorscale": [
             [
              0,
              "#0d0887"
             ],
             [
              0.1111111111111111,
              "#46039f"
             ],
             [
              0.2222222222222222,
              "#7201a8"
             ],
             [
              0.3333333333333333,
              "#9c179e"
             ],
             [
              0.4444444444444444,
              "#bd3786"
             ],
             [
              0.5555555555555556,
              "#d8576b"
             ],
             [
              0.6666666666666666,
              "#ed7953"
             ],
             [
              0.7777777777777778,
              "#fb9f3a"
             ],
             [
              0.8888888888888888,
              "#fdca26"
             ],
             [
              1,
              "#f0f921"
             ]
            ],
            "type": "heatmapgl"
           }
          ],
          "histogram": [
           {
            "marker": {
             "pattern": {
              "fillmode": "overlay",
              "size": 10,
              "solidity": 0.2
             }
            },
            "type": "histogram"
           }
          ],
          "histogram2d": [
           {
            "colorbar": {
             "outlinewidth": 0,
             "ticks": ""
            },
            "colorscale": [
             [
              0,
              "#0d0887"
             ],
             [
              0.1111111111111111,
              "#46039f"
             ],
             [
              0.2222222222222222,
              "#7201a8"
             ],
             [
              0.3333333333333333,
              "#9c179e"
             ],
             [
              0.4444444444444444,
              "#bd3786"
             ],
             [
              0.5555555555555556,
              "#d8576b"
             ],
             [
              0.6666666666666666,
              "#ed7953"
             ],
             [
              0.7777777777777778,
              "#fb9f3a"
             ],
             [
              0.8888888888888888,
              "#fdca26"
             ],
             [
              1,
              "#f0f921"
             ]
            ],
            "type": "histogram2d"
           }
          ],
          "histogram2dcontour": [
           {
            "colorbar": {
             "outlinewidth": 0,
             "ticks": ""
            },
            "colorscale": [
             [
              0,
              "#0d0887"
             ],
             [
              0.1111111111111111,
              "#46039f"
             ],
             [
              0.2222222222222222,
              "#7201a8"
             ],
             [
              0.3333333333333333,
              "#9c179e"
             ],
             [
              0.4444444444444444,
              "#bd3786"
             ],
             [
              0.5555555555555556,
              "#d8576b"
             ],
             [
              0.6666666666666666,
              "#ed7953"
             ],
             [
              0.7777777777777778,
              "#fb9f3a"
             ],
             [
              0.8888888888888888,
              "#fdca26"
             ],
             [
              1,
              "#f0f921"
             ]
            ],
            "type": "histogram2dcontour"
           }
          ],
          "mesh3d": [
           {
            "colorbar": {
             "outlinewidth": 0,
             "ticks": ""
            },
            "type": "mesh3d"
           }
          ],
          "parcoords": [
           {
            "line": {
             "colorbar": {
              "outlinewidth": 0,
              "ticks": ""
             }
            },
            "type": "parcoords"
           }
          ],
          "pie": [
           {
            "automargin": true,
            "type": "pie"
           }
          ],
          "scatter": [
           {
            "fillpattern": {
             "fillmode": "overlay",
             "size": 10,
             "solidity": 0.2
            },
            "type": "scatter"
           }
          ],
          "scatter3d": [
           {
            "line": {
             "colorbar": {
              "outlinewidth": 0,
              "ticks": ""
             }
            },
            "marker": {
             "colorbar": {
              "outlinewidth": 0,
              "ticks": ""
             }
            },
            "type": "scatter3d"
           }
          ],
          "scattercarpet": [
           {
            "marker": {
             "colorbar": {
              "outlinewidth": 0,
              "ticks": ""
             }
            },
            "type": "scattercarpet"
           }
          ],
          "scattergeo": [
           {
            "marker": {
             "colorbar": {
              "outlinewidth": 0,
              "ticks": ""
             }
            },
            "type": "scattergeo"
           }
          ],
          "scattergl": [
           {
            "marker": {
             "colorbar": {
              "outlinewidth": 0,
              "ticks": ""
             }
            },
            "type": "scattergl"
           }
          ],
          "scattermapbox": [
           {
            "marker": {
             "colorbar": {
              "outlinewidth": 0,
              "ticks": ""
             }
            },
            "type": "scattermapbox"
           }
          ],
          "scatterpolar": [
           {
            "marker": {
             "colorbar": {
              "outlinewidth": 0,
              "ticks": ""
             }
            },
            "type": "scatterpolar"
           }
          ],
          "scatterpolargl": [
           {
            "marker": {
             "colorbar": {
              "outlinewidth": 0,
              "ticks": ""
             }
            },
            "type": "scatterpolargl"
           }
          ],
          "scatterternary": [
           {
            "marker": {
             "colorbar": {
              "outlinewidth": 0,
              "ticks": ""
             }
            },
            "type": "scatterternary"
           }
          ],
          "surface": [
           {
            "colorbar": {
             "outlinewidth": 0,
             "ticks": ""
            },
            "colorscale": [
             [
              0,
              "#0d0887"
             ],
             [
              0.1111111111111111,
              "#46039f"
             ],
             [
              0.2222222222222222,
              "#7201a8"
             ],
             [
              0.3333333333333333,
              "#9c179e"
             ],
             [
              0.4444444444444444,
              "#bd3786"
             ],
             [
              0.5555555555555556,
              "#d8576b"
             ],
             [
              0.6666666666666666,
              "#ed7953"
             ],
             [
              0.7777777777777778,
              "#fb9f3a"
             ],
             [
              0.8888888888888888,
              "#fdca26"
             ],
             [
              1,
              "#f0f921"
             ]
            ],
            "type": "surface"
           }
          ],
          "table": [
           {
            "cells": {
             "fill": {
              "color": "#EBF0F8"
             },
             "line": {
              "color": "white"
             }
            },
            "header": {
             "fill": {
              "color": "#C8D4E3"
             },
             "line": {
              "color": "white"
             }
            },
            "type": "table"
           }
          ]
         },
         "layout": {
          "annotationdefaults": {
           "arrowcolor": "#2a3f5f",
           "arrowhead": 0,
           "arrowwidth": 1
          },
          "autotypenumbers": "strict",
          "coloraxis": {
           "colorbar": {
            "outlinewidth": 0,
            "ticks": ""
           }
          },
          "colorscale": {
           "diverging": [
            [
             0,
             "#8e0152"
            ],
            [
             0.1,
             "#c51b7d"
            ],
            [
             0.2,
             "#de77ae"
            ],
            [
             0.3,
             "#f1b6da"
            ],
            [
             0.4,
             "#fde0ef"
            ],
            [
             0.5,
             "#f7f7f7"
            ],
            [
             0.6,
             "#e6f5d0"
            ],
            [
             0.7,
             "#b8e186"
            ],
            [
             0.8,
             "#7fbc41"
            ],
            [
             0.9,
             "#4d9221"
            ],
            [
             1,
             "#276419"
            ]
           ],
           "sequential": [
            [
             0,
             "#0d0887"
            ],
            [
             0.1111111111111111,
             "#46039f"
            ],
            [
             0.2222222222222222,
             "#7201a8"
            ],
            [
             0.3333333333333333,
             "#9c179e"
            ],
            [
             0.4444444444444444,
             "#bd3786"
            ],
            [
             0.5555555555555556,
             "#d8576b"
            ],
            [
             0.6666666666666666,
             "#ed7953"
            ],
            [
             0.7777777777777778,
             "#fb9f3a"
            ],
            [
             0.8888888888888888,
             "#fdca26"
            ],
            [
             1,
             "#f0f921"
            ]
           ],
           "sequentialminus": [
            [
             0,
             "#0d0887"
            ],
            [
             0.1111111111111111,
             "#46039f"
            ],
            [
             0.2222222222222222,
             "#7201a8"
            ],
            [
             0.3333333333333333,
             "#9c179e"
            ],
            [
             0.4444444444444444,
             "#bd3786"
            ],
            [
             0.5555555555555556,
             "#d8576b"
            ],
            [
             0.6666666666666666,
             "#ed7953"
            ],
            [
             0.7777777777777778,
             "#fb9f3a"
            ],
            [
             0.8888888888888888,
             "#fdca26"
            ],
            [
             1,
             "#f0f921"
            ]
           ]
          },
          "colorway": [
           "#636efa",
           "#EF553B",
           "#00cc96",
           "#ab63fa",
           "#FFA15A",
           "#19d3f3",
           "#FF6692",
           "#B6E880",
           "#FF97FF",
           "#FECB52"
          ],
          "font": {
           "color": "#2a3f5f"
          },
          "geo": {
           "bgcolor": "white",
           "lakecolor": "white",
           "landcolor": "#E5ECF6",
           "showlakes": true,
           "showland": true,
           "subunitcolor": "white"
          },
          "hoverlabel": {
           "align": "left"
          },
          "hovermode": "closest",
          "mapbox": {
           "style": "light"
          },
          "paper_bgcolor": "white",
          "plot_bgcolor": "#E5ECF6",
          "polar": {
           "angularaxis": {
            "gridcolor": "white",
            "linecolor": "white",
            "ticks": ""
           },
           "bgcolor": "#E5ECF6",
           "radialaxis": {
            "gridcolor": "white",
            "linecolor": "white",
            "ticks": ""
           }
          },
          "scene": {
           "xaxis": {
            "backgroundcolor": "#E5ECF6",
            "gridcolor": "white",
            "gridwidth": 2,
            "linecolor": "white",
            "showbackground": true,
            "ticks": "",
            "zerolinecolor": "white"
           },
           "yaxis": {
            "backgroundcolor": "#E5ECF6",
            "gridcolor": "white",
            "gridwidth": 2,
            "linecolor": "white",
            "showbackground": true,
            "ticks": "",
            "zerolinecolor": "white"
           },
           "zaxis": {
            "backgroundcolor": "#E5ECF6",
            "gridcolor": "white",
            "gridwidth": 2,
            "linecolor": "white",
            "showbackground": true,
            "ticks": "",
            "zerolinecolor": "white"
           }
          },
          "shapedefaults": {
           "line": {
            "color": "#2a3f5f"
           }
          },
          "ternary": {
           "aaxis": {
            "gridcolor": "white",
            "linecolor": "white",
            "ticks": ""
           },
           "baxis": {
            "gridcolor": "white",
            "linecolor": "white",
            "ticks": ""
           },
           "bgcolor": "#E5ECF6",
           "caxis": {
            "gridcolor": "white",
            "linecolor": "white",
            "ticks": ""
           }
          },
          "title": {
           "x": 0.05
          },
          "xaxis": {
           "automargin": true,
           "gridcolor": "white",
           "linecolor": "white",
           "ticks": "",
           "title": {
            "standoff": 15
           },
           "zerolinecolor": "white",
           "zerolinewidth": 2
          },
          "yaxis": {
           "automargin": true,
           "gridcolor": "white",
           "linecolor": "white",
           "ticks": "",
           "title": {
            "standoff": 15
           },
           "zerolinecolor": "white",
           "zerolinewidth": 2
          }
         }
        },
        "title": {
         "text": "Charge Frequencies Over Time"
        },
        "xaxis": {
         "anchor": "y",
         "domain": [
          0,
          1
         ],
         "title": {
          "text": "Year"
         }
        },
        "yaxis": {
         "anchor": "x",
         "domain": [
          0,
          1
         ],
         "title": {
          "text": "Count"
         }
        }
       }
      }
     },
     "metadata": {},
     "output_type": "display_data"
    }
   ],
   "source": [
    "# Creates new DataFrame containing counts of prosecutions per offence type and year\n",
    "phl_by_year = phl_crime.groupby([\"Charge\", \"Year\"],as_index=False).size()\n",
    "\n",
    "# Use px.line() to build line graph and add some formatting\n",
    "fig = px.line(\n",
    "    phl_by_year,\n",
    "    x=\"Year\",\n",
    "    y=\"size\",\n",
    "    title=\"Charge Frequencies Over Time\",\n",
    "    labels={\"size\": \"Count\"},\n",
    "    color=\"Charge\",\n",
    ")\n",
    "\n",
    "fig.update_layout(\n",
    "    font_family=\"Courier New\",  # Update font\n",
    "    font_color=\"blue\",  # Make font blue\n",
    "    legend_title_font_color=\"red\",  # Make legend title red\n",
    "    title=\"Charge Frequencies Over Time\",\n",
    ")\n",
    "\n",
    "fig.show()\n"
   ]
  },
  {
   "cell_type": "code",
   "execution_count": 6,
   "metadata": {},
   "outputs": [
    {
     "data": {
      "application/vnd.plotly.v1+json": {
       "config": {
        "plotlyServerURL": "https://plot.ly"
       },
       "data": [
        {
         "hovertemplate": "Charge=Murder<br>Age of accused=%{x}<br>Victim age=%{y}<extra></extra>",
         "legendgroup": "Murder",
         "marker": {
          "color": "#636efa",
          "symbol": "circle"
         },
         "mode": "markers",
         "name": "Murder",
         "orientation": "v",
         "showlegend": true,
         "type": "scatter",
         "x": [
          null,
          null,
          null,
          null,
          21,
          17,
          null,
          null,
          null,
          null,
          null,
          null,
          16,
          null,
          28,
          33,
          18,
          null,
          null,
          null,
          17,
          58,
          null,
          null,
          null,
          null,
          null,
          null,
          null,
          null,
          null,
          null,
          null,
          null,
          17,
          null,
          null,
          25,
          25,
          null,
          19,
          60,
          null,
          null,
          null,
          98,
          null,
          null,
          null,
          null,
          null,
          22,
          null,
          21,
          null,
          null,
          30,
          null,
          24,
          null,
          23,
          null,
          null,
          null,
          null,
          null,
          null,
          null,
          null,
          50,
          null,
          null,
          null,
          null,
          null,
          null,
          null,
          35,
          47,
          42,
          19,
          null,
          25,
          null,
          null,
          21,
          null,
          23,
          98,
          null,
          35,
          18,
          19,
          60,
          28,
          21,
          44,
          64,
          null,
          21,
          32,
          51,
          42,
          22,
          30,
          36,
          26,
          37,
          36,
          45,
          32,
          41,
          42,
          22,
          24,
          40,
          22,
          42,
          41,
          null,
          22,
          42,
          38,
          20,
          null,
          null,
          35,
          40,
          30,
          40,
          35,
          24,
          27,
          25,
          null,
          35,
          21,
          30,
          null,
          35,
          15,
          16,
          53,
          null,
          null,
          57,
          30,
          30,
          41,
          34,
          22,
          36,
          null,
          28,
          null,
          17,
          98,
          34,
          25,
          25,
          38,
          17,
          20,
          null,
          22,
          31,
          34,
          35,
          31,
          24,
          55,
          30,
          25,
          45,
          29,
          55,
          28,
          25,
          30,
          null,
          23,
          null,
          50,
          35,
          28,
          42,
          23,
          42,
          30,
          30,
          21,
          21,
          25,
          null,
          25,
          20,
          20,
          null,
          null,
          null,
          null,
          null,
          77,
          null,
          null,
          null,
          30,
          29,
          16,
          20,
          null,
          61,
          20,
          56,
          null,
          null,
          null,
          12,
          15,
          45,
          20,
          35,
          null,
          50,
          22,
          null,
          24,
          null,
          null,
          null,
          null,
          null,
          null,
          null,
          28,
          33,
          57,
          36,
          null,
          29,
          35,
          null,
          29,
          28,
          33,
          36,
          30,
          25,
          48,
          38,
          21,
          34,
          31,
          25,
          null,
          52,
          35,
          40,
          null,
          21,
          null,
          30,
          30,
          17,
          null,
          51,
          22,
          30,
          20,
          35,
          29,
          null,
          30,
          40,
          31,
          null,
          40,
          24,
          28,
          35,
          32,
          22,
          45,
          24,
          28,
          38,
          29,
          32,
          null,
          37,
          14,
          31,
          null,
          34,
          null,
          28,
          98,
          22,
          28,
          25,
          25,
          27,
          43,
          null,
          19,
          31,
          30,
          20,
          31,
          24,
          42,
          26,
          46,
          null,
          null,
          52,
          25,
          23,
          25,
          null,
          30,
          null,
          38,
          null,
          null,
          30,
          29,
          37,
          28,
          31,
          98,
          34,
          42,
          29,
          20,
          21,
          28,
          33,
          18,
          null,
          46,
          30,
          20,
          58,
          22,
          26,
          33,
          40,
          43,
          37,
          28,
          27,
          null,
          25,
          28,
          37,
          null,
          29,
          null,
          32,
          23,
          24,
          null,
          null,
          null,
          22,
          null,
          null,
          null,
          44,
          40,
          45,
          27,
          29,
          null,
          null,
          56,
          null,
          37,
          null,
          null,
          33,
          25,
          26,
          null,
          26,
          null,
          30,
          23,
          null,
          null,
          36,
          null,
          null,
          null,
          18,
          null,
          null,
          25,
          null,
          17,
          null,
          41,
          26,
          null,
          29,
          null,
          null,
          null,
          null,
          98,
          null,
          null,
          25,
          null,
          null,
          15,
          34,
          34,
          32,
          null,
          null,
          39,
          null,
          28,
          25,
          25,
          null,
          26,
          27,
          null,
          26,
          13,
          null,
          null,
          27,
          null,
          null,
          42,
          28,
          18,
          null,
          32,
          20,
          38,
          42,
          20,
          39,
          39,
          31,
          16,
          35,
          30,
          30,
          39,
          22,
          35,
          23,
          14,
          31,
          39,
          22,
          27,
          32,
          23,
          29,
          26,
          38,
          30,
          26,
          39,
          24,
          30,
          30,
          40,
          40,
          37,
          41,
          35,
          null,
          25,
          null,
          null,
          30,
          42,
          37,
          23,
          null,
          25,
          null,
          66,
          29,
          55,
          40,
          32,
          null,
          30,
          null,
          31,
          35,
          32,
          37,
          24,
          54,
          34,
          null,
          20,
          34,
          null,
          20,
          null,
          null,
          null,
          30,
          31,
          null,
          null,
          55,
          null,
          28,
          19,
          19,
          17,
          20,
          32,
          38,
          27,
          null,
          34,
          37,
          26,
          null,
          37,
          null,
          39,
          38,
          40,
          54,
          30,
          null,
          37,
          42,
          41,
          null,
          null,
          36,
          15,
          47
         ],
         "xaxis": "x",
         "y": [
          null,
          null,
          null,
          null,
          21,
          23,
          null,
          50,
          21,
          null,
          null,
          null,
          25,
          null,
          50,
          28,
          22,
          null,
          null,
          null,
          null,
          null,
          55,
          null,
          10,
          null,
          null,
          null,
          8,
          null,
          null,
          59,
          null,
          1,
          27,
          null,
          59,
          30,
          25,
          null,
          17,
          null,
          null,
          null,
          null,
          null,
          null,
          28,
          null,
          null,
          null,
          23,
          null,
          39,
          null,
          null,
          30,
          null,
          null,
          null,
          27,
          null,
          null,
          12,
          null,
          40,
          null,
          null,
          null,
          null,
          null,
          60,
          null,
          65,
          null,
          null,
          27,
          30,
          20,
          null,
          19,
          null,
          28,
          null,
          1,
          null,
          null,
          69,
          31,
          17,
          48,
          25,
          35,
          15,
          30,
          25,
          28,
          38,
          38,
          20,
          30,
          26,
          18,
          26,
          20,
          24,
          31,
          32,
          45,
          35,
          26,
          60,
          36,
          29,
          59,
          34,
          35,
          8,
          31,
          null,
          21,
          33,
          null,
          48,
          null,
          21,
          36,
          38,
          26,
          26,
          36,
          null,
          51,
          24,
          null,
          38,
          18,
          24,
          44,
          26,
          11,
          16,
          38,
          null,
          23,
          40,
          35,
          37,
          38,
          25,
          57,
          35,
          1,
          25,
          28,
          38,
          null,
          29,
          26,
          45,
          36,
          50,
          26,
          33,
          33,
          23,
          null,
          24,
          23,
          28,
          38,
          33,
          30,
          40,
          27,
          47,
          32,
          27,
          25,
          null,
          25,
          42,
          45,
          24,
          36,
          31,
          24,
          40,
          34,
          26,
          46,
          25,
          28,
          null,
          24,
          21,
          20,
          35,
          null,
          null,
          null,
          null,
          null,
          null,
          48,
          null,
          25,
          25,
          10,
          38,
          75,
          36,
          21,
          35,
          30,
          22,
          45,
          10,
          15,
          47,
          null,
          33,
          63,
          20,
          30,
          38,
          null,
          null,
          38,
          25,
          25,
          35,
          null,
          21,
          31,
          69,
          36,
          32,
          null,
          33,
          26,
          31,
          36,
          20,
          null,
          40,
          26,
          30,
          48,
          31,
          20,
          47,
          37,
          null,
          null,
          26,
          45,
          35,
          null,
          20,
          15,
          36,
          30,
          30,
          24,
          45,
          null,
          30,
          30,
          null,
          31,
          88,
          30,
          38,
          30,
          45,
          34,
          47,
          25,
          40,
          20,
          37,
          24,
          32,
          27,
          55,
          42,
          36,
          null,
          33,
          8,
          44,
          59,
          5,
          12,
          null,
          59,
          25,
          46,
          26,
          null,
          27,
          30,
          50,
          31,
          36,
          30,
          35,
          30,
          25,
          27,
          21,
          null,
          76,
          37,
          39,
          24,
          null,
          22,
          null,
          9,
          1,
          27,
          6,
          null,
          30,
          50,
          45,
          55,
          33,
          null,
          51,
          35,
          null,
          16,
          23,
          17,
          37,
          21,
          null,
          27,
          50,
          30,
          50,
          17,
          27,
          32,
          39,
          23,
          37,
          23,
          32,
          null,
          39,
          25,
          43,
          null,
          54,
          42,
          28,
          25,
          23,
          25,
          48,
          null,
          42,
          21,
          26,
          35,
          25,
          33,
          40,
          31,
          40,
          21,
          27,
          35,
          38,
          37,
          37,
          33,
          55,
          27,
          29,
          null,
          26,
          47,
          65,
          39,
          27,
          26,
          25,
          23,
          17,
          null,
          17,
          35,
          null,
          24,
          null,
          null,
          null,
          null,
          null,
          null,
          31,
          null,
          41,
          null,
          null,
          null,
          null,
          35,
          null,
          null,
          null,
          21,
          41,
          26,
          22,
          null,
          50,
          32,
          null,
          29,
          41,
          32,
          null,
          48,
          null,
          null,
          21,
          43,
          19,
          null,
          null,
          null,
          null,
          52,
          31,
          22,
          null,
          42,
          21,
          41,
          40,
          69,
          41,
          42,
          31,
          7,
          28,
          22,
          30,
          39,
          35,
          17,
          26,
          10,
          19,
          45,
          31,
          43,
          32,
          19,
          49,
          26,
          22,
          35,
          25,
          null,
          23,
          35,
          42,
          27,
          40,
          30,
          33,
          37,
          null,
          35,
          44,
          null,
          33,
          64,
          34,
          24,
          null,
          39,
          51,
          39,
          29,
          50,
          null,
          null,
          64,
          26,
          20,
          32,
          29,
          28,
          23,
          27,
          21,
          56,
          20,
          21,
          19,
          22,
          27,
          32,
          23,
          37,
          22,
          40,
          21,
          62,
          43,
          47,
          27,
          49,
          23,
          8,
          63,
          41,
          33,
          46,
          35,
          29,
          34,
          23,
          25,
          37,
          9,
          30,
          32,
          42,
          44,
          22,
          61,
          43,
          36,
          39,
          38,
          40,
          36,
          11,
          27
         ],
         "yaxis": "y"
        },
        {
         "hovertemplate": "Charge=Abortion<br>Age of accused=%{x}<br>Victim age=%{y}<extra></extra>",
         "legendgroup": "Abortion",
         "marker": {
          "color": "#EF553B",
          "symbol": "circle"
         },
         "mode": "markers",
         "name": "Abortion",
         "orientation": "v",
         "showlegend": true,
         "type": "scatter",
         "x": [
          47,
          null,
          null,
          null,
          null,
          null,
          null,
          null,
          null,
          null,
          null,
          null,
          null,
          null,
          null,
          null,
          null,
          null,
          null,
          null,
          null,
          null,
          null,
          null,
          60,
          null,
          null,
          null,
          null,
          null,
          null,
          null,
          null,
          null,
          53,
          null,
          52,
          null,
          null,
          null,
          null,
          null,
          null,
          null,
          null,
          null,
          null,
          null,
          null,
          null,
          null,
          26,
          null,
          null
         ],
         "xaxis": "x",
         "y": [
          null,
          null,
          38,
          null,
          null,
          null,
          null,
          null,
          null,
          null,
          null,
          null,
          59,
          null,
          null,
          59,
          null,
          null,
          null,
          null,
          null,
          35,
          null,
          null,
          null,
          null,
          null,
          null,
          20,
          null,
          null,
          null,
          59,
          null,
          null,
          null,
          null,
          23,
          null,
          null,
          null,
          59,
          null,
          null,
          null,
          null,
          18,
          null,
          null,
          null,
          null,
          26,
          null,
          null
         ],
         "yaxis": "y"
        },
        {
         "hovertemplate": "Charge=Manslaughter<br>Age of accused=%{x}<br>Victim age=%{y}<extra></extra>",
         "legendgroup": "Manslaughter",
         "marker": {
          "color": "#00cc96",
          "symbol": "circle"
         },
         "mode": "markers",
         "name": "Manslaughter",
         "orientation": "v",
         "showlegend": true,
         "type": "scatter",
         "x": [
          null,
          null,
          null,
          null,
          null,
          null,
          15,
          19,
          null,
          19,
          null,
          98,
          null,
          null,
          35,
          35,
          23,
          56,
          null,
          null,
          null,
          null,
          null,
          22,
          null,
          59,
          null,
          null,
          null,
          33,
          26,
          null,
          42,
          null,
          null,
          26,
          null,
          null,
          23,
          null,
          null,
          23,
          18,
          16,
          null,
          null,
          null,
          24,
          null,
          19,
          null,
          29,
          null,
          null,
          93,
          19,
          24,
          null,
          null,
          25,
          null,
          null,
          30,
          null,
          null,
          30,
          null,
          null,
          null,
          null,
          41,
          25,
          null,
          null,
          null,
          null,
          26,
          null,
          29,
          34,
          19,
          null,
          null,
          null,
          null,
          null,
          24,
          25,
          22,
          null,
          null,
          null,
          null,
          null,
          null,
          null,
          null,
          null,
          18,
          null,
          null,
          36,
          24,
          null,
          28,
          44,
          null,
          null,
          33,
          null,
          null,
          40
         ],
         "xaxis": "x",
         "y": [
          null,
          49,
          19,
          null,
          null,
          17,
          15,
          18,
          null,
          61,
          29,
          11,
          35,
          10,
          48,
          48,
          35,
          56,
          null,
          2,
          null,
          null,
          null,
          65,
          53,
          45,
          48,
          null,
          null,
          1,
          36,
          null,
          40,
          null,
          null,
          34,
          null,
          null,
          39,
          5,
          null,
          31,
          null,
          17,
          28,
          null,
          null,
          73,
          null,
          null,
          null,
          null,
          10,
          null,
          null,
          null,
          21,
          null,
          null,
          47,
          8,
          67,
          36,
          null,
          null,
          31,
          23,
          null,
          9,
          70,
          61,
          10,
          48,
          null,
          22,
          30,
          57,
          null,
          62,
          null,
          14,
          59,
          null,
          9,
          42,
          null,
          60,
          21,
          20,
          4,
          null,
          9,
          null,
          null,
          null,
          null,
          null,
          46,
          34,
          59,
          null,
          55,
          9,
          81,
          28,
          70,
          28,
          21,
          2,
          null,
          34,
          45
         ],
         "yaxis": "y"
        }
       ],
       "layout": {
        "legend": {
         "title": {
          "text": "Charge"
         },
         "tracegroupgap": 0
        },
        "template": {
         "data": {
          "bar": [
           {
            "error_x": {
             "color": "#2a3f5f"
            },
            "error_y": {
             "color": "#2a3f5f"
            },
            "marker": {
             "line": {
              "color": "#E5ECF6",
              "width": 0.5
             },
             "pattern": {
              "fillmode": "overlay",
              "size": 10,
              "solidity": 0.2
             }
            },
            "type": "bar"
           }
          ],
          "barpolar": [
           {
            "marker": {
             "line": {
              "color": "#E5ECF6",
              "width": 0.5
             },
             "pattern": {
              "fillmode": "overlay",
              "size": 10,
              "solidity": 0.2
             }
            },
            "type": "barpolar"
           }
          ],
          "carpet": [
           {
            "aaxis": {
             "endlinecolor": "#2a3f5f",
             "gridcolor": "white",
             "linecolor": "white",
             "minorgridcolor": "white",
             "startlinecolor": "#2a3f5f"
            },
            "baxis": {
             "endlinecolor": "#2a3f5f",
             "gridcolor": "white",
             "linecolor": "white",
             "minorgridcolor": "white",
             "startlinecolor": "#2a3f5f"
            },
            "type": "carpet"
           }
          ],
          "choropleth": [
           {
            "colorbar": {
             "outlinewidth": 0,
             "ticks": ""
            },
            "type": "choropleth"
           }
          ],
          "contour": [
           {
            "colorbar": {
             "outlinewidth": 0,
             "ticks": ""
            },
            "colorscale": [
             [
              0,
              "#0d0887"
             ],
             [
              0.1111111111111111,
              "#46039f"
             ],
             [
              0.2222222222222222,
              "#7201a8"
             ],
             [
              0.3333333333333333,
              "#9c179e"
             ],
             [
              0.4444444444444444,
              "#bd3786"
             ],
             [
              0.5555555555555556,
              "#d8576b"
             ],
             [
              0.6666666666666666,
              "#ed7953"
             ],
             [
              0.7777777777777778,
              "#fb9f3a"
             ],
             [
              0.8888888888888888,
              "#fdca26"
             ],
             [
              1,
              "#f0f921"
             ]
            ],
            "type": "contour"
           }
          ],
          "contourcarpet": [
           {
            "colorbar": {
             "outlinewidth": 0,
             "ticks": ""
            },
            "type": "contourcarpet"
           }
          ],
          "heatmap": [
           {
            "colorbar": {
             "outlinewidth": 0,
             "ticks": ""
            },
            "colorscale": [
             [
              0,
              "#0d0887"
             ],
             [
              0.1111111111111111,
              "#46039f"
             ],
             [
              0.2222222222222222,
              "#7201a8"
             ],
             [
              0.3333333333333333,
              "#9c179e"
             ],
             [
              0.4444444444444444,
              "#bd3786"
             ],
             [
              0.5555555555555556,
              "#d8576b"
             ],
             [
              0.6666666666666666,
              "#ed7953"
             ],
             [
              0.7777777777777778,
              "#fb9f3a"
             ],
             [
              0.8888888888888888,
              "#fdca26"
             ],
             [
              1,
              "#f0f921"
             ]
            ],
            "type": "heatmap"
           }
          ],
          "heatmapgl": [
           {
            "colorbar": {
             "outlinewidth": 0,
             "ticks": ""
            },
            "colorscale": [
             [
              0,
              "#0d0887"
             ],
             [
              0.1111111111111111,
              "#46039f"
             ],
             [
              0.2222222222222222,
              "#7201a8"
             ],
             [
              0.3333333333333333,
              "#9c179e"
             ],
             [
              0.4444444444444444,
              "#bd3786"
             ],
             [
              0.5555555555555556,
              "#d8576b"
             ],
             [
              0.6666666666666666,
              "#ed7953"
             ],
             [
              0.7777777777777778,
              "#fb9f3a"
             ],
             [
              0.8888888888888888,
              "#fdca26"
             ],
             [
              1,
              "#f0f921"
             ]
            ],
            "type": "heatmapgl"
           }
          ],
          "histogram": [
           {
            "marker": {
             "pattern": {
              "fillmode": "overlay",
              "size": 10,
              "solidity": 0.2
             }
            },
            "type": "histogram"
           }
          ],
          "histogram2d": [
           {
            "colorbar": {
             "outlinewidth": 0,
             "ticks": ""
            },
            "colorscale": [
             [
              0,
              "#0d0887"
             ],
             [
              0.1111111111111111,
              "#46039f"
             ],
             [
              0.2222222222222222,
              "#7201a8"
             ],
             [
              0.3333333333333333,
              "#9c179e"
             ],
             [
              0.4444444444444444,
              "#bd3786"
             ],
             [
              0.5555555555555556,
              "#d8576b"
             ],
             [
              0.6666666666666666,
              "#ed7953"
             ],
             [
              0.7777777777777778,
              "#fb9f3a"
             ],
             [
              0.8888888888888888,
              "#fdca26"
             ],
             [
              1,
              "#f0f921"
             ]
            ],
            "type": "histogram2d"
           }
          ],
          "histogram2dcontour": [
           {
            "colorbar": {
             "outlinewidth": 0,
             "ticks": ""
            },
            "colorscale": [
             [
              0,
              "#0d0887"
             ],
             [
              0.1111111111111111,
              "#46039f"
             ],
             [
              0.2222222222222222,
              "#7201a8"
             ],
             [
              0.3333333333333333,
              "#9c179e"
             ],
             [
              0.4444444444444444,
              "#bd3786"
             ],
             [
              0.5555555555555556,
              "#d8576b"
             ],
             [
              0.6666666666666666,
              "#ed7953"
             ],
             [
              0.7777777777777778,
              "#fb9f3a"
             ],
             [
              0.8888888888888888,
              "#fdca26"
             ],
             [
              1,
              "#f0f921"
             ]
            ],
            "type": "histogram2dcontour"
           }
          ],
          "mesh3d": [
           {
            "colorbar": {
             "outlinewidth": 0,
             "ticks": ""
            },
            "type": "mesh3d"
           }
          ],
          "parcoords": [
           {
            "line": {
             "colorbar": {
              "outlinewidth": 0,
              "ticks": ""
             }
            },
            "type": "parcoords"
           }
          ],
          "pie": [
           {
            "automargin": true,
            "type": "pie"
           }
          ],
          "scatter": [
           {
            "fillpattern": {
             "fillmode": "overlay",
             "size": 10,
             "solidity": 0.2
            },
            "type": "scatter"
           }
          ],
          "scatter3d": [
           {
            "line": {
             "colorbar": {
              "outlinewidth": 0,
              "ticks": ""
             }
            },
            "marker": {
             "colorbar": {
              "outlinewidth": 0,
              "ticks": ""
             }
            },
            "type": "scatter3d"
           }
          ],
          "scattercarpet": [
           {
            "marker": {
             "colorbar": {
              "outlinewidth": 0,
              "ticks": ""
             }
            },
            "type": "scattercarpet"
           }
          ],
          "scattergeo": [
           {
            "marker": {
             "colorbar": {
              "outlinewidth": 0,
              "ticks": ""
             }
            },
            "type": "scattergeo"
           }
          ],
          "scattergl": [
           {
            "marker": {
             "colorbar": {
              "outlinewidth": 0,
              "ticks": ""
             }
            },
            "type": "scattergl"
           }
          ],
          "scattermapbox": [
           {
            "marker": {
             "colorbar": {
              "outlinewidth": 0,
              "ticks": ""
             }
            },
            "type": "scattermapbox"
           }
          ],
          "scatterpolar": [
           {
            "marker": {
             "colorbar": {
              "outlinewidth": 0,
              "ticks": ""
             }
            },
            "type": "scatterpolar"
           }
          ],
          "scatterpolargl": [
           {
            "marker": {
             "colorbar": {
              "outlinewidth": 0,
              "ticks": ""
             }
            },
            "type": "scatterpolargl"
           }
          ],
          "scatterternary": [
           {
            "marker": {
             "colorbar": {
              "outlinewidth": 0,
              "ticks": ""
             }
            },
            "type": "scatterternary"
           }
          ],
          "surface": [
           {
            "colorbar": {
             "outlinewidth": 0,
             "ticks": ""
            },
            "colorscale": [
             [
              0,
              "#0d0887"
             ],
             [
              0.1111111111111111,
              "#46039f"
             ],
             [
              0.2222222222222222,
              "#7201a8"
             ],
             [
              0.3333333333333333,
              "#9c179e"
             ],
             [
              0.4444444444444444,
              "#bd3786"
             ],
             [
              0.5555555555555556,
              "#d8576b"
             ],
             [
              0.6666666666666666,
              "#ed7953"
             ],
             [
              0.7777777777777778,
              "#fb9f3a"
             ],
             [
              0.8888888888888888,
              "#fdca26"
             ],
             [
              1,
              "#f0f921"
             ]
            ],
            "type": "surface"
           }
          ],
          "table": [
           {
            "cells": {
             "fill": {
              "color": "#EBF0F8"
             },
             "line": {
              "color": "white"
             }
            },
            "header": {
             "fill": {
              "color": "#C8D4E3"
             },
             "line": {
              "color": "white"
             }
            },
            "type": "table"
           }
          ]
         },
         "layout": {
          "annotationdefaults": {
           "arrowcolor": "#2a3f5f",
           "arrowhead": 0,
           "arrowwidth": 1
          },
          "autotypenumbers": "strict",
          "coloraxis": {
           "colorbar": {
            "outlinewidth": 0,
            "ticks": ""
           }
          },
          "colorscale": {
           "diverging": [
            [
             0,
             "#8e0152"
            ],
            [
             0.1,
             "#c51b7d"
            ],
            [
             0.2,
             "#de77ae"
            ],
            [
             0.3,
             "#f1b6da"
            ],
            [
             0.4,
             "#fde0ef"
            ],
            [
             0.5,
             "#f7f7f7"
            ],
            [
             0.6,
             "#e6f5d0"
            ],
            [
             0.7,
             "#b8e186"
            ],
            [
             0.8,
             "#7fbc41"
            ],
            [
             0.9,
             "#4d9221"
            ],
            [
             1,
             "#276419"
            ]
           ],
           "sequential": [
            [
             0,
             "#0d0887"
            ],
            [
             0.1111111111111111,
             "#46039f"
            ],
            [
             0.2222222222222222,
             "#7201a8"
            ],
            [
             0.3333333333333333,
             "#9c179e"
            ],
            [
             0.4444444444444444,
             "#bd3786"
            ],
            [
             0.5555555555555556,
             "#d8576b"
            ],
            [
             0.6666666666666666,
             "#ed7953"
            ],
            [
             0.7777777777777778,
             "#fb9f3a"
            ],
            [
             0.8888888888888888,
             "#fdca26"
            ],
            [
             1,
             "#f0f921"
            ]
           ],
           "sequentialminus": [
            [
             0,
             "#0d0887"
            ],
            [
             0.1111111111111111,
             "#46039f"
            ],
            [
             0.2222222222222222,
             "#7201a8"
            ],
            [
             0.3333333333333333,
             "#9c179e"
            ],
            [
             0.4444444444444444,
             "#bd3786"
            ],
            [
             0.5555555555555556,
             "#d8576b"
            ],
            [
             0.6666666666666666,
             "#ed7953"
            ],
            [
             0.7777777777777778,
             "#fb9f3a"
            ],
            [
             0.8888888888888888,
             "#fdca26"
            ],
            [
             1,
             "#f0f921"
            ]
           ]
          },
          "colorway": [
           "#636efa",
           "#EF553B",
           "#00cc96",
           "#ab63fa",
           "#FFA15A",
           "#19d3f3",
           "#FF6692",
           "#B6E880",
           "#FF97FF",
           "#FECB52"
          ],
          "font": {
           "color": "#2a3f5f"
          },
          "geo": {
           "bgcolor": "white",
           "lakecolor": "white",
           "landcolor": "#E5ECF6",
           "showlakes": true,
           "showland": true,
           "subunitcolor": "white"
          },
          "hoverlabel": {
           "align": "left"
          },
          "hovermode": "closest",
          "mapbox": {
           "style": "light"
          },
          "paper_bgcolor": "white",
          "plot_bgcolor": "#E5ECF6",
          "polar": {
           "angularaxis": {
            "gridcolor": "white",
            "linecolor": "white",
            "ticks": ""
           },
           "bgcolor": "#E5ECF6",
           "radialaxis": {
            "gridcolor": "white",
            "linecolor": "white",
            "ticks": ""
           }
          },
          "scene": {
           "xaxis": {
            "backgroundcolor": "#E5ECF6",
            "gridcolor": "white",
            "gridwidth": 2,
            "linecolor": "white",
            "showbackground": true,
            "ticks": "",
            "zerolinecolor": "white"
           },
           "yaxis": {
            "backgroundcolor": "#E5ECF6",
            "gridcolor": "white",
            "gridwidth": 2,
            "linecolor": "white",
            "showbackground": true,
            "ticks": "",
            "zerolinecolor": "white"
           },
           "zaxis": {
            "backgroundcolor": "#E5ECF6",
            "gridcolor": "white",
            "gridwidth": 2,
            "linecolor": "white",
            "showbackground": true,
            "ticks": "",
            "zerolinecolor": "white"
           }
          },
          "shapedefaults": {
           "line": {
            "color": "#2a3f5f"
           }
          },
          "ternary": {
           "aaxis": {
            "gridcolor": "white",
            "linecolor": "white",
            "ticks": ""
           },
           "baxis": {
            "gridcolor": "white",
            "linecolor": "white",
            "ticks": ""
           },
           "bgcolor": "#E5ECF6",
           "caxis": {
            "gridcolor": "white",
            "linecolor": "white",
            "ticks": ""
           }
          },
          "title": {
           "x": 0.05
          },
          "xaxis": {
           "automargin": true,
           "gridcolor": "white",
           "linecolor": "white",
           "ticks": "",
           "title": {
            "standoff": 15
           },
           "zerolinecolor": "white",
           "zerolinewidth": 2
          },
          "yaxis": {
           "automargin": true,
           "gridcolor": "white",
           "linecolor": "white",
           "ticks": "",
           "title": {
            "standoff": 15
           },
           "zerolinecolor": "white",
           "zerolinewidth": 2
          }
         }
        },
        "title": {
         "text": "Relationship of Victim and Assailant Ages"
        },
        "xaxis": {
         "anchor": "y",
         "domain": [
          0,
          1
         ],
         "title": {
          "text": "Age of accused"
         }
        },
        "yaxis": {
         "anchor": "x",
         "domain": [
          0,
          1
         ],
         "title": {
          "text": "Victim age"
         }
        }
       }
      }
     },
     "metadata": {},
     "output_type": "display_data"
    }
   ],
   "source": [
    "fig = px.scatter(\n",
    "    phl_crime,\n",
    "    x=\"Age of accused\",\n",
    "    y=\"Victim age\",\n",
    "    color=\"Charge\",  # Add\n",
    "    title=\"Relationship of Victim and Assailant Ages\",\n",
    ")\n",
    "fig.show()"
   ]
  },
  {
   "cell_type": "code",
   "execution_count": 7,
   "metadata": {},
   "outputs": [
    {
     "data": {
      "application/vnd.plotly.v1+json": {
       "config": {
        "plotlyServerURL": "https://plot.ly"
       },
       "data": [
        {
         "alignmentgroup": "True",
         "hovertemplate": "Weapon=%{x}<br>Gender of accused=Female<br>size=%{y}<extra></extra>",
         "legendgroup": "Blunt object",
         "marker": {
          "color": "#636efa",
          "pattern": {
           "shape": ""
          }
         },
         "name": "Blunt object",
         "offsetgroup": "Blunt object",
         "orientation": "v",
         "showlegend": true,
         "textposition": "auto",
         "type": "bar",
         "x": [
          "Blunt object"
         ],
         "xaxis": "x",
         "y": [
          2
         ],
         "yaxis": "y"
        },
        {
         "alignmentgroup": "True",
         "hovertemplate": "Weapon=%{x}<br>Gender of accused=Male<br>size=%{y}<extra></extra>",
         "legendgroup": "Blunt object",
         "marker": {
          "color": "#636efa",
          "pattern": {
           "shape": ""
          }
         },
         "name": "Blunt object",
         "offsetgroup": "Blunt object",
         "orientation": "v",
         "showlegend": false,
         "textposition": "auto",
         "type": "bar",
         "x": [
          "Blunt object"
         ],
         "xaxis": "x2",
         "y": [
          25
         ],
         "yaxis": "y2"
        },
        {
         "alignmentgroup": "True",
         "hovertemplate": "Weapon=%{x}<br>Gender of accused=Male<br>size=%{y}<extra></extra>",
         "legendgroup": "Fist, other body part",
         "marker": {
          "color": "#EF553B",
          "pattern": {
           "shape": ""
          }
         },
         "name": "Fist, other body part",
         "offsetgroup": "Fist, other body part",
         "orientation": "v",
         "showlegend": true,
         "textposition": "auto",
         "type": "bar",
         "x": [
          "Fist, other body part"
         ],
         "xaxis": "x2",
         "y": [
          32
         ],
         "yaxis": "y2"
        },
        {
         "alignmentgroup": "True",
         "hovertemplate": "Weapon=%{x}<br>Gender of accused=Female<br>size=%{y}<extra></extra>",
         "legendgroup": "Gun",
         "marker": {
          "color": "#00cc96",
          "pattern": {
           "shape": ""
          }
         },
         "name": "Gun",
         "offsetgroup": "Gun",
         "orientation": "v",
         "showlegend": true,
         "textposition": "auto",
         "type": "bar",
         "x": [
          "Gun"
         ],
         "xaxis": "x",
         "y": [
          17
         ],
         "yaxis": "y"
        },
        {
         "alignmentgroup": "True",
         "hovertemplate": "Weapon=%{x}<br>Gender of accused=Male<br>size=%{y}<extra></extra>",
         "legendgroup": "Gun",
         "marker": {
          "color": "#00cc96",
          "pattern": {
           "shape": ""
          }
         },
         "name": "Gun",
         "offsetgroup": "Gun",
         "orientation": "v",
         "showlegend": false,
         "textposition": "auto",
         "type": "bar",
         "x": [
          "Gun"
         ],
         "xaxis": "x2",
         "y": [
          277
         ],
         "yaxis": "y2"
        },
        {
         "alignmentgroup": "True",
         "hovertemplate": "Weapon=%{x}<br>Gender of accused=Female<br>size=%{y}<extra></extra>",
         "legendgroup": "Knife, sharp instrument",
         "marker": {
          "color": "#ab63fa",
          "pattern": {
           "shape": ""
          }
         },
         "name": "Knife, sharp instrument",
         "offsetgroup": "Knife, sharp instrument",
         "orientation": "v",
         "showlegend": true,
         "textposition": "auto",
         "type": "bar",
         "x": [
          "Knife, sharp instrument"
         ],
         "xaxis": "x",
         "y": [
          9
         ],
         "yaxis": "y"
        },
        {
         "alignmentgroup": "True",
         "hovertemplate": "Weapon=%{x}<br>Gender of accused=Male<br>size=%{y}<extra></extra>",
         "legendgroup": "Knife, sharp instrument",
         "marker": {
          "color": "#ab63fa",
          "pattern": {
           "shape": ""
          }
         },
         "name": "Knife, sharp instrument",
         "offsetgroup": "Knife, sharp instrument",
         "orientation": "v",
         "showlegend": false,
         "textposition": "auto",
         "type": "bar",
         "x": [
          "Knife, sharp instrument"
         ],
         "xaxis": "x2",
         "y": [
          76
         ],
         "yaxis": "y2"
        },
        {
         "alignmentgroup": "True",
         "hovertemplate": "Weapon=%{x}<br>Gender of accused=Female<br>size=%{y}<extra></extra>",
         "legendgroup": "Other",
         "marker": {
          "color": "#FFA15A",
          "pattern": {
           "shape": ""
          }
         },
         "name": "Other",
         "offsetgroup": "Other",
         "orientation": "v",
         "showlegend": true,
         "textposition": "auto",
         "type": "bar",
         "x": [
          "Other"
         ],
         "xaxis": "x",
         "y": [
          6
         ],
         "yaxis": "y"
        },
        {
         "alignmentgroup": "True",
         "hovertemplate": "Weapon=%{x}<br>Gender of accused=Male<br>size=%{y}<extra></extra>",
         "legendgroup": "Other",
         "marker": {
          "color": "#FFA15A",
          "pattern": {
           "shape": ""
          }
         },
         "name": "Other",
         "offsetgroup": "Other",
         "orientation": "v",
         "showlegend": false,
         "textposition": "auto",
         "type": "bar",
         "x": [
          "Other"
         ],
         "xaxis": "x2",
         "y": [
          19
         ],
         "yaxis": "y2"
        },
        {
         "alignmentgroup": "True",
         "hovertemplate": "Weapon=%{x}<br>Gender of accused=Male<br>size=%{y}<extra></extra>",
         "legendgroup": "Poison",
         "marker": {
          "color": "#19d3f3",
          "pattern": {
           "shape": ""
          }
         },
         "name": "Poison",
         "offsetgroup": "Poison",
         "orientation": "v",
         "showlegend": true,
         "textposition": "auto",
         "type": "bar",
         "x": [
          "Poison"
         ],
         "xaxis": "x2",
         "y": [
          1
         ],
         "yaxis": "y2"
        },
        {
         "alignmentgroup": "True",
         "hovertemplate": "Weapon=%{x}<br>Gender of accused=Female<br>size=%{y}<extra></extra>",
         "legendgroup": "Vehicle",
         "marker": {
          "color": "#FF6692",
          "pattern": {
           "shape": ""
          }
         },
         "name": "Vehicle",
         "offsetgroup": "Vehicle",
         "orientation": "v",
         "showlegend": true,
         "textposition": "auto",
         "type": "bar",
         "x": [
          "Vehicle"
         ],
         "xaxis": "x",
         "y": [
          2
         ],
         "yaxis": "y"
        },
        {
         "alignmentgroup": "True",
         "hovertemplate": "Weapon=%{x}<br>Gender of accused=Male<br>size=%{y}<extra></extra>",
         "legendgroup": "Vehicle",
         "marker": {
          "color": "#FF6692",
          "pattern": {
           "shape": ""
          }
         },
         "name": "Vehicle",
         "offsetgroup": "Vehicle",
         "orientation": "v",
         "showlegend": false,
         "textposition": "auto",
         "type": "bar",
         "x": [
          "Vehicle"
         ],
         "xaxis": "x2",
         "y": [
          74
         ],
         "yaxis": "y2"
        }
       ],
       "layout": {
        "annotations": [
         {
          "font": {},
          "showarrow": false,
          "text": "Gender of accused=Female",
          "x": 0.245,
          "xanchor": "center",
          "xref": "paper",
          "y": 1,
          "yanchor": "bottom",
          "yref": "paper"
         },
         {
          "font": {},
          "showarrow": false,
          "text": "Gender of accused=Male",
          "x": 0.755,
          "xanchor": "center",
          "xref": "paper",
          "y": 1,
          "yanchor": "bottom",
          "yref": "paper"
         }
        ],
        "barmode": "relative",
        "legend": {
         "title": {
          "text": "Weapon"
         },
         "tracegroupgap": 0
        },
        "template": {
         "data": {
          "bar": [
           {
            "error_x": {
             "color": "#2a3f5f"
            },
            "error_y": {
             "color": "#2a3f5f"
            },
            "marker": {
             "line": {
              "color": "#E5ECF6",
              "width": 0.5
             },
             "pattern": {
              "fillmode": "overlay",
              "size": 10,
              "solidity": 0.2
             }
            },
            "type": "bar"
           }
          ],
          "barpolar": [
           {
            "marker": {
             "line": {
              "color": "#E5ECF6",
              "width": 0.5
             },
             "pattern": {
              "fillmode": "overlay",
              "size": 10,
              "solidity": 0.2
             }
            },
            "type": "barpolar"
           }
          ],
          "carpet": [
           {
            "aaxis": {
             "endlinecolor": "#2a3f5f",
             "gridcolor": "white",
             "linecolor": "white",
             "minorgridcolor": "white",
             "startlinecolor": "#2a3f5f"
            },
            "baxis": {
             "endlinecolor": "#2a3f5f",
             "gridcolor": "white",
             "linecolor": "white",
             "minorgridcolor": "white",
             "startlinecolor": "#2a3f5f"
            },
            "type": "carpet"
           }
          ],
          "choropleth": [
           {
            "colorbar": {
             "outlinewidth": 0,
             "ticks": ""
            },
            "type": "choropleth"
           }
          ],
          "contour": [
           {
            "colorbar": {
             "outlinewidth": 0,
             "ticks": ""
            },
            "colorscale": [
             [
              0,
              "#0d0887"
             ],
             [
              0.1111111111111111,
              "#46039f"
             ],
             [
              0.2222222222222222,
              "#7201a8"
             ],
             [
              0.3333333333333333,
              "#9c179e"
             ],
             [
              0.4444444444444444,
              "#bd3786"
             ],
             [
              0.5555555555555556,
              "#d8576b"
             ],
             [
              0.6666666666666666,
              "#ed7953"
             ],
             [
              0.7777777777777778,
              "#fb9f3a"
             ],
             [
              0.8888888888888888,
              "#fdca26"
             ],
             [
              1,
              "#f0f921"
             ]
            ],
            "type": "contour"
           }
          ],
          "contourcarpet": [
           {
            "colorbar": {
             "outlinewidth": 0,
             "ticks": ""
            },
            "type": "contourcarpet"
           }
          ],
          "heatmap": [
           {
            "colorbar": {
             "outlinewidth": 0,
             "ticks": ""
            },
            "colorscale": [
             [
              0,
              "#0d0887"
             ],
             [
              0.1111111111111111,
              "#46039f"
             ],
             [
              0.2222222222222222,
              "#7201a8"
             ],
             [
              0.3333333333333333,
              "#9c179e"
             ],
             [
              0.4444444444444444,
              "#bd3786"
             ],
             [
              0.5555555555555556,
              "#d8576b"
             ],
             [
              0.6666666666666666,
              "#ed7953"
             ],
             [
              0.7777777777777778,
              "#fb9f3a"
             ],
             [
              0.8888888888888888,
              "#fdca26"
             ],
             [
              1,
              "#f0f921"
             ]
            ],
            "type": "heatmap"
           }
          ],
          "heatmapgl": [
           {
            "colorbar": {
             "outlinewidth": 0,
             "ticks": ""
            },
            "colorscale": [
             [
              0,
              "#0d0887"
             ],
             [
              0.1111111111111111,
              "#46039f"
             ],
             [
              0.2222222222222222,
              "#7201a8"
             ],
             [
              0.3333333333333333,
              "#9c179e"
             ],
             [
              0.4444444444444444,
              "#bd3786"
             ],
             [
              0.5555555555555556,
              "#d8576b"
             ],
             [
              0.6666666666666666,
              "#ed7953"
             ],
             [
              0.7777777777777778,
              "#fb9f3a"
             ],
             [
              0.8888888888888888,
              "#fdca26"
             ],
             [
              1,
              "#f0f921"
             ]
            ],
            "type": "heatmapgl"
           }
          ],
          "histogram": [
           {
            "marker": {
             "pattern": {
              "fillmode": "overlay",
              "size": 10,
              "solidity": 0.2
             }
            },
            "type": "histogram"
           }
          ],
          "histogram2d": [
           {
            "colorbar": {
             "outlinewidth": 0,
             "ticks": ""
            },
            "colorscale": [
             [
              0,
              "#0d0887"
             ],
             [
              0.1111111111111111,
              "#46039f"
             ],
             [
              0.2222222222222222,
              "#7201a8"
             ],
             [
              0.3333333333333333,
              "#9c179e"
             ],
             [
              0.4444444444444444,
              "#bd3786"
             ],
             [
              0.5555555555555556,
              "#d8576b"
             ],
             [
              0.6666666666666666,
              "#ed7953"
             ],
             [
              0.7777777777777778,
              "#fb9f3a"
             ],
             [
              0.8888888888888888,
              "#fdca26"
             ],
             [
              1,
              "#f0f921"
             ]
            ],
            "type": "histogram2d"
           }
          ],
          "histogram2dcontour": [
           {
            "colorbar": {
             "outlinewidth": 0,
             "ticks": ""
            },
            "colorscale": [
             [
              0,
              "#0d0887"
             ],
             [
              0.1111111111111111,
              "#46039f"
             ],
             [
              0.2222222222222222,
              "#7201a8"
             ],
             [
              0.3333333333333333,
              "#9c179e"
             ],
             [
              0.4444444444444444,
              "#bd3786"
             ],
             [
              0.5555555555555556,
              "#d8576b"
             ],
             [
              0.6666666666666666,
              "#ed7953"
             ],
             [
              0.7777777777777778,
              "#fb9f3a"
             ],
             [
              0.8888888888888888,
              "#fdca26"
             ],
             [
              1,
              "#f0f921"
             ]
            ],
            "type": "histogram2dcontour"
           }
          ],
          "mesh3d": [
           {
            "colorbar": {
             "outlinewidth": 0,
             "ticks": ""
            },
            "type": "mesh3d"
           }
          ],
          "parcoords": [
           {
            "line": {
             "colorbar": {
              "outlinewidth": 0,
              "ticks": ""
             }
            },
            "type": "parcoords"
           }
          ],
          "pie": [
           {
            "automargin": true,
            "type": "pie"
           }
          ],
          "scatter": [
           {
            "fillpattern": {
             "fillmode": "overlay",
             "size": 10,
             "solidity": 0.2
            },
            "type": "scatter"
           }
          ],
          "scatter3d": [
           {
            "line": {
             "colorbar": {
              "outlinewidth": 0,
              "ticks": ""
             }
            },
            "marker": {
             "colorbar": {
              "outlinewidth": 0,
              "ticks": ""
             }
            },
            "type": "scatter3d"
           }
          ],
          "scattercarpet": [
           {
            "marker": {
             "colorbar": {
              "outlinewidth": 0,
              "ticks": ""
             }
            },
            "type": "scattercarpet"
           }
          ],
          "scattergeo": [
           {
            "marker": {
             "colorbar": {
              "outlinewidth": 0,
              "ticks": ""
             }
            },
            "type": "scattergeo"
           }
          ],
          "scattergl": [
           {
            "marker": {
             "colorbar": {
              "outlinewidth": 0,
              "ticks": ""
             }
            },
            "type": "scattergl"
           }
          ],
          "scattermapbox": [
           {
            "marker": {
             "colorbar": {
              "outlinewidth": 0,
              "ticks": ""
             }
            },
            "type": "scattermapbox"
           }
          ],
          "scatterpolar": [
           {
            "marker": {
             "colorbar": {
              "outlinewidth": 0,
              "ticks": ""
             }
            },
            "type": "scatterpolar"
           }
          ],
          "scatterpolargl": [
           {
            "marker": {
             "colorbar": {
              "outlinewidth": 0,
              "ticks": ""
             }
            },
            "type": "scatterpolargl"
           }
          ],
          "scatterternary": [
           {
            "marker": {
             "colorbar": {
              "outlinewidth": 0,
              "ticks": ""
             }
            },
            "type": "scatterternary"
           }
          ],
          "surface": [
           {
            "colorbar": {
             "outlinewidth": 0,
             "ticks": ""
            },
            "colorscale": [
             [
              0,
              "#0d0887"
             ],
             [
              0.1111111111111111,
              "#46039f"
             ],
             [
              0.2222222222222222,
              "#7201a8"
             ],
             [
              0.3333333333333333,
              "#9c179e"
             ],
             [
              0.4444444444444444,
              "#bd3786"
             ],
             [
              0.5555555555555556,
              "#d8576b"
             ],
             [
              0.6666666666666666,
              "#ed7953"
             ],
             [
              0.7777777777777778,
              "#fb9f3a"
             ],
             [
              0.8888888888888888,
              "#fdca26"
             ],
             [
              1,
              "#f0f921"
             ]
            ],
            "type": "surface"
           }
          ],
          "table": [
           {
            "cells": {
             "fill": {
              "color": "#EBF0F8"
             },
             "line": {
              "color": "white"
             }
            },
            "header": {
             "fill": {
              "color": "#C8D4E3"
             },
             "line": {
              "color": "white"
             }
            },
            "type": "table"
           }
          ]
         },
         "layout": {
          "annotationdefaults": {
           "arrowcolor": "#2a3f5f",
           "arrowhead": 0,
           "arrowwidth": 1
          },
          "autotypenumbers": "strict",
          "coloraxis": {
           "colorbar": {
            "outlinewidth": 0,
            "ticks": ""
           }
          },
          "colorscale": {
           "diverging": [
            [
             0,
             "#8e0152"
            ],
            [
             0.1,
             "#c51b7d"
            ],
            [
             0.2,
             "#de77ae"
            ],
            [
             0.3,
             "#f1b6da"
            ],
            [
             0.4,
             "#fde0ef"
            ],
            [
             0.5,
             "#f7f7f7"
            ],
            [
             0.6,
             "#e6f5d0"
            ],
            [
             0.7,
             "#b8e186"
            ],
            [
             0.8,
             "#7fbc41"
            ],
            [
             0.9,
             "#4d9221"
            ],
            [
             1,
             "#276419"
            ]
           ],
           "sequential": [
            [
             0,
             "#0d0887"
            ],
            [
             0.1111111111111111,
             "#46039f"
            ],
            [
             0.2222222222222222,
             "#7201a8"
            ],
            [
             0.3333333333333333,
             "#9c179e"
            ],
            [
             0.4444444444444444,
             "#bd3786"
            ],
            [
             0.5555555555555556,
             "#d8576b"
            ],
            [
             0.6666666666666666,
             "#ed7953"
            ],
            [
             0.7777777777777778,
             "#fb9f3a"
            ],
            [
             0.8888888888888888,
             "#fdca26"
            ],
            [
             1,
             "#f0f921"
            ]
           ],
           "sequentialminus": [
            [
             0,
             "#0d0887"
            ],
            [
             0.1111111111111111,
             "#46039f"
            ],
            [
             0.2222222222222222,
             "#7201a8"
            ],
            [
             0.3333333333333333,
             "#9c179e"
            ],
            [
             0.4444444444444444,
             "#bd3786"
            ],
            [
             0.5555555555555556,
             "#d8576b"
            ],
            [
             0.6666666666666666,
             "#ed7953"
            ],
            [
             0.7777777777777778,
             "#fb9f3a"
            ],
            [
             0.8888888888888888,
             "#fdca26"
            ],
            [
             1,
             "#f0f921"
            ]
           ]
          },
          "colorway": [
           "#636efa",
           "#EF553B",
           "#00cc96",
           "#ab63fa",
           "#FFA15A",
           "#19d3f3",
           "#FF6692",
           "#B6E880",
           "#FF97FF",
           "#FECB52"
          ],
          "font": {
           "color": "#2a3f5f"
          },
          "geo": {
           "bgcolor": "white",
           "lakecolor": "white",
           "landcolor": "#E5ECF6",
           "showlakes": true,
           "showland": true,
           "subunitcolor": "white"
          },
          "hoverlabel": {
           "align": "left"
          },
          "hovermode": "closest",
          "mapbox": {
           "style": "light"
          },
          "paper_bgcolor": "white",
          "plot_bgcolor": "#E5ECF6",
          "polar": {
           "angularaxis": {
            "gridcolor": "white",
            "linecolor": "white",
            "ticks": ""
           },
           "bgcolor": "#E5ECF6",
           "radialaxis": {
            "gridcolor": "white",
            "linecolor": "white",
            "ticks": ""
           }
          },
          "scene": {
           "xaxis": {
            "backgroundcolor": "#E5ECF6",
            "gridcolor": "white",
            "gridwidth": 2,
            "linecolor": "white",
            "showbackground": true,
            "ticks": "",
            "zerolinecolor": "white"
           },
           "yaxis": {
            "backgroundcolor": "#E5ECF6",
            "gridcolor": "white",
            "gridwidth": 2,
            "linecolor": "white",
            "showbackground": true,
            "ticks": "",
            "zerolinecolor": "white"
           },
           "zaxis": {
            "backgroundcolor": "#E5ECF6",
            "gridcolor": "white",
            "gridwidth": 2,
            "linecolor": "white",
            "showbackground": true,
            "ticks": "",
            "zerolinecolor": "white"
           }
          },
          "shapedefaults": {
           "line": {
            "color": "#2a3f5f"
           }
          },
          "ternary": {
           "aaxis": {
            "gridcolor": "white",
            "linecolor": "white",
            "ticks": ""
           },
           "baxis": {
            "gridcolor": "white",
            "linecolor": "white",
            "ticks": ""
           },
           "bgcolor": "#E5ECF6",
           "caxis": {
            "gridcolor": "white",
            "linecolor": "white",
            "ticks": ""
           }
          },
          "title": {
           "x": 0.05
          },
          "xaxis": {
           "automargin": true,
           "gridcolor": "white",
           "linecolor": "white",
           "ticks": "",
           "title": {
            "standoff": 15
           },
           "zerolinecolor": "white",
           "zerolinewidth": 2
          },
          "yaxis": {
           "automargin": true,
           "gridcolor": "white",
           "linecolor": "white",
           "ticks": "",
           "title": {
            "standoff": 15
           },
           "zerolinecolor": "white",
           "zerolinewidth": 2
          }
         }
        },
        "title": {
         "text": "Gender and Choice of Weapon"
        },
        "xaxis": {
         "anchor": "y",
         "categoryarray": [
          "Blunt object",
          "Fist, other body part",
          "Gun",
          "Knife, sharp instrument",
          "Other",
          "Poison",
          "Vehicle"
         ],
         "categoryorder": "array",
         "domain": [
          0,
          0.49
         ],
         "title": {
          "text": "Weapon"
         }
        },
        "xaxis2": {
         "anchor": "y2",
         "categoryarray": [
          "Blunt object",
          "Fist, other body part",
          "Gun",
          "Knife, sharp instrument",
          "Other",
          "Poison",
          "Vehicle"
         ],
         "categoryorder": "array",
         "domain": [
          0.51,
          1
         ],
         "matches": "x",
         "title": {
          "text": "Weapon"
         }
        },
        "yaxis": {
         "anchor": "x",
         "domain": [
          0,
          1
         ],
         "title": {
          "text": "size"
         }
        },
        "yaxis2": {
         "anchor": "x2",
         "domain": [
          0,
          1
         ],
         "matches": "y",
         "showticklabels": false
        }
       }
      }
     },
     "metadata": {},
     "output_type": "display_data"
    }
   ],
   "source": [
    "# Create DataFrame which groups by gender and weapon and adds a count ('size') column\n",
    "phl_by_weapon = phl_crime.groupby(\n",
    "    [\"Weapon\", \"Gender of accused\"], as_index=False\n",
    ").size()\n",
    "\n",
    "# Use px.bar() to indicate that we want to create bar charts\n",
    "fig = px.bar(\n",
    "    phl_by_weapon,\n",
    "    x=\"Weapon\",\n",
    "    y=\"size\",\n",
    "    facet_col=\"Gender of accused\",  # Use facet_col parameter to specify which field to split graph by\n",
    "    color=\"Weapon\",\n",
    "    title=\"Gender and Choice of Weapon\",\n",
    ")\n",
    "fig.show()"
   ]
  },
  {
   "cell_type": "code",
   "execution_count": 8,
   "metadata": {},
   "outputs": [
    {
     "data": {
      "application/vnd.plotly.v1+json": {
       "config": {
        "plotlyServerURL": "https://plot.ly"
       },
       "data": [
        {
         "alignmentgroup": "True",
         "hovertemplate": "Gender of accused=%{x}<br>Year=1902<br>Count=%{y}<extra></extra>",
         "legendgroup": "Female",
         "marker": {
          "color": "#636efa",
          "pattern": {
           "shape": ""
          }
         },
         "name": "Female",
         "offsetgroup": "Female",
         "orientation": "v",
         "showlegend": true,
         "textposition": "auto",
         "type": "bar",
         "x": [
          "Female"
         ],
         "xaxis": "x",
         "y": [
          9
         ],
         "yaxis": "y"
        },
        {
         "alignmentgroup": "True",
         "hovertemplate": "Gender of accused=%{x}<br>Year=1902<br>Count=%{y}<extra></extra>",
         "legendgroup": "Male",
         "marker": {
          "color": "#EF553B",
          "pattern": {
           "shape": ""
          }
         },
         "name": "Male",
         "offsetgroup": "Male",
         "orientation": "v",
         "showlegend": true,
         "textposition": "auto",
         "type": "bar",
         "x": [
          "Male"
         ],
         "xaxis": "x",
         "y": [
          31
         ],
         "yaxis": "y"
        }
       ],
       "frames": [
        {
         "data": [
          {
           "alignmentgroup": "True",
           "hovertemplate": "Gender of accused=%{x}<br>Year=1902<br>Count=%{y}<extra></extra>",
           "legendgroup": "Female",
           "marker": {
            "color": "#636efa",
            "pattern": {
             "shape": ""
            }
           },
           "name": "Female",
           "offsetgroup": "Female",
           "orientation": "v",
           "showlegend": true,
           "textposition": "auto",
           "type": "bar",
           "x": [
            "Female"
           ],
           "xaxis": "x",
           "y": [
            9
           ],
           "yaxis": "y"
          },
          {
           "alignmentgroup": "True",
           "hovertemplate": "Gender of accused=%{x}<br>Year=1902<br>Count=%{y}<extra></extra>",
           "legendgroup": "Male",
           "marker": {
            "color": "#EF553B",
            "pattern": {
             "shape": ""
            }
           },
           "name": "Male",
           "offsetgroup": "Male",
           "orientation": "v",
           "showlegend": true,
           "textposition": "auto",
           "type": "bar",
           "x": [
            "Male"
           ],
           "xaxis": "x",
           "y": [
            31
           ],
           "yaxis": "y"
          }
         ],
         "name": "1902"
        },
        {
         "data": [
          {
           "alignmentgroup": "True",
           "hovertemplate": "Gender of accused=%{x}<br>Year=1908<br>Count=%{y}<extra></extra>",
           "legendgroup": "Female",
           "marker": {
            "color": "#636efa",
            "pattern": {
             "shape": ""
            }
           },
           "name": "Female",
           "offsetgroup": "Female",
           "orientation": "v",
           "showlegend": true,
           "textposition": "auto",
           "type": "bar",
           "x": [
            "Female"
           ],
           "xaxis": "x",
           "y": [
            11
           ],
           "yaxis": "y"
          },
          {
           "alignmentgroup": "True",
           "hovertemplate": "Gender of accused=%{x}<br>Year=1908<br>Count=%{y}<extra></extra>",
           "legendgroup": "Male",
           "marker": {
            "color": "#EF553B",
            "pattern": {
             "shape": ""
            }
           },
           "name": "Male",
           "offsetgroup": "Male",
           "orientation": "v",
           "showlegend": true,
           "textposition": "auto",
           "type": "bar",
           "x": [
            "Male"
           ],
           "xaxis": "x",
           "y": [
            56
           ],
           "yaxis": "y"
          }
         ],
         "name": "1908"
        },
        {
         "data": [
          {
           "alignmentgroup": "True",
           "hovertemplate": "Gender of accused=%{x}<br>Year=1914<br>Count=%{y}<extra></extra>",
           "legendgroup": "Female",
           "marker": {
            "color": "#636efa",
            "pattern": {
             "shape": ""
            }
           },
           "name": "Female",
           "offsetgroup": "Female",
           "orientation": "v",
           "showlegend": true,
           "textposition": "auto",
           "type": "bar",
           "x": [
            "Female"
           ],
           "xaxis": "x",
           "y": [
            6
           ],
           "yaxis": "y"
          },
          {
           "alignmentgroup": "True",
           "hovertemplate": "Gender of accused=%{x}<br>Year=1914<br>Count=%{y}<extra></extra>",
           "legendgroup": "Male",
           "marker": {
            "color": "#EF553B",
            "pattern": {
             "shape": ""
            }
           },
           "name": "Male",
           "offsetgroup": "Male",
           "orientation": "v",
           "showlegend": true,
           "textposition": "auto",
           "type": "bar",
           "x": [
            "Male"
           ],
           "xaxis": "x",
           "y": [
            87
           ],
           "yaxis": "y"
          }
         ],
         "name": "1914"
        },
        {
         "data": [
          {
           "alignmentgroup": "True",
           "hovertemplate": "Gender of accused=%{x}<br>Year=1920<br>Count=%{y}<extra></extra>",
           "legendgroup": "Female",
           "marker": {
            "color": "#636efa",
            "pattern": {
             "shape": ""
            }
           },
           "name": "Female",
           "offsetgroup": "Female",
           "orientation": "v",
           "showlegend": true,
           "textposition": "auto",
           "type": "bar",
           "x": [
            "Female"
           ],
           "xaxis": "x",
           "y": [
            13
           ],
           "yaxis": "y"
          },
          {
           "alignmentgroup": "True",
           "hovertemplate": "Gender of accused=%{x}<br>Year=1920<br>Count=%{y}<extra></extra>",
           "legendgroup": "Male",
           "marker": {
            "color": "#EF553B",
            "pattern": {
             "shape": ""
            }
           },
           "name": "Male",
           "offsetgroup": "Male",
           "orientation": "v",
           "showlegend": true,
           "textposition": "auto",
           "type": "bar",
           "x": [
            "Male"
           ],
           "xaxis": "x",
           "y": [
            125
           ],
           "yaxis": "y"
          }
         ],
         "name": "1920"
        },
        {
         "data": [
          {
           "alignmentgroup": "True",
           "hovertemplate": "Gender of accused=%{x}<br>Year=1926<br>Count=%{y}<extra></extra>",
           "legendgroup": "Female",
           "marker": {
            "color": "#636efa",
            "pattern": {
             "shape": ""
            }
           },
           "name": "Female",
           "offsetgroup": "Female",
           "orientation": "v",
           "showlegend": true,
           "textposition": "auto",
           "type": "bar",
           "x": [
            "Female"
           ],
           "xaxis": "x",
           "y": [
            12
           ],
           "yaxis": "y"
          },
          {
           "alignmentgroup": "True",
           "hovertemplate": "Gender of accused=%{x}<br>Year=1926<br>Count=%{y}<extra></extra>",
           "legendgroup": "Male",
           "marker": {
            "color": "#EF553B",
            "pattern": {
             "shape": ""
            }
           },
           "name": "Male",
           "offsetgroup": "Male",
           "orientation": "v",
           "showlegend": true,
           "textposition": "auto",
           "type": "bar",
           "x": [
            "Male"
           ],
           "xaxis": "x",
           "y": [
            174
           ],
           "yaxis": "y"
          }
         ],
         "name": "1926"
        },
        {
         "data": [
          {
           "alignmentgroup": "True",
           "hovertemplate": "Gender of accused=%{x}<br>Year=1932<br>Count=%{y}<extra></extra>",
           "legendgroup": "Female",
           "marker": {
            "color": "#636efa",
            "pattern": {
             "shape": ""
            }
           },
           "name": "Female",
           "offsetgroup": "Female",
           "orientation": "v",
           "showlegend": true,
           "textposition": "auto",
           "type": "bar",
           "x": [
            "Female"
           ],
           "xaxis": "x",
           "y": [
            21
           ],
           "yaxis": "y"
          },
          {
           "alignmentgroup": "True",
           "hovertemplate": "Gender of accused=%{x}<br>Year=1932<br>Count=%{y}<extra></extra>",
           "legendgroup": "Male",
           "marker": {
            "color": "#EF553B",
            "pattern": {
             "shape": ""
            }
           },
           "name": "Male",
           "offsetgroup": "Male",
           "orientation": "v",
           "showlegend": true,
           "textposition": "auto",
           "type": "bar",
           "x": [
            "Male"
           ],
           "xaxis": "x",
           "y": [
            144
           ],
           "yaxis": "y"
          }
         ],
         "name": "1932"
        }
       ],
       "layout": {
        "barmode": "relative",
        "legend": {
         "title": {
          "text": "Gender of accused"
         },
         "tracegroupgap": 0
        },
        "sliders": [
         {
          "active": 0,
          "currentvalue": {
           "prefix": "Year="
          },
          "len": 0.9,
          "pad": {
           "b": 10,
           "t": 60
          },
          "steps": [
           {
            "args": [
             [
              "1902"
             ],
             {
              "frame": {
               "duration": 0,
               "redraw": true
              },
              "fromcurrent": true,
              "mode": "immediate",
              "transition": {
               "duration": 0,
               "easing": "linear"
              }
             }
            ],
            "label": "1902",
            "method": "animate"
           },
           {
            "args": [
             [
              "1908"
             ],
             {
              "frame": {
               "duration": 0,
               "redraw": true
              },
              "fromcurrent": true,
              "mode": "immediate",
              "transition": {
               "duration": 0,
               "easing": "linear"
              }
             }
            ],
            "label": "1908",
            "method": "animate"
           },
           {
            "args": [
             [
              "1914"
             ],
             {
              "frame": {
               "duration": 0,
               "redraw": true
              },
              "fromcurrent": true,
              "mode": "immediate",
              "transition": {
               "duration": 0,
               "easing": "linear"
              }
             }
            ],
            "label": "1914",
            "method": "animate"
           },
           {
            "args": [
             [
              "1920"
             ],
             {
              "frame": {
               "duration": 0,
               "redraw": true
              },
              "fromcurrent": true,
              "mode": "immediate",
              "transition": {
               "duration": 0,
               "easing": "linear"
              }
             }
            ],
            "label": "1920",
            "method": "animate"
           },
           {
            "args": [
             [
              "1926"
             ],
             {
              "frame": {
               "duration": 0,
               "redraw": true
              },
              "fromcurrent": true,
              "mode": "immediate",
              "transition": {
               "duration": 0,
               "easing": "linear"
              }
             }
            ],
            "label": "1926",
            "method": "animate"
           },
           {
            "args": [
             [
              "1932"
             ],
             {
              "frame": {
               "duration": 0,
               "redraw": true
              },
              "fromcurrent": true,
              "mode": "immediate",
              "transition": {
               "duration": 0,
               "easing": "linear"
              }
             }
            ],
            "label": "1932",
            "method": "animate"
           }
          ],
          "x": 0.1,
          "xanchor": "left",
          "y": 0,
          "yanchor": "top"
         }
        ],
        "template": {
         "data": {
          "bar": [
           {
            "error_x": {
             "color": "#2a3f5f"
            },
            "error_y": {
             "color": "#2a3f5f"
            },
            "marker": {
             "line": {
              "color": "#E5ECF6",
              "width": 0.5
             },
             "pattern": {
              "fillmode": "overlay",
              "size": 10,
              "solidity": 0.2
             }
            },
            "type": "bar"
           }
          ],
          "barpolar": [
           {
            "marker": {
             "line": {
              "color": "#E5ECF6",
              "width": 0.5
             },
             "pattern": {
              "fillmode": "overlay",
              "size": 10,
              "solidity": 0.2
             }
            },
            "type": "barpolar"
           }
          ],
          "carpet": [
           {
            "aaxis": {
             "endlinecolor": "#2a3f5f",
             "gridcolor": "white",
             "linecolor": "white",
             "minorgridcolor": "white",
             "startlinecolor": "#2a3f5f"
            },
            "baxis": {
             "endlinecolor": "#2a3f5f",
             "gridcolor": "white",
             "linecolor": "white",
             "minorgridcolor": "white",
             "startlinecolor": "#2a3f5f"
            },
            "type": "carpet"
           }
          ],
          "choropleth": [
           {
            "colorbar": {
             "outlinewidth": 0,
             "ticks": ""
            },
            "type": "choropleth"
           }
          ],
          "contour": [
           {
            "colorbar": {
             "outlinewidth": 0,
             "ticks": ""
            },
            "colorscale": [
             [
              0,
              "#0d0887"
             ],
             [
              0.1111111111111111,
              "#46039f"
             ],
             [
              0.2222222222222222,
              "#7201a8"
             ],
             [
              0.3333333333333333,
              "#9c179e"
             ],
             [
              0.4444444444444444,
              "#bd3786"
             ],
             [
              0.5555555555555556,
              "#d8576b"
             ],
             [
              0.6666666666666666,
              "#ed7953"
             ],
             [
              0.7777777777777778,
              "#fb9f3a"
             ],
             [
              0.8888888888888888,
              "#fdca26"
             ],
             [
              1,
              "#f0f921"
             ]
            ],
            "type": "contour"
           }
          ],
          "contourcarpet": [
           {
            "colorbar": {
             "outlinewidth": 0,
             "ticks": ""
            },
            "type": "contourcarpet"
           }
          ],
          "heatmap": [
           {
            "colorbar": {
             "outlinewidth": 0,
             "ticks": ""
            },
            "colorscale": [
             [
              0,
              "#0d0887"
             ],
             [
              0.1111111111111111,
              "#46039f"
             ],
             [
              0.2222222222222222,
              "#7201a8"
             ],
             [
              0.3333333333333333,
              "#9c179e"
             ],
             [
              0.4444444444444444,
              "#bd3786"
             ],
             [
              0.5555555555555556,
              "#d8576b"
             ],
             [
              0.6666666666666666,
              "#ed7953"
             ],
             [
              0.7777777777777778,
              "#fb9f3a"
             ],
             [
              0.8888888888888888,
              "#fdca26"
             ],
             [
              1,
              "#f0f921"
             ]
            ],
            "type": "heatmap"
           }
          ],
          "heatmapgl": [
           {
            "colorbar": {
             "outlinewidth": 0,
             "ticks": ""
            },
            "colorscale": [
             [
              0,
              "#0d0887"
             ],
             [
              0.1111111111111111,
              "#46039f"
             ],
             [
              0.2222222222222222,
              "#7201a8"
             ],
             [
              0.3333333333333333,
              "#9c179e"
             ],
             [
              0.4444444444444444,
              "#bd3786"
             ],
             [
              0.5555555555555556,
              "#d8576b"
             ],
             [
              0.6666666666666666,
              "#ed7953"
             ],
             [
              0.7777777777777778,
              "#fb9f3a"
             ],
             [
              0.8888888888888888,
              "#fdca26"
             ],
             [
              1,
              "#f0f921"
             ]
            ],
            "type": "heatmapgl"
           }
          ],
          "histogram": [
           {
            "marker": {
             "pattern": {
              "fillmode": "overlay",
              "size": 10,
              "solidity": 0.2
             }
            },
            "type": "histogram"
           }
          ],
          "histogram2d": [
           {
            "colorbar": {
             "outlinewidth": 0,
             "ticks": ""
            },
            "colorscale": [
             [
              0,
              "#0d0887"
             ],
             [
              0.1111111111111111,
              "#46039f"
             ],
             [
              0.2222222222222222,
              "#7201a8"
             ],
             [
              0.3333333333333333,
              "#9c179e"
             ],
             [
              0.4444444444444444,
              "#bd3786"
             ],
             [
              0.5555555555555556,
              "#d8576b"
             ],
             [
              0.6666666666666666,
              "#ed7953"
             ],
             [
              0.7777777777777778,
              "#fb9f3a"
             ],
             [
              0.8888888888888888,
              "#fdca26"
             ],
             [
              1,
              "#f0f921"
             ]
            ],
            "type": "histogram2d"
           }
          ],
          "histogram2dcontour": [
           {
            "colorbar": {
             "outlinewidth": 0,
             "ticks": ""
            },
            "colorscale": [
             [
              0,
              "#0d0887"
             ],
             [
              0.1111111111111111,
              "#46039f"
             ],
             [
              0.2222222222222222,
              "#7201a8"
             ],
             [
              0.3333333333333333,
              "#9c179e"
             ],
             [
              0.4444444444444444,
              "#bd3786"
             ],
             [
              0.5555555555555556,
              "#d8576b"
             ],
             [
              0.6666666666666666,
              "#ed7953"
             ],
             [
              0.7777777777777778,
              "#fb9f3a"
             ],
             [
              0.8888888888888888,
              "#fdca26"
             ],
             [
              1,
              "#f0f921"
             ]
            ],
            "type": "histogram2dcontour"
           }
          ],
          "mesh3d": [
           {
            "colorbar": {
             "outlinewidth": 0,
             "ticks": ""
            },
            "type": "mesh3d"
           }
          ],
          "parcoords": [
           {
            "line": {
             "colorbar": {
              "outlinewidth": 0,
              "ticks": ""
             }
            },
            "type": "parcoords"
           }
          ],
          "pie": [
           {
            "automargin": true,
            "type": "pie"
           }
          ],
          "scatter": [
           {
            "fillpattern": {
             "fillmode": "overlay",
             "size": 10,
             "solidity": 0.2
            },
            "type": "scatter"
           }
          ],
          "scatter3d": [
           {
            "line": {
             "colorbar": {
              "outlinewidth": 0,
              "ticks": ""
             }
            },
            "marker": {
             "colorbar": {
              "outlinewidth": 0,
              "ticks": ""
             }
            },
            "type": "scatter3d"
           }
          ],
          "scattercarpet": [
           {
            "marker": {
             "colorbar": {
              "outlinewidth": 0,
              "ticks": ""
             }
            },
            "type": "scattercarpet"
           }
          ],
          "scattergeo": [
           {
            "marker": {
             "colorbar": {
              "outlinewidth": 0,
              "ticks": ""
             }
            },
            "type": "scattergeo"
           }
          ],
          "scattergl": [
           {
            "marker": {
             "colorbar": {
              "outlinewidth": 0,
              "ticks": ""
             }
            },
            "type": "scattergl"
           }
          ],
          "scattermapbox": [
           {
            "marker": {
             "colorbar": {
              "outlinewidth": 0,
              "ticks": ""
             }
            },
            "type": "scattermapbox"
           }
          ],
          "scatterpolar": [
           {
            "marker": {
             "colorbar": {
              "outlinewidth": 0,
              "ticks": ""
             }
            },
            "type": "scatterpolar"
           }
          ],
          "scatterpolargl": [
           {
            "marker": {
             "colorbar": {
              "outlinewidth": 0,
              "ticks": ""
             }
            },
            "type": "scatterpolargl"
           }
          ],
          "scatterternary": [
           {
            "marker": {
             "colorbar": {
              "outlinewidth": 0,
              "ticks": ""
             }
            },
            "type": "scatterternary"
           }
          ],
          "surface": [
           {
            "colorbar": {
             "outlinewidth": 0,
             "ticks": ""
            },
            "colorscale": [
             [
              0,
              "#0d0887"
             ],
             [
              0.1111111111111111,
              "#46039f"
             ],
             [
              0.2222222222222222,
              "#7201a8"
             ],
             [
              0.3333333333333333,
              "#9c179e"
             ],
             [
              0.4444444444444444,
              "#bd3786"
             ],
             [
              0.5555555555555556,
              "#d8576b"
             ],
             [
              0.6666666666666666,
              "#ed7953"
             ],
             [
              0.7777777777777778,
              "#fb9f3a"
             ],
             [
              0.8888888888888888,
              "#fdca26"
             ],
             [
              1,
              "#f0f921"
             ]
            ],
            "type": "surface"
           }
          ],
          "table": [
           {
            "cells": {
             "fill": {
              "color": "#EBF0F8"
             },
             "line": {
              "color": "white"
             }
            },
            "header": {
             "fill": {
              "color": "#C8D4E3"
             },
             "line": {
              "color": "white"
             }
            },
            "type": "table"
           }
          ]
         },
         "layout": {
          "annotationdefaults": {
           "arrowcolor": "#2a3f5f",
           "arrowhead": 0,
           "arrowwidth": 1
          },
          "autotypenumbers": "strict",
          "coloraxis": {
           "colorbar": {
            "outlinewidth": 0,
            "ticks": ""
           }
          },
          "colorscale": {
           "diverging": [
            [
             0,
             "#8e0152"
            ],
            [
             0.1,
             "#c51b7d"
            ],
            [
             0.2,
             "#de77ae"
            ],
            [
             0.3,
             "#f1b6da"
            ],
            [
             0.4,
             "#fde0ef"
            ],
            [
             0.5,
             "#f7f7f7"
            ],
            [
             0.6,
             "#e6f5d0"
            ],
            [
             0.7,
             "#b8e186"
            ],
            [
             0.8,
             "#7fbc41"
            ],
            [
             0.9,
             "#4d9221"
            ],
            [
             1,
             "#276419"
            ]
           ],
           "sequential": [
            [
             0,
             "#0d0887"
            ],
            [
             0.1111111111111111,
             "#46039f"
            ],
            [
             0.2222222222222222,
             "#7201a8"
            ],
            [
             0.3333333333333333,
             "#9c179e"
            ],
            [
             0.4444444444444444,
             "#bd3786"
            ],
            [
             0.5555555555555556,
             "#d8576b"
            ],
            [
             0.6666666666666666,
             "#ed7953"
            ],
            [
             0.7777777777777778,
             "#fb9f3a"
            ],
            [
             0.8888888888888888,
             "#fdca26"
            ],
            [
             1,
             "#f0f921"
            ]
           ],
           "sequentialminus": [
            [
             0,
             "#0d0887"
            ],
            [
             0.1111111111111111,
             "#46039f"
            ],
            [
             0.2222222222222222,
             "#7201a8"
            ],
            [
             0.3333333333333333,
             "#9c179e"
            ],
            [
             0.4444444444444444,
             "#bd3786"
            ],
            [
             0.5555555555555556,
             "#d8576b"
            ],
            [
             0.6666666666666666,
             "#ed7953"
            ],
            [
             0.7777777777777778,
             "#fb9f3a"
            ],
            [
             0.8888888888888888,
             "#fdca26"
            ],
            [
             1,
             "#f0f921"
            ]
           ]
          },
          "colorway": [
           "#636efa",
           "#EF553B",
           "#00cc96",
           "#ab63fa",
           "#FFA15A",
           "#19d3f3",
           "#FF6692",
           "#B6E880",
           "#FF97FF",
           "#FECB52"
          ],
          "font": {
           "color": "#2a3f5f"
          },
          "geo": {
           "bgcolor": "white",
           "lakecolor": "white",
           "landcolor": "#E5ECF6",
           "showlakes": true,
           "showland": true,
           "subunitcolor": "white"
          },
          "hoverlabel": {
           "align": "left"
          },
          "hovermode": "closest",
          "mapbox": {
           "style": "light"
          },
          "paper_bgcolor": "white",
          "plot_bgcolor": "#E5ECF6",
          "polar": {
           "angularaxis": {
            "gridcolor": "white",
            "linecolor": "white",
            "ticks": ""
           },
           "bgcolor": "#E5ECF6",
           "radialaxis": {
            "gridcolor": "white",
            "linecolor": "white",
            "ticks": ""
           }
          },
          "scene": {
           "xaxis": {
            "backgroundcolor": "#E5ECF6",
            "gridcolor": "white",
            "gridwidth": 2,
            "linecolor": "white",
            "showbackground": true,
            "ticks": "",
            "zerolinecolor": "white"
           },
           "yaxis": {
            "backgroundcolor": "#E5ECF6",
            "gridcolor": "white",
            "gridwidth": 2,
            "linecolor": "white",
            "showbackground": true,
            "ticks": "",
            "zerolinecolor": "white"
           },
           "zaxis": {
            "backgroundcolor": "#E5ECF6",
            "gridcolor": "white",
            "gridwidth": 2,
            "linecolor": "white",
            "showbackground": true,
            "ticks": "",
            "zerolinecolor": "white"
           }
          },
          "shapedefaults": {
           "line": {
            "color": "#2a3f5f"
           }
          },
          "ternary": {
           "aaxis": {
            "gridcolor": "white",
            "linecolor": "white",
            "ticks": ""
           },
           "baxis": {
            "gridcolor": "white",
            "linecolor": "white",
            "ticks": ""
           },
           "bgcolor": "#E5ECF6",
           "caxis": {
            "gridcolor": "white",
            "linecolor": "white",
            "ticks": ""
           }
          },
          "title": {
           "x": 0.05
          },
          "xaxis": {
           "automargin": true,
           "gridcolor": "white",
           "linecolor": "white",
           "ticks": "",
           "title": {
            "standoff": 15
           },
           "zerolinecolor": "white",
           "zerolinewidth": 2
          },
          "yaxis": {
           "automargin": true,
           "gridcolor": "white",
           "linecolor": "white",
           "ticks": "",
           "title": {
            "standoff": 15
           },
           "zerolinecolor": "white",
           "zerolinewidth": 2
          }
         }
        },
        "title": {
         "text": "Gender of Accused"
        },
        "updatemenus": [
         {
          "buttons": [
           {
            "args": [
             null,
             {
              "frame": {
               "duration": 500,
               "redraw": true
              },
              "fromcurrent": true,
              "mode": "immediate",
              "transition": {
               "duration": 500,
               "easing": "linear"
              }
             }
            ],
            "label": "&#9654;",
            "method": "animate"
           },
           {
            "args": [
             [
              null
             ],
             {
              "frame": {
               "duration": 0,
               "redraw": true
              },
              "fromcurrent": true,
              "mode": "immediate",
              "transition": {
               "duration": 0,
               "easing": "linear"
              }
             }
            ],
            "label": "&#9724;",
            "method": "animate"
           }
          ],
          "direction": "left",
          "pad": {
           "r": 10,
           "t": 70
          },
          "showactive": false,
          "type": "buttons",
          "x": 0.1,
          "xanchor": "right",
          "y": 0,
          "yanchor": "top"
         }
        ],
        "xaxis": {
         "anchor": "y",
         "categoryarray": [
          "Female",
          "Male"
         ],
         "categoryorder": "array",
         "domain": [
          0,
          1
         ],
         "title": {
          "text": "Gender of accused"
         }
        },
        "yaxis": {
         "anchor": "x",
         "domain": [
          0,
          1
         ],
         "range": [
          0,
          200
         ],
         "title": {
          "text": "Count"
         }
        }
       }
      }
     },
     "metadata": {},
     "output_type": "display_data"
    }
   ],
   "source": [
    "# Create DataFrame which provides counts of prosecutions by gender and year\n",
    "phl_by_gender_year = phl_crime.groupby(\n",
    "    [\"Gender of accused\", \"Year\"], as_index=False\n",
    ").size()\n",
    "\n",
    "# Use px.bar() to create a bar chart\n",
    "fig = px.bar(\n",
    "    phl_by_gender_year,\n",
    "    x=\"Gender of accused\",\n",
    "    y=\"size\",\n",
    "    labels={\"size\": \"Count\"},\n",
    "    range_y=[\n",
    "        0,\n",
    "        200,\n",
    "    ],  # The range_y parameter allows customization of the y-axis range (optional)\n",
    "    color=\"Gender of accused\",\n",
    "    title=\"Gender of Accused\",\n",
    "    animation_frame=\"Year\", # Use animation_frame to specify which variable to measure for change\n",
    ")\n",
    "fig.show()"
   ]
  },
  {
   "cell_type": "code",
   "execution_count": 9,
   "metadata": {},
   "outputs": [
    {
     "data": {
      "application/vnd.plotly.v1+json": {
       "config": {
        "plotlyServerURL": "https://plot.ly"
       },
       "data": [
        {
         "hovertemplate": "Charge=Murder<br>Assailant age=%{x}<br>Victim age=%{y}<extra></extra>",
         "legendgroup": "Murder",
         "marker": {
          "color": "#636efa",
          "symbol": "circle"
         },
         "mode": "markers",
         "name": "Murder",
         "orientation": "v",
         "showlegend": true,
         "type": "scatter",
         "x": [
          null,
          null,
          null,
          null,
          21,
          17,
          null,
          null,
          null,
          null,
          null,
          null,
          16,
          null,
          28,
          33,
          18,
          null,
          null,
          null,
          17,
          58,
          null,
          null,
          null,
          null,
          null,
          null,
          null,
          null,
          null,
          null,
          null,
          null,
          17,
          null,
          null,
          25,
          25,
          null,
          19,
          60,
          null,
          null,
          null,
          98,
          null,
          null,
          null,
          null,
          null,
          22,
          null,
          21,
          null,
          null,
          30,
          null,
          24,
          null,
          23,
          null,
          null,
          null,
          null,
          null,
          null,
          null,
          null,
          50,
          null,
          null,
          null,
          null,
          null,
          null,
          null,
          35,
          47,
          42,
          19,
          null,
          25,
          null,
          null,
          21,
          null,
          23,
          98,
          null,
          35,
          18,
          19,
          60,
          28,
          21,
          44,
          64,
          null,
          21,
          32,
          51,
          42,
          22,
          30,
          36,
          26,
          37,
          36,
          45,
          32,
          41,
          42,
          22,
          24,
          40,
          22,
          42,
          41,
          null,
          22,
          42,
          38,
          20,
          null,
          null,
          35,
          40,
          30,
          40,
          35,
          24,
          27,
          25,
          null,
          35,
          21,
          30,
          null,
          35,
          15,
          16,
          53,
          null,
          null,
          57,
          30,
          30,
          41,
          34,
          22,
          36,
          null,
          28,
          null,
          17,
          98,
          34,
          25,
          25,
          38,
          17,
          20,
          null,
          22,
          31,
          34,
          35,
          31,
          24,
          55,
          30,
          25,
          45,
          29,
          55,
          28,
          25,
          30,
          null,
          23,
          null,
          50,
          35,
          28,
          42,
          23,
          42,
          30,
          30,
          21,
          21,
          25,
          null,
          25,
          20,
          20,
          null,
          null,
          null,
          null,
          null,
          77,
          null,
          null,
          null,
          30,
          29,
          16,
          20,
          null,
          61,
          20,
          56,
          null,
          null,
          null,
          12,
          15,
          45,
          20,
          35,
          null,
          50,
          22,
          null,
          24,
          null,
          null,
          null,
          null,
          null,
          null,
          null,
          28,
          33,
          57,
          36,
          null,
          29,
          35,
          null,
          29,
          28,
          33,
          36,
          30,
          25,
          48,
          38,
          21,
          34,
          31,
          25,
          null,
          52,
          35,
          40,
          null,
          21,
          null,
          30,
          30,
          17,
          null,
          51,
          22,
          30,
          20,
          35,
          29,
          null,
          30,
          40,
          31,
          null,
          40,
          24,
          28,
          35,
          32,
          22,
          45,
          24,
          28,
          38,
          29,
          32,
          null,
          37,
          14,
          31,
          null,
          34,
          null,
          28,
          98,
          22,
          28,
          25,
          25,
          27,
          43,
          null,
          19,
          31,
          30,
          20,
          31,
          24,
          42,
          26,
          46,
          null,
          null,
          52,
          25,
          23,
          25,
          null,
          30,
          null,
          38,
          null,
          null,
          30,
          29,
          37,
          28,
          31,
          98,
          34,
          42,
          29,
          20,
          21,
          28,
          33,
          18,
          null,
          46,
          30,
          20,
          58,
          22,
          26,
          33,
          40,
          43,
          37,
          28,
          27,
          null,
          25,
          28,
          37,
          null,
          29,
          null,
          32,
          23,
          24,
          null,
          null,
          null,
          22,
          null,
          null,
          null,
          44,
          40,
          45,
          27,
          29,
          null,
          null,
          56,
          null,
          37,
          null,
          null,
          33,
          25,
          26,
          null,
          26,
          null,
          30,
          23,
          null,
          null,
          36,
          null,
          null,
          null,
          18,
          null,
          null,
          25,
          null,
          17,
          null,
          41,
          26,
          null,
          29,
          null,
          null,
          null,
          null,
          98,
          null,
          null,
          25,
          null,
          null,
          15,
          34,
          34,
          32,
          null,
          null,
          39,
          null,
          28,
          25,
          25,
          null,
          26,
          27,
          null,
          26,
          13,
          null,
          null,
          27,
          null,
          null,
          42,
          28,
          18,
          null,
          32,
          20,
          38,
          42,
          20,
          39,
          39,
          31,
          16,
          35,
          30,
          30,
          39,
          22,
          35,
          23,
          14,
          31,
          39,
          22,
          27,
          32,
          23,
          29,
          26,
          38,
          30,
          26,
          39,
          24,
          30,
          30,
          40,
          40,
          37,
          41,
          35,
          null,
          25,
          null,
          null,
          30,
          42,
          37,
          23,
          null,
          25,
          null,
          66,
          29,
          55,
          40,
          32,
          null,
          30,
          null,
          31,
          35,
          32,
          37,
          24,
          54,
          34,
          null,
          20,
          34,
          null,
          20,
          null,
          null,
          null,
          30,
          31,
          null,
          null,
          55,
          null,
          28,
          19,
          19,
          17,
          20,
          32,
          38,
          27,
          null,
          34,
          37,
          26,
          null,
          37,
          null,
          39,
          38,
          40,
          54,
          30,
          null,
          37,
          42,
          41,
          null,
          null,
          36,
          15,
          47
         ],
         "xaxis": "x",
         "y": [
          null,
          null,
          null,
          null,
          21,
          23,
          null,
          50,
          21,
          null,
          null,
          null,
          25,
          null,
          50,
          28,
          22,
          null,
          null,
          null,
          null,
          null,
          55,
          null,
          10,
          null,
          null,
          null,
          8,
          null,
          null,
          59,
          null,
          1,
          27,
          null,
          59,
          30,
          25,
          null,
          17,
          null,
          null,
          null,
          null,
          null,
          null,
          28,
          null,
          null,
          null,
          23,
          null,
          39,
          null,
          null,
          30,
          null,
          null,
          null,
          27,
          null,
          null,
          12,
          null,
          40,
          null,
          null,
          null,
          null,
          null,
          60,
          null,
          65,
          null,
          null,
          27,
          30,
          20,
          null,
          19,
          null,
          28,
          null,
          1,
          null,
          null,
          69,
          31,
          17,
          48,
          25,
          35,
          15,
          30,
          25,
          28,
          38,
          38,
          20,
          30,
          26,
          18,
          26,
          20,
          24,
          31,
          32,
          45,
          35,
          26,
          60,
          36,
          29,
          59,
          34,
          35,
          8,
          31,
          null,
          21,
          33,
          null,
          48,
          null,
          21,
          36,
          38,
          26,
          26,
          36,
          null,
          51,
          24,
          null,
          38,
          18,
          24,
          44,
          26,
          11,
          16,
          38,
          null,
          23,
          40,
          35,
          37,
          38,
          25,
          57,
          35,
          1,
          25,
          28,
          38,
          null,
          29,
          26,
          45,
          36,
          50,
          26,
          33,
          33,
          23,
          null,
          24,
          23,
          28,
          38,
          33,
          30,
          40,
          27,
          47,
          32,
          27,
          25,
          null,
          25,
          42,
          45,
          24,
          36,
          31,
          24,
          40,
          34,
          26,
          46,
          25,
          28,
          null,
          24,
          21,
          20,
          35,
          null,
          null,
          null,
          null,
          null,
          null,
          48,
          null,
          25,
          25,
          10,
          38,
          75,
          36,
          21,
          35,
          30,
          22,
          45,
          10,
          15,
          47,
          null,
          33,
          63,
          20,
          30,
          38,
          null,
          null,
          38,
          25,
          25,
          35,
          null,
          21,
          31,
          69,
          36,
          32,
          null,
          33,
          26,
          31,
          36,
          20,
          null,
          40,
          26,
          30,
          48,
          31,
          20,
          47,
          37,
          null,
          null,
          26,
          45,
          35,
          null,
          20,
          15,
          36,
          30,
          30,
          24,
          45,
          null,
          30,
          30,
          null,
          31,
          88,
          30,
          38,
          30,
          45,
          34,
          47,
          25,
          40,
          20,
          37,
          24,
          32,
          27,
          55,
          42,
          36,
          null,
          33,
          8,
          44,
          59,
          5,
          12,
          null,
          59,
          25,
          46,
          26,
          null,
          27,
          30,
          50,
          31,
          36,
          30,
          35,
          30,
          25,
          27,
          21,
          null,
          76,
          37,
          39,
          24,
          null,
          22,
          null,
          9,
          1,
          27,
          6,
          null,
          30,
          50,
          45,
          55,
          33,
          null,
          51,
          35,
          null,
          16,
          23,
          17,
          37,
          21,
          null,
          27,
          50,
          30,
          50,
          17,
          27,
          32,
          39,
          23,
          37,
          23,
          32,
          null,
          39,
          25,
          43,
          null,
          54,
          42,
          28,
          25,
          23,
          25,
          48,
          null,
          42,
          21,
          26,
          35,
          25,
          33,
          40,
          31,
          40,
          21,
          27,
          35,
          38,
          37,
          37,
          33,
          55,
          27,
          29,
          null,
          26,
          47,
          65,
          39,
          27,
          26,
          25,
          23,
          17,
          null,
          17,
          35,
          null,
          24,
          null,
          null,
          null,
          null,
          null,
          null,
          31,
          null,
          41,
          null,
          null,
          null,
          null,
          35,
          null,
          null,
          null,
          21,
          41,
          26,
          22,
          null,
          50,
          32,
          null,
          29,
          41,
          32,
          null,
          48,
          null,
          null,
          21,
          43,
          19,
          null,
          null,
          null,
          null,
          52,
          31,
          22,
          null,
          42,
          21,
          41,
          40,
          69,
          41,
          42,
          31,
          7,
          28,
          22,
          30,
          39,
          35,
          17,
          26,
          10,
          19,
          45,
          31,
          43,
          32,
          19,
          49,
          26,
          22,
          35,
          25,
          null,
          23,
          35,
          42,
          27,
          40,
          30,
          33,
          37,
          null,
          35,
          44,
          null,
          33,
          64,
          34,
          24,
          null,
          39,
          51,
          39,
          29,
          50,
          null,
          null,
          64,
          26,
          20,
          32,
          29,
          28,
          23,
          27,
          21,
          56,
          20,
          21,
          19,
          22,
          27,
          32,
          23,
          37,
          22,
          40,
          21,
          62,
          43,
          47,
          27,
          49,
          23,
          8,
          63,
          41,
          33,
          46,
          35,
          29,
          34,
          23,
          25,
          37,
          9,
          30,
          32,
          42,
          44,
          22,
          61,
          43,
          36,
          39,
          38,
          40,
          36,
          11,
          27
         ],
         "yaxis": "y"
        },
        {
         "hovertemplate": "Charge=Abortion<br>Assailant age=%{x}<br>Victim age=%{y}<extra></extra>",
         "legendgroup": "Abortion",
         "marker": {
          "color": "#EF553B",
          "symbol": "circle"
         },
         "mode": "markers",
         "name": "Abortion",
         "orientation": "v",
         "showlegend": true,
         "type": "scatter",
         "x": [
          47,
          null,
          null,
          null,
          null,
          null,
          null,
          null,
          null,
          null,
          null,
          null,
          null,
          null,
          null,
          null,
          null,
          null,
          null,
          null,
          null,
          null,
          null,
          null,
          60,
          null,
          null,
          null,
          null,
          null,
          null,
          null,
          null,
          null,
          53,
          null,
          52,
          null,
          null,
          null,
          null,
          null,
          null,
          null,
          null,
          null,
          null,
          null,
          null,
          null,
          null,
          26,
          null,
          null
         ],
         "xaxis": "x",
         "y": [
          null,
          null,
          38,
          null,
          null,
          null,
          null,
          null,
          null,
          null,
          null,
          null,
          59,
          null,
          null,
          59,
          null,
          null,
          null,
          null,
          null,
          35,
          null,
          null,
          null,
          null,
          null,
          null,
          20,
          null,
          null,
          null,
          59,
          null,
          null,
          null,
          null,
          23,
          null,
          null,
          null,
          59,
          null,
          null,
          null,
          null,
          18,
          null,
          null,
          null,
          null,
          26,
          null,
          null
         ],
         "yaxis": "y"
        },
        {
         "hovertemplate": "Charge=Manslaughter<br>Assailant age=%{x}<br>Victim age=%{y}<extra></extra>",
         "legendgroup": "Manslaughter",
         "marker": {
          "color": "#00cc96",
          "symbol": "circle"
         },
         "mode": "markers",
         "name": "Manslaughter",
         "orientation": "v",
         "showlegend": true,
         "type": "scatter",
         "x": [
          null,
          null,
          null,
          null,
          null,
          null,
          15,
          19,
          null,
          19,
          null,
          98,
          null,
          null,
          35,
          35,
          23,
          56,
          null,
          null,
          null,
          null,
          null,
          22,
          null,
          59,
          null,
          null,
          null,
          33,
          26,
          null,
          42,
          null,
          null,
          26,
          null,
          null,
          23,
          null,
          null,
          23,
          18,
          16,
          null,
          null,
          null,
          24,
          null,
          19,
          null,
          29,
          null,
          null,
          93,
          19,
          24,
          null,
          null,
          25,
          null,
          null,
          30,
          null,
          null,
          30,
          null,
          null,
          null,
          null,
          41,
          25,
          null,
          null,
          null,
          null,
          26,
          null,
          29,
          34,
          19,
          null,
          null,
          null,
          null,
          null,
          24,
          25,
          22,
          null,
          null,
          null,
          null,
          null,
          null,
          null,
          null,
          null,
          18,
          null,
          null,
          36,
          24,
          null,
          28,
          44,
          null,
          null,
          33,
          null,
          null,
          40
         ],
         "xaxis": "x",
         "y": [
          null,
          49,
          19,
          null,
          null,
          17,
          15,
          18,
          null,
          61,
          29,
          11,
          35,
          10,
          48,
          48,
          35,
          56,
          null,
          2,
          null,
          null,
          null,
          65,
          53,
          45,
          48,
          null,
          null,
          1,
          36,
          null,
          40,
          null,
          null,
          34,
          null,
          null,
          39,
          5,
          null,
          31,
          null,
          17,
          28,
          null,
          null,
          73,
          null,
          null,
          null,
          null,
          10,
          null,
          null,
          null,
          21,
          null,
          null,
          47,
          8,
          67,
          36,
          null,
          null,
          31,
          23,
          null,
          9,
          70,
          61,
          10,
          48,
          null,
          22,
          30,
          57,
          null,
          62,
          null,
          14,
          59,
          null,
          9,
          42,
          null,
          60,
          21,
          20,
          4,
          null,
          9,
          null,
          null,
          null,
          null,
          null,
          46,
          34,
          59,
          null,
          55,
          9,
          81,
          28,
          70,
          28,
          21,
          2,
          null,
          34,
          45
         ],
         "yaxis": "y"
        }
       ],
       "layout": {
        "legend": {
         "title": {
          "text": "Charge"
         },
         "tracegroupgap": 0
        },
        "template": {
         "data": {
          "bar": [
           {
            "error_x": {
             "color": "#2a3f5f"
            },
            "error_y": {
             "color": "#2a3f5f"
            },
            "marker": {
             "line": {
              "color": "#E5ECF6",
              "width": 0.5
             },
             "pattern": {
              "fillmode": "overlay",
              "size": 10,
              "solidity": 0.2
             }
            },
            "type": "bar"
           }
          ],
          "barpolar": [
           {
            "marker": {
             "line": {
              "color": "#E5ECF6",
              "width": 0.5
             },
             "pattern": {
              "fillmode": "overlay",
              "size": 10,
              "solidity": 0.2
             }
            },
            "type": "barpolar"
           }
          ],
          "carpet": [
           {
            "aaxis": {
             "endlinecolor": "#2a3f5f",
             "gridcolor": "white",
             "linecolor": "white",
             "minorgridcolor": "white",
             "startlinecolor": "#2a3f5f"
            },
            "baxis": {
             "endlinecolor": "#2a3f5f",
             "gridcolor": "white",
             "linecolor": "white",
             "minorgridcolor": "white",
             "startlinecolor": "#2a3f5f"
            },
            "type": "carpet"
           }
          ],
          "choropleth": [
           {
            "colorbar": {
             "outlinewidth": 0,
             "ticks": ""
            },
            "type": "choropleth"
           }
          ],
          "contour": [
           {
            "colorbar": {
             "outlinewidth": 0,
             "ticks": ""
            },
            "colorscale": [
             [
              0,
              "#0d0887"
             ],
             [
              0.1111111111111111,
              "#46039f"
             ],
             [
              0.2222222222222222,
              "#7201a8"
             ],
             [
              0.3333333333333333,
              "#9c179e"
             ],
             [
              0.4444444444444444,
              "#bd3786"
             ],
             [
              0.5555555555555556,
              "#d8576b"
             ],
             [
              0.6666666666666666,
              "#ed7953"
             ],
             [
              0.7777777777777778,
              "#fb9f3a"
             ],
             [
              0.8888888888888888,
              "#fdca26"
             ],
             [
              1,
              "#f0f921"
             ]
            ],
            "type": "contour"
           }
          ],
          "contourcarpet": [
           {
            "colorbar": {
             "outlinewidth": 0,
             "ticks": ""
            },
            "type": "contourcarpet"
           }
          ],
          "heatmap": [
           {
            "colorbar": {
             "outlinewidth": 0,
             "ticks": ""
            },
            "colorscale": [
             [
              0,
              "#0d0887"
             ],
             [
              0.1111111111111111,
              "#46039f"
             ],
             [
              0.2222222222222222,
              "#7201a8"
             ],
             [
              0.3333333333333333,
              "#9c179e"
             ],
             [
              0.4444444444444444,
              "#bd3786"
             ],
             [
              0.5555555555555556,
              "#d8576b"
             ],
             [
              0.6666666666666666,
              "#ed7953"
             ],
             [
              0.7777777777777778,
              "#fb9f3a"
             ],
             [
              0.8888888888888888,
              "#fdca26"
             ],
             [
              1,
              "#f0f921"
             ]
            ],
            "type": "heatmap"
           }
          ],
          "heatmapgl": [
           {
            "colorbar": {
             "outlinewidth": 0,
             "ticks": ""
            },
            "colorscale": [
             [
              0,
              "#0d0887"
             ],
             [
              0.1111111111111111,
              "#46039f"
             ],
             [
              0.2222222222222222,
              "#7201a8"
             ],
             [
              0.3333333333333333,
              "#9c179e"
             ],
             [
              0.4444444444444444,
              "#bd3786"
             ],
             [
              0.5555555555555556,
              "#d8576b"
             ],
             [
              0.6666666666666666,
              "#ed7953"
             ],
             [
              0.7777777777777778,
              "#fb9f3a"
             ],
             [
              0.8888888888888888,
              "#fdca26"
             ],
             [
              1,
              "#f0f921"
             ]
            ],
            "type": "heatmapgl"
           }
          ],
          "histogram": [
           {
            "marker": {
             "pattern": {
              "fillmode": "overlay",
              "size": 10,
              "solidity": 0.2
             }
            },
            "type": "histogram"
           }
          ],
          "histogram2d": [
           {
            "colorbar": {
             "outlinewidth": 0,
             "ticks": ""
            },
            "colorscale": [
             [
              0,
              "#0d0887"
             ],
             [
              0.1111111111111111,
              "#46039f"
             ],
             [
              0.2222222222222222,
              "#7201a8"
             ],
             [
              0.3333333333333333,
              "#9c179e"
             ],
             [
              0.4444444444444444,
              "#bd3786"
             ],
             [
              0.5555555555555556,
              "#d8576b"
             ],
             [
              0.6666666666666666,
              "#ed7953"
             ],
             [
              0.7777777777777778,
              "#fb9f3a"
             ],
             [
              0.8888888888888888,
              "#fdca26"
             ],
             [
              1,
              "#f0f921"
             ]
            ],
            "type": "histogram2d"
           }
          ],
          "histogram2dcontour": [
           {
            "colorbar": {
             "outlinewidth": 0,
             "ticks": ""
            },
            "colorscale": [
             [
              0,
              "#0d0887"
             ],
             [
              0.1111111111111111,
              "#46039f"
             ],
             [
              0.2222222222222222,
              "#7201a8"
             ],
             [
              0.3333333333333333,
              "#9c179e"
             ],
             [
              0.4444444444444444,
              "#bd3786"
             ],
             [
              0.5555555555555556,
              "#d8576b"
             ],
             [
              0.6666666666666666,
              "#ed7953"
             ],
             [
              0.7777777777777778,
              "#fb9f3a"
             ],
             [
              0.8888888888888888,
              "#fdca26"
             ],
             [
              1,
              "#f0f921"
             ]
            ],
            "type": "histogram2dcontour"
           }
          ],
          "mesh3d": [
           {
            "colorbar": {
             "outlinewidth": 0,
             "ticks": ""
            },
            "type": "mesh3d"
           }
          ],
          "parcoords": [
           {
            "line": {
             "colorbar": {
              "outlinewidth": 0,
              "ticks": ""
             }
            },
            "type": "parcoords"
           }
          ],
          "pie": [
           {
            "automargin": true,
            "type": "pie"
           }
          ],
          "scatter": [
           {
            "fillpattern": {
             "fillmode": "overlay",
             "size": 10,
             "solidity": 0.2
            },
            "type": "scatter"
           }
          ],
          "scatter3d": [
           {
            "line": {
             "colorbar": {
              "outlinewidth": 0,
              "ticks": ""
             }
            },
            "marker": {
             "colorbar": {
              "outlinewidth": 0,
              "ticks": ""
             }
            },
            "type": "scatter3d"
           }
          ],
          "scattercarpet": [
           {
            "marker": {
             "colorbar": {
              "outlinewidth": 0,
              "ticks": ""
             }
            },
            "type": "scattercarpet"
           }
          ],
          "scattergeo": [
           {
            "marker": {
             "colorbar": {
              "outlinewidth": 0,
              "ticks": ""
             }
            },
            "type": "scattergeo"
           }
          ],
          "scattergl": [
           {
            "marker": {
             "colorbar": {
              "outlinewidth": 0,
              "ticks": ""
             }
            },
            "type": "scattergl"
           }
          ],
          "scattermapbox": [
           {
            "marker": {
             "colorbar": {
              "outlinewidth": 0,
              "ticks": ""
             }
            },
            "type": "scattermapbox"
           }
          ],
          "scatterpolar": [
           {
            "marker": {
             "colorbar": {
              "outlinewidth": 0,
              "ticks": ""
             }
            },
            "type": "scatterpolar"
           }
          ],
          "scatterpolargl": [
           {
            "marker": {
             "colorbar": {
              "outlinewidth": 0,
              "ticks": ""
             }
            },
            "type": "scatterpolargl"
           }
          ],
          "scatterternary": [
           {
            "marker": {
             "colorbar": {
              "outlinewidth": 0,
              "ticks": ""
             }
            },
            "type": "scatterternary"
           }
          ],
          "surface": [
           {
            "colorbar": {
             "outlinewidth": 0,
             "ticks": ""
            },
            "colorscale": [
             [
              0,
              "#0d0887"
             ],
             [
              0.1111111111111111,
              "#46039f"
             ],
             [
              0.2222222222222222,
              "#7201a8"
             ],
             [
              0.3333333333333333,
              "#9c179e"
             ],
             [
              0.4444444444444444,
              "#bd3786"
             ],
             [
              0.5555555555555556,
              "#d8576b"
             ],
             [
              0.6666666666666666,
              "#ed7953"
             ],
             [
              0.7777777777777778,
              "#fb9f3a"
             ],
             [
              0.8888888888888888,
              "#fdca26"
             ],
             [
              1,
              "#f0f921"
             ]
            ],
            "type": "surface"
           }
          ],
          "table": [
           {
            "cells": {
             "fill": {
              "color": "#EBF0F8"
             },
             "line": {
              "color": "white"
             }
            },
            "header": {
             "fill": {
              "color": "#C8D4E3"
             },
             "line": {
              "color": "white"
             }
            },
            "type": "table"
           }
          ]
         },
         "layout": {
          "annotationdefaults": {
           "arrowcolor": "#2a3f5f",
           "arrowhead": 0,
           "arrowwidth": 1
          },
          "autotypenumbers": "strict",
          "coloraxis": {
           "colorbar": {
            "outlinewidth": 0,
            "ticks": ""
           }
          },
          "colorscale": {
           "diverging": [
            [
             0,
             "#8e0152"
            ],
            [
             0.1,
             "#c51b7d"
            ],
            [
             0.2,
             "#de77ae"
            ],
            [
             0.3,
             "#f1b6da"
            ],
            [
             0.4,
             "#fde0ef"
            ],
            [
             0.5,
             "#f7f7f7"
            ],
            [
             0.6,
             "#e6f5d0"
            ],
            [
             0.7,
             "#b8e186"
            ],
            [
             0.8,
             "#7fbc41"
            ],
            [
             0.9,
             "#4d9221"
            ],
            [
             1,
             "#276419"
            ]
           ],
           "sequential": [
            [
             0,
             "#0d0887"
            ],
            [
             0.1111111111111111,
             "#46039f"
            ],
            [
             0.2222222222222222,
             "#7201a8"
            ],
            [
             0.3333333333333333,
             "#9c179e"
            ],
            [
             0.4444444444444444,
             "#bd3786"
            ],
            [
             0.5555555555555556,
             "#d8576b"
            ],
            [
             0.6666666666666666,
             "#ed7953"
            ],
            [
             0.7777777777777778,
             "#fb9f3a"
            ],
            [
             0.8888888888888888,
             "#fdca26"
            ],
            [
             1,
             "#f0f921"
            ]
           ],
           "sequentialminus": [
            [
             0,
             "#0d0887"
            ],
            [
             0.1111111111111111,
             "#46039f"
            ],
            [
             0.2222222222222222,
             "#7201a8"
            ],
            [
             0.3333333333333333,
             "#9c179e"
            ],
            [
             0.4444444444444444,
             "#bd3786"
            ],
            [
             0.5555555555555556,
             "#d8576b"
            ],
            [
             0.6666666666666666,
             "#ed7953"
            ],
            [
             0.7777777777777778,
             "#fb9f3a"
            ],
            [
             0.8888888888888888,
             "#fdca26"
            ],
            [
             1,
             "#f0f921"
            ]
           ]
          },
          "colorway": [
           "#636efa",
           "#EF553B",
           "#00cc96",
           "#ab63fa",
           "#FFA15A",
           "#19d3f3",
           "#FF6692",
           "#B6E880",
           "#FF97FF",
           "#FECB52"
          ],
          "font": {
           "color": "#2a3f5f"
          },
          "geo": {
           "bgcolor": "white",
           "lakecolor": "white",
           "landcolor": "#E5ECF6",
           "showlakes": true,
           "showland": true,
           "subunitcolor": "white"
          },
          "hoverlabel": {
           "align": "left"
          },
          "hovermode": "closest",
          "mapbox": {
           "style": "light"
          },
          "paper_bgcolor": "white",
          "plot_bgcolor": "#E5ECF6",
          "polar": {
           "angularaxis": {
            "gridcolor": "white",
            "linecolor": "white",
            "ticks": ""
           },
           "bgcolor": "#E5ECF6",
           "radialaxis": {
            "gridcolor": "white",
            "linecolor": "white",
            "ticks": ""
           }
          },
          "scene": {
           "xaxis": {
            "backgroundcolor": "#E5ECF6",
            "gridcolor": "white",
            "gridwidth": 2,
            "linecolor": "white",
            "showbackground": true,
            "ticks": "",
            "zerolinecolor": "white"
           },
           "yaxis": {
            "backgroundcolor": "#E5ECF6",
            "gridcolor": "white",
            "gridwidth": 2,
            "linecolor": "white",
            "showbackground": true,
            "ticks": "",
            "zerolinecolor": "white"
           },
           "zaxis": {
            "backgroundcolor": "#E5ECF6",
            "gridcolor": "white",
            "gridwidth": 2,
            "linecolor": "white",
            "showbackground": true,
            "ticks": "",
            "zerolinecolor": "white"
           }
          },
          "shapedefaults": {
           "line": {
            "color": "#2a3f5f"
           }
          },
          "ternary": {
           "aaxis": {
            "gridcolor": "white",
            "linecolor": "white",
            "ticks": ""
           },
           "baxis": {
            "gridcolor": "white",
            "linecolor": "white",
            "ticks": ""
           },
           "bgcolor": "#E5ECF6",
           "caxis": {
            "gridcolor": "white",
            "linecolor": "white",
            "ticks": ""
           }
          },
          "title": {
           "x": 0.05
          },
          "xaxis": {
           "automargin": true,
           "gridcolor": "white",
           "linecolor": "white",
           "ticks": "",
           "title": {
            "standoff": 15
           },
           "zerolinecolor": "white",
           "zerolinewidth": 2
          },
          "yaxis": {
           "automargin": true,
           "gridcolor": "white",
           "linecolor": "white",
           "ticks": "",
           "title": {
            "standoff": 15
           },
           "zerolinecolor": "white",
           "zerolinewidth": 2
          }
         }
        },
        "title": {
         "text": "Relationship of Victim and Assailant Ages"
        },
        "updatemenus": [
         {
          "buttons": [
           {
            "args": [
             {
              "visible": [
               true,
               true,
               true
              ]
             },
             {
              "title": "Victim and assailant ages, Philadelphia homicides (1902-1932)",
              "xaxis": {
               "title": "Age of accused"
              },
              "yaxis": {
               "title": "Victim age"
              }
             }
            ],
            "label": "All charges",
            "method": "update"
           },
           {
            "args": [
             {
              "visible": [
               true,
               false,
               false
              ]
             },
             {
              "title": "Victim and assailant ages in murder charges",
              "xaxis": {
               "title": "Age of accused"
              },
              "yaxis": {
               "title": "Victim age"
              }
             }
            ],
            "label": "Murder",
            "method": "update"
           },
           {
            "args": [
             {
              "visible": [
               false,
               false,
               true
              ]
             },
             {
              "title": "Victim and assailant in manslaughter charges",
              "xaxis": {
               "title": "Age of accused"
              },
              "yaxis": {
               "title": "Victim age"
              }
             }
            ],
            "label": "Manslaughter",
            "method": "update"
           },
           {
            "args": [
             {
              "visible": [
               false,
               true,
               false
              ]
             },
             {
              "title": "Ages of accused and victims in abortion charges",
              "xaxis": {
               "title": "Age of accused"
              },
              "yaxis": {
               "title": "Victim age"
              }
             }
            ],
            "label": "Abortion",
            "method": "update"
           }
          ]
         }
        ],
        "xaxis": {
         "anchor": "y",
         "domain": [
          0,
          1
         ],
         "title": {
          "text": "Assailant age"
         }
        },
        "yaxis": {
         "anchor": "x",
         "domain": [
          0,
          1
         ],
         "title": {
          "text": "Victim age"
         }
        }
       }
      }
     },
     "metadata": {},
     "output_type": "display_data"
    }
   ],
   "source": [
    "fig = px.scatter(\n",
    "    phl_crime,\n",
    "    x=\"Age of accused\",\n",
    "    y=\"Victim age\",\n",
    "    color=\"Charge\",\n",
    "    title=\"Relationship of Victim and Assailant Ages\",\n",
    "    labels={\"Age of accused\": \"Assailant age\"},\n",
    ")\n",
    "\n",
    "fig.update_layout(\n",
    "    updatemenus=[\n",
    "        dict(\n",
    "            buttons=list(\n",
    "                [  # Create the 'buttons' list to store a dictionary for each dropdown option\n",
    "                    dict(\n",
    "                        label=\"All charges\",  # Add label for first 'view'\n",
    "                        method=\"update\",\n",
    "                        args=[\n",
    "                            {\n",
    "                                \"visible\": [True, True, True]\n",
    "                            },  # This 'view' show all three types of crime\n",
    "                            {\n",
    "                                \"title\": \"Victim and assailant ages, Philadelphia homicides (1902-1932)\",\n",
    "                                \"xaxis\": {\"title\": \"Age of accused\"},\n",
    "                                \"yaxis\": {\"title\": \"Victim age\"},\n",
    "                            },\n",
    "                        ],\n",
    "                    ),\n",
    "                    dict(\n",
    "                        label=\"Murder\",  # Add label for second 'view'\n",
    "                        method=\"update\",\n",
    "                        args=[\n",
    "                            {\n",
    "                                \"visible\": [True, False, False]\n",
    "                            },  # Will only show data for first item (murder)\n",
    "                            {\n",
    "                                \"title\": \"Victim and assailant ages in murder charges\",  # Can change titles here to make the graph more dynamic\n",
    "                                \"xaxis\": {\n",
    "                                    \"title\": \"Age of accused\"\n",
    "                                },  # As above\n",
    "                                \"yaxis\": {\"title\": \"Victim age\"},\n",
    "                            },\n",
    "                        ],\n",
    "                    ),  # As above\n",
    "                    dict(\n",
    "                        label=\"Manslaughter\",  # Add label for third 'view'\n",
    "                        method=\"update\",\n",
    "                        args=[\n",
    "                            {\n",
    "                                \"visible\": [False, False, True]\n",
    "                            },  # Will only show data for second item (manslaughter)\n",
    "                            {\n",
    "                                \"title\": \"Victim and assailant in manslaughter charges\",  # New title\n",
    "                                \"xaxis\": {\n",
    "                                    \"title\": \"Age of accused\"\n",
    "                                },  # New x- and y-axis titles\n",
    "                                \"yaxis\": {\"title\": \"Victim age\"},\n",
    "                            },\n",
    "                        ],\n",
    "                    ),\n",
    "                    dict(\n",
    "                        label=\"Abortion\",  # Add label for fourth 'view'\n",
    "                        method=\"update\",\n",
    "                        args=[\n",
    "                            {\n",
    "                                \"visible\": [False, True, False]\n",
    "                            },  # Will only show data for third item (abortion)\n",
    "                            {\n",
    "                                \"title\": \"Ages of accused and victims in abortion charges\",  # New title\n",
    "                                \"xaxis\": {\n",
    "                                    \"title\": \"Age of accused\"\n",
    "                                },  # New x- and y-axes titles\n",
    "                                \"yaxis\": {\"title\": \"Victim age\"},\n",
    "                            },\n",
    "                        ],\n",
    "                    ),\n",
    "                ]\n",
    "            )\n",
    "        )\n",
    "    ]\n",
    ")\n",
    "\n",
    "fig.show()"
   ]
  },
  {
   "cell_type": "code",
   "execution_count": 10,
   "metadata": {},
   "outputs": [
    {
     "name": "stdout",
     "output_type": "stream",
     "text": [
      "<class 'plotly.graph_objs._figure.Figure'>\n",
      "{\n",
      "  \"data\": [\n",
      "    {\n",
      "      \"hovertemplate\": \"Charge=Murder\\u003cbr\\u003eAssailant age=%{x}\\u003cbr\\u003eVictim age=%{y}\\u003cextra\\u003e\\u003c\\u002fextra\\u003e\",\n",
      "      \"legendgroup\": \"Murder\",\n",
      "      \"marker\": {\n",
      "        \"color\": \"#636efa\",\n",
      "        \"symbol\": \"circle\"\n",
      "      },\n",
      "      \"mode\": \"markers\",\n",
      "      \"name\": \"Murder\",\n",
      "      \"orientation\": \"v\",\n",
      "      \"showlegend\": true,\n",
      "      \"x\": [\n",
      "        null,\n",
      "        null,\n",
      "        null,\n",
      "        null,\n",
      "        21.0,\n",
      "        17.0,\n",
      "        null,\n",
      "        null,\n",
      "\n",
      "...\n",
      "{'data': [{'hovertemplate': 'Charge=Murder<br>Assailant age=%{x}<br>Victim age=%{y}<extra></extra>', 'legendgroup': 'Murder', 'marker': {'color': '#636efa', 'symbol': 'circle'}, 'mode': 'markers', 'name': 'Murder', 'orientation': 'v', 'showlegend': True, 'x': array([nan, nan, nan, nan, 21., 17., nan, nan, nan, nan, nan, nan, 16.,\n",
      "       nan, 28., 33., 18., nan, nan, nan, 17., 58., nan, nan, nan, nan,\n",
      "       nan, nan, nan, nan, nan, nan, nan, nan, 17., nan, nan, 25., 25.,\n",
      "       nan, 19., 60., nan, nan, nan, 98., nan, nan, nan, nan, nan, 22.,\n",
      "       nan, 21., nan, nan, 30., nan, 24., nan, 23., nan, nan, nan, nan,\n",
      "       nan, nan, nan, nan, 50., nan, nan, nan, nan, nan, nan, nan, 35.,\n",
      "       47., 42., 19., nan, 25., nan, nan, 21., nan, 23., 98., nan, 35.,\n",
      "       18., 19., 60., 28., 21., 44., 64., nan, 21., 32., 51., 42., 22.,\n",
      "       30., 36., 26., 37., 36., 45., 32., 41., 42., 22., 24., 40., 22.,\n",
      "       42., 41., nan, 22., 42., 38., 20., nan, nan, 35., 40., 30., 40.,\n",
      "       35., 24., 27., 25., nan, 35., 21., 30., nan, 35., 15., 16., 53.,\n",
      "       nan, nan, 57., 30., 30., 41., 34., 22., 36., nan, 28., nan, 17.,\n",
      "       98., 34., 25., 25., 38., 17., 20., nan, 22., 31., 34., 35., 31.,\n",
      "       24., 55., 30., 25., 45., 29., 55., 28., 25., 30., nan, 23., nan,\n",
      "       50., 35., 28., 42., 23., 42., 30., 30., 21., 21., 25., nan, 25.,\n",
      "       20., 20., nan, nan, nan, nan, nan, 77., nan, nan, nan, 30., 29.,\n",
      "       16., 20., nan, 61., 20., 56., nan, nan, nan, 12., 15., 45., 20.,\n",
      "       35., nan, 50., 22., nan, 24., nan, nan, nan, nan, nan, nan, nan,\n",
      "       28., 33., 57., 36., nan, 29., 35., nan, 29., 28., 33., 36., 30.,\n",
      "       25., 48., 38., 21., 34., 31., 25., nan, 52., 35., 40., nan, 21.,\n",
      "       nan, 30., 30., 17., nan, 51., 22., 30., 20., 35., 29., nan, 30.,\n",
      "       40., 31., nan, 40., 24., 28., 35., 32., 22., 45., 24., 28., 38.,\n",
      "       29., 32., nan, 37., 14., 31., nan, 34., nan, 28., 98., 22., 28.,\n",
      "       25., 25., 27., 43., nan, 19., 31., 30., 20., 31., 24., 42., 26.,\n",
      "       46., nan, nan, 52., 25., 23., 25., nan, 30., nan, 38., nan, nan,\n",
      "       30., 29., 37., 28., 31., 98., 34., 42., 29., 20., 21., 28., 33.,\n",
      "       18., nan, 46., 30., 20., 58., 22., 26., 33., 40., 43., 37., 28.,\n",
      "       27., nan, 25., 28., 37., nan, 29., nan, 32., 23., 24., nan, nan,\n",
      "       nan, 22., nan, nan, nan, 44., 40., 45., 27., 29., nan, nan, 56.,\n",
      "       nan, 37., nan, nan, 33., 25., 26., nan, 26., nan, 30., 23., nan,\n",
      "       nan, 36., nan, nan, nan, 18., nan, nan, 25., nan, 17., nan, 41.,\n",
      "       26., nan, 29., nan, nan, nan, nan, 98., nan, nan, 25., nan, nan,\n",
      "       15., 34., 34., 32., nan, nan, 39., nan, 28., 25., 25., nan, 26.,\n",
      "       27., nan, 26., 13., nan, nan, 27., nan, nan, 42., 28., 18., nan,\n",
      "       32., 20., 38., 42., 20., 39., 39., 31., 16., 35., 30., 30., 39.,\n",
      "       22., 35., 23., 14., 31., 39., 22., 27., 32., 23., 29., 26., 38.,\n",
      "       30., 26., 39., 24., 30., 30., 40., 40., 37., 41., 35., nan, 25.,\n",
      "       nan, nan, 30., 42., 37., 23., nan, 25., nan, 66., 29., 55., 40.,\n",
      "       32., nan, 30., nan, 31., 35., 32., 37., 24., 54., 34., nan, 20.,\n",
      "       34., nan, 20., nan, nan, nan, 30., 31., nan, nan, 55., nan, 28.,\n",
      "       19., 19., 17., 20., 32., 38., 27., nan, 34., 37., 26., nan, 37.,\n",
      "       nan, 39., 38., 40., 54., 30., nan, 37., 42., 41., nan, nan, 36.,\n",
      "       15., 47.]), 'xaxis': 'x', 'y': array([nan, nan, nan, nan, 21., 23., nan, 50., 21., nan, nan, nan, 25.,\n",
      "       nan, 50., 28., 22., nan, nan, nan, nan, nan, 55., nan, 10., nan,\n",
      "       nan, nan,  8., nan, nan, 59., nan,  1., 27., nan, 59., 30., 25.,\n",
      "       nan, 17., nan, nan, nan, nan, nan, nan, 28., nan, nan, nan, 23.,\n",
      "       nan, 39., nan, nan, 30., nan, nan, nan, 27., nan, nan, 12., nan,\n",
      "       40., nan, nan, nan, nan, nan, 60., nan, 65., nan, nan, 27., 30.,\n",
      "       20., nan, 19., nan, 28., nan,  1., nan, nan, 69., 31., 17., 48.,\n",
      "       25., 35., 15., 30., 25., 28., 38., 38., 20., 30., 26., 18., 26.,\n",
      "       20., 24., 31., 32., 45., 35., 26., 60., 36., 29., 59., 34., 35.,\n",
      "        8., 31., nan, 21., 33., nan, 48., nan, 21., 36., 38., 26., 26.,\n",
      "       36., nan, 51., 24., nan, 38., 18., 24., 44., 26., 11., 16., 38.,\n",
      "       nan, 23., 40., 35., 37., 38., 25., 57., 35.,  1., 25., 28., 38.,\n",
      "       nan, 29., 26., 45., 36., 50., 26., 33., 33., 23., nan, 24., 23.,\n",
      "       28., 38., 33., 30., 40., 27., 47., 32., 27., 25., nan, 25., 42.,\n",
      "       45., 24., 36., 31., 24., 40., 34., 26., 46., 25., 28., nan, 24.,\n",
      "       21., 20., 35., nan, nan, nan, nan, nan, nan, 48., nan, 25., 25.,\n",
      "       10., 38., 75., 36., 21., 35., 30., 22., 45., 10., 15., 47., nan,\n",
      "       33., 63., 20., 30., 38., nan, nan, 38., 25., 25., 35., nan, 21.,\n",
      "       31., 69., 36., 32., nan, 33., 26., 31., 36., 20., nan, 40., 26.,\n",
      "       30., 48., 31., 20., 47., 37., nan, nan, 26., 45., 35., nan, 20.,\n",
      "       15., 36., 30., 30., 24., 45., nan, 30., 30., nan, 31., 88., 30.,\n",
      "       38., 30., 45., 34., 47., 25., 40., 20., 37., 24., 32., 27., 55.,\n",
      "       42., 36., nan, 33.,  8., 44., 59.,  5., 12., nan, 59., 25., 46.,\n",
      "       26., nan, 27., 30., 50., 31., 36., 30., 35., 30., 25., 27., 21.,\n",
      "       nan, 76., 37., 39., 24., nan, 22., nan,  9.,  1., 27.,  6., nan,\n",
      "       30., 50., 45., 55., 33., nan, 51., 35., nan, 16., 23., 17., 37.,\n",
      "       21., nan, 27., 50., 30., 50., 17., 27., 32., 39., 23., 37., 23.,\n",
      "       32., nan, 39., 25., 43., nan, 54., 42., 28., 25., 23., 25., 48.,\n",
      "       nan, 42., 21., 26., 35., 25., 33., 40., 31., 40., 21., 27., 35.,\n",
      "       38., 37., 37., 33., 55., 27., 29., nan, 26., 47., 65., 39., 27.,\n",
      "       26., 25., 23., 17., nan, 17., 35., nan, 24., nan, nan, nan, nan,\n",
      "       nan, nan, 31., nan, 41., nan, nan, nan, nan, 35., nan, nan, nan,\n",
      "       21., 41., 26., 22., nan, 50., 32., nan, 29., 41., 32., nan, 48.,\n",
      "       nan, nan, 21., 43., 19., nan, nan, nan, nan, 52., 31., 22., nan,\n",
      "       42., 21., 41., 40., 69., 41., 42., 31.,  7., 28., 22., 30., 39.,\n",
      "       35., 17., 26., 10., 19., 45., 31., 43., 32., 19., 49., 26., 22.,\n",
      "       35., 25., nan, 23., 35., 42., 27., 40., 30., 33., 37., nan, 35.,\n",
      "       44., nan, 33., 64., 34., 24., nan, 39., 51., 39., 29., 50., nan,\n",
      "       nan, 64., 26., 20., 32., 29., 28., 23., 27., 21., 56., 20., 21.,\n",
      "       19., 22., 27., 32., 23., 37., 22., 40., 21., 62., 43., 47., 27.,\n",
      "       49., 23.,  8., 63., 41., 33., 46., 35., 29., 34., 23., 25., 37.,\n",
      "        9., 30., 32., 42., 44., 22., 61., 43., 36., 39., 38., 40., 36.,\n",
      "       11., 27.]), 'yaxis': 'y', 'type': 'scatter'}, {'hovertemplate': 'Charge=Abortion<br>Assailant age=%{x}<br>Victim age=%{y}<extra></extra>', 'legendgroup': 'Abortion', 'marker': {'color': '#EF553B', 'symbol': 'circle'}, 'mode': 'markers', 'name': 'Abortion', 'orientation': 'v', 'showlegend': True, 'x': array([47., nan, nan, nan, nan, nan, nan, nan, nan, nan, nan, nan, nan,\n",
      "       nan, nan, nan, nan, nan, nan, nan, nan, nan, nan, nan, 60., nan,\n",
      "       nan, nan, nan, nan, nan, nan, nan, nan, 53., nan, 52., nan, nan,\n",
      "       nan, nan, nan, nan, nan, nan, nan, nan, nan, nan, nan, nan, 26.,\n",
      "       nan, nan]), 'xaxis': 'x', 'y': array([nan, nan, 38., nan, nan, nan, nan, nan, nan, nan, nan, nan, 59.,\n",
      "       nan, nan, 59., nan, nan, nan, nan, nan, 35., nan, nan, nan, nan,\n",
      "       nan, nan, 20., nan, nan, nan, 59., nan, nan, nan, nan, 23., nan,\n",
      "       nan, nan, 59., nan, nan, nan, nan, 18., nan, nan, nan, nan, 26.,\n",
      "       nan, nan]), 'yaxis': 'y', 'type': 'scatter'}, {'hovertemplate': 'Charge=Manslaughter<br>Assailant age=%{x}<br>Victim age=%{y}<extra></extra>', 'legendgroup': 'Manslaughter', 'marker': {'color': '#00cc96', 'symbol': 'circle'}, 'mode': 'markers', 'name': 'Manslaughter', 'orientation': 'v', 'showlegend': True, 'x': array([nan, nan, nan, nan, nan, nan, 15., 19., nan, 19., nan, 98., nan,\n",
      "       nan, 35., 35., 23., 56., nan, nan, nan, nan, nan, 22., nan, 59.,\n",
      "       nan, nan, nan, 33., 26., nan, 42., nan, nan, 26., nan, nan, 23.,\n",
      "       nan, nan, 23., 18., 16., nan, nan, nan, 24., nan, 19., nan, 29.,\n",
      "       nan, nan, 93., 19., 24., nan, nan, 25., nan, nan, 30., nan, nan,\n",
      "       30., nan, nan, nan, nan, 41., 25., nan, nan, nan, nan, 26., nan,\n",
      "       29., 34., 19., nan, nan, nan, nan, nan, 24., 25., 22., nan, nan,\n",
      "       nan, nan, nan, nan, nan, nan, nan, 18., nan, nan, 36., 24., nan,\n",
      "       28., 44., nan, nan, 33., nan, nan, 40.]), 'xaxis': 'x', 'y': array([nan, 49., 19., nan, nan, 17., 15., 18., nan, 61., 29., 11., 35.,\n",
      "       10., 48., 48., 35., 56., nan,  2., nan, nan, nan, 65., 53., 45.,\n",
      "       48., nan, nan,  1., 36., nan, 40., nan, nan, 34., nan, nan, 39.,\n",
      "        5., nan, 31., nan, 17., 28., nan, nan, 73., nan, nan, nan, nan,\n",
      "       10., nan, nan, nan, 21., nan, nan, 47.,  8., 67., 36., nan, nan,\n",
      "       31., 23., nan,  9., 70., 61., 10., 48., nan, 22., 30., 57., nan,\n",
      "       62., nan, 14., 59., nan,  9., 42., nan, 60., 21., 20.,  4., nan,\n",
      "        9., nan, nan, nan, nan, nan, 46., 34., 59., nan, 55.,  9., 81.,\n",
      "       28., 70., 28., 21.,  2., nan, 34., 45.]), 'yaxis': 'y', 'type': 'scatter'}], 'layout': {'template': {'data': {'histogram2dcontour': [{'type': 'histogram2dcontour', 'colorbar': {'outlinewidth': 0, 'ticks': ''}, 'colorscale': [[0.0, '#0d0887'], [0.1111111111111111, '#46039f'], [0.2222222222222222, '#7201a8'], [0.3333333333333333, '#9c179e'], [0.4444444444444444, '#bd3786'], [0.5555555555555556, '#d8576b'], [0.6666666666666666, '#ed7953'], [0.7777777777777778, '#fb9f3a'], [0.8888888888888888, '#fdca26'], [1.0, '#f0f921']]}], 'choropleth': [{'type': 'choropleth', 'colorbar': {'outlinewidth': 0, 'ticks': ''}}], 'histogram2d': [{'type': 'histogram2d', 'colorbar': {'outlinewidth': 0, 'ticks': ''}, 'colorscale': [[0.0, '#0d0887'], [0.1111111111111111, '#46039f'], [0.2222222222222222, '#7201a8'], [0.3333333333333333, '#9c179e'], [0.4444444444444444, '#bd3786'], [0.5555555555555556, '#d8576b'], [0.6666666666666666, '#ed7953'], [0.7777777777777778, '#fb9f3a'], [0.8888888888888888, '#fdca26'], [1.0, '#f0f921']]}], 'heatmap': [{'type': 'heatmap', 'colorbar': {'outlinewidth': 0, 'ticks': ''}, 'colorscale': [[0.0, '#0d0887'], [0.1111111111111111, '#46039f'], [0.2222222222222222, '#7201a8'], [0.3333333333333333, '#9c179e'], [0.4444444444444444, '#bd3786'], [0.5555555555555556, '#d8576b'], [0.6666666666666666, '#ed7953'], [0.7777777777777778, '#fb9f3a'], [0.8888888888888888, '#fdca26'], [1.0, '#f0f921']]}], 'heatmapgl': [{'type': 'heatmapgl', 'colorbar': {'outlinewidth': 0, 'ticks': ''}, 'colorscale': [[0.0, '#0d0887'], [0.1111111111111111, '#46039f'], [0.2222222222222222, '#7201a8'], [0.3333333333333333, '#9c179e'], [0.4444444444444444, '#bd3786'], [0.5555555555555556, '#d8576b'], [0.6666666666666666, '#ed7953'], [0.7777777777777778, '#fb9f3a'], [0.8888888888888888, '#fdca26'], [1.0, '#f0f921']]}], 'contourcarpet': [{'type': 'contourcarpet', 'colorbar': {'outlinewidth': 0, 'ticks': ''}}], 'contour': [{'type': 'contour', 'colorbar': {'outlinewidth': 0, 'ticks': ''}, 'colorscale': [[0.0, '#0d0887'], [0.1111111111111111, '#46039f'], [0.2222222222222222, '#7201a8'], [0.3333333333333333, '#9c179e'], [0.4444444444444444, '#bd3786'], [0.5555555555555556, '#d8576b'], [0.6666666666666666, '#ed7953'], [0.7777777777777778, '#fb9f3a'], [0.8888888888888888, '#fdca26'], [1.0, '#f0f921']]}], 'surface': [{'type': 'surface', 'colorbar': {'outlinewidth': 0, 'ticks': ''}, 'colorscale': [[0.0, '#0d0887'], [0.1111111111111111, '#46039f'], [0.2222222222222222, '#7201a8'], [0.3333333333333333, '#9c179e'], [0.4444444444444444, '#bd3786'], [0.5555555555555556, '#d8576b'], [0.6666666666666666, '#ed7953'], [0.7777777777777778, '#fb9f3a'], [0.8888888888888888, '#fdca26'], [1.0, '#f0f921']]}], 'mesh3d': [{'type': 'mesh3d', 'colorbar': {'outlinewidth': 0, 'ticks': ''}}], 'scatter': [{'fillpattern': {'fillmode': 'overlay', 'size': 10, 'solidity': 0.2}, 'type': 'scatter'}], 'parcoords': [{'type': 'parcoords', 'line': {'colorbar': {'outlinewidth': 0, 'ticks': ''}}}], 'scatterpolargl': [{'type': 'scatterpolargl', 'marker': {'colorbar': {'outlinewidth': 0, 'ticks': ''}}}], 'bar': [{'error_x': {'color': '#2a3f5f'}, 'error_y': {'color': '#2a3f5f'}, 'marker': {'line': {'color': '#E5ECF6', 'width': 0.5}, 'pattern': {'fillmode': 'overlay', 'size': 10, 'solidity': 0.2}}, 'type': 'bar'}], 'scattergeo': [{'type': 'scattergeo', 'marker': {'colorbar': {'outlinewidth': 0, 'ticks': ''}}}], 'scatterpolar': [{'type': 'scatterpolar', 'marker': {'colorbar': {'outlinewidth': 0, 'ticks': ''}}}], 'histogram': [{'marker': {'pattern': {'fillmode': 'overlay', 'size': 10, 'solidity': 0.2}}, 'type': 'histogram'}], 'scattergl': [{'type': 'scattergl', 'marker': {'colorbar': {'outlinewidth': 0, 'ticks': ''}}}], 'scatter3d': [{'type': 'scatter3d', 'line': {'colorbar': {'outlinewidth': 0, 'ticks': ''}}, 'marker': {'colorbar': {'outlinewidth': 0, 'ticks': ''}}}], 'scattermapbox': [{'type': 'scattermapbox', 'marker': {'colorbar': {'outlinewidth': 0, 'ticks': ''}}}], 'scatterternary': [{'type': 'scatterternary', 'marker': {'colorbar': {'outlinewidth': 0, 'ticks': ''}}}], 'scattercarpet': [{'type': 'scattercarpet', 'marker': {'colorbar': {'outlinewidth': 0, 'ticks': ''}}}], 'carpet': [{'aaxis': {'endlinecolor': '#2a3f5f', 'gridcolor': 'white', 'linecolor': 'white', 'minorgridcolor': 'white', 'startlinecolor': '#2a3f5f'}, 'baxis': {'endlinecolor': '#2a3f5f', 'gridcolor': 'white', 'linecolor': 'white', 'minorgridcolor': 'white', 'startlinecolor': '#2a3f5f'}, 'type': 'carpet'}], 'table': [{'cells': {'fill': {'color': '#EBF0F8'}, 'line': {'color': 'white'}}, 'header': {'fill': {'color': '#C8D4E3'}, 'line': {'color': 'white'}}, 'type': 'table'}], 'barpolar': [{'marker': {'line': {'color': '#E5ECF6', 'width': 0.5}, 'pattern': {'fillmode': 'overlay', 'size': 10, 'solidity': 0.2}}, 'type': 'barpolar'}], 'pie': [{'automargin': True, 'type': 'pie'}]}, 'layout': {'autotypenumbers': 'strict', 'colorway': ['#636efa', '#EF553B', '#00cc96', '#ab63fa', '#FFA15A', '#19d3f3', '#FF6692', '#B6E880', '#FF97FF', '#FECB52'], 'font': {'color': '#2a3f5f'}, 'hovermode': 'closest', 'hoverlabel': {'align': 'left'}, 'paper_bgcolor': 'white', 'plot_bgcolor': '#E5ECF6', 'polar': {'bgcolor': '#E5ECF6', 'angularaxis': {'gridcolor': 'white', 'linecolor': 'white', 'ticks': ''}, 'radialaxis': {'gridcolor': 'white', 'linecolor': 'white', 'ticks': ''}}, 'ternary': {'bgcolor': '#E5ECF6', 'aaxis': {'gridcolor': 'white', 'linecolor': 'white', 'ticks': ''}, 'baxis': {'gridcolor': 'white', 'linecolor': 'white', 'ticks': ''}, 'caxis': {'gridcolor': 'white', 'linecolor': 'white', 'ticks': ''}}, 'coloraxis': {'colorbar': {'outlinewidth': 0, 'ticks': ''}}, 'colorscale': {'sequential': [[0.0, '#0d0887'], [0.1111111111111111, '#46039f'], [0.2222222222222222, '#7201a8'], [0.3333333333333333, '#9c179e'], [0.4444444444444444, '#bd3786'], [0.5555555555555556, '#d8576b'], [0.6666666666666666, '#ed7953'], [0.7777777777777778, '#fb9f3a'], [0.8888888888888888, '#fdca26'], [1.0, '#f0f921']], 'sequentialminus': [[0.0, '#0d0887'], [0.1111111111111111, '#46039f'], [0.2222222222222222, '#7201a8'], [0.3333333333333333, '#9c179e'], [0.4444444444444444, '#bd3786'], [0.5555555555555556, '#d8576b'], [0.6666666666666666, '#ed7953'], [0.7777777777777778, '#fb9f3a'], [0.8888888888888888, '#fdca26'], [1.0, '#f0f921']], 'diverging': [[0, '#8e0152'], [0.1, '#c51b7d'], [0.2, '#de77ae'], [0.3, '#f1b6da'], [0.4, '#fde0ef'], [0.5, '#f7f7f7'], [0.6, '#e6f5d0'], [0.7, '#b8e186'], [0.8, '#7fbc41'], [0.9, '#4d9221'], [1, '#276419']]}, 'xaxis': {'gridcolor': 'white', 'linecolor': 'white', 'ticks': '', 'title': {'standoff': 15}, 'zerolinecolor': 'white', 'automargin': True, 'zerolinewidth': 2}, 'yaxis': {'gridcolor': 'white', 'linecolor': 'white', 'ticks': '', 'title': {'standoff': 15}, 'zerolinecolor': 'white', 'automargin': True, 'zerolinewidth': 2}, 'scene': {'xaxis': {'backgroundcolor': '#E5ECF6', 'gridcolor': 'white', 'linecolor': 'white', 'showbackground': True, 'ticks': '', 'zerolinecolor': 'white', 'gridwidth': 2}, 'yaxis': {'backgroundcolor': '#E5ECF6', 'gridcolor': 'white', 'linecolor': 'white', 'showbackground': True, 'ticks': '', 'zerolinecolor': 'white', 'gridwidth': 2}, 'zaxis': {'backgroundcolor': '#E5ECF6', 'gridcolor': 'white', 'linecolor': 'white', 'showbackground': True, 'ticks': '', 'zerolinecolor': 'white', 'gridwidth': 2}}, 'shapedefaults': {'line': {'color': '#2a3f5f'}}, 'annotationdefaults': {'arrowcolor': '#2a3f5f', 'arrowhead': 0, 'arrowwidth': 1}, 'geo': {'bgcolor': 'white', 'landcolor': '#E5ECF6', 'subunitcolor': 'white', 'showland': True, 'showlakes': True, 'lakecolor': 'white'}, 'title': {'x': 0.05}, 'mapbox': {'style': 'light'}}}, 'xaxis': {'anchor': 'y', 'domain': [0.0, 1.0], 'title': {'text': 'Assailant age'}}, 'yaxis': {'anchor': 'x', 'domain': [0.0, 1.0], 'title': {'text': 'Victim age'}}, 'legend': {'title': {'text': 'Charge'}, 'tracegroupgap': 0}, 'title': {'text': 'Relationship of Victim and Assailant Ages'}, 'updatemenus': [{'buttons': [{'args': [{'visible': [True, True, True]}, {'title': 'Victim and assailant ages, Philadelphia homicides (1902-1932)', 'xaxis': {'title': 'Age of accused'}, 'yaxis': {'title': 'Victim age'}}], 'label': 'All charges', 'method': 'update'}, {'args': [{'visible': [True, False, False]}, {'title': 'Victim and assailant ages in murder charges', 'xaxis': {'title': 'Age of accused'}, 'yaxis': {'title': 'Victim age'}}], 'label': 'Murder', 'method': 'update'}, {'args': [{'visible': [False, False, True]}, {'title': 'Victim and assailant in manslaughter charges', 'xaxis': {'title': 'Age of accused'}, 'yaxis': {'title': 'Victim age'}}], 'label': 'Manslaughter', 'method': 'update'}, {'args': [{'visible': [False, True, False]}, {'title': 'Ages of accused and victims in abortion charges', 'xaxis': {'title': 'Age of accused'}, 'yaxis': {'title': 'Victim age'}}], 'label': 'Abortion', 'method': 'update'}]}]}}\n"
     ]
    }
   ],
   "source": [
    "print(type(fig))\n",
    "\n",
    "print(fig.to_json(pretty=True)[0:500] + \"\\n...\")\n",
    "\n",
    "print(fig.to_dict())"
   ]
  },
  {
   "cell_type": "code",
   "execution_count": 11,
   "metadata": {},
   "outputs": [
    {
     "data": {
      "application/vnd.plotly.v1+json": {
       "config": {
        "plotlyServerURL": "https://plot.ly"
       },
       "data": [
        {
         "hovertemplate": "Gender=%{y}<br>Count=%{x}<extra></extra>",
         "orientation": "h",
         "type": "bar",
         "x": [
          72,
          617
         ],
         "y": [
          "Female",
          "Male"
         ]
        }
       ],
       "layout": {
        "template": {
         "data": {
          "bar": [
           {
            "error_x": {
             "color": "#2a3f5f"
            },
            "error_y": {
             "color": "#2a3f5f"
            },
            "marker": {
             "line": {
              "color": "#E5ECF6",
              "width": 0.5
             },
             "pattern": {
              "fillmode": "overlay",
              "size": 10,
              "solidity": 0.2
             }
            },
            "type": "bar"
           }
          ],
          "barpolar": [
           {
            "marker": {
             "line": {
              "color": "#E5ECF6",
              "width": 0.5
             },
             "pattern": {
              "fillmode": "overlay",
              "size": 10,
              "solidity": 0.2
             }
            },
            "type": "barpolar"
           }
          ],
          "carpet": [
           {
            "aaxis": {
             "endlinecolor": "#2a3f5f",
             "gridcolor": "white",
             "linecolor": "white",
             "minorgridcolor": "white",
             "startlinecolor": "#2a3f5f"
            },
            "baxis": {
             "endlinecolor": "#2a3f5f",
             "gridcolor": "white",
             "linecolor": "white",
             "minorgridcolor": "white",
             "startlinecolor": "#2a3f5f"
            },
            "type": "carpet"
           }
          ],
          "choropleth": [
           {
            "colorbar": {
             "outlinewidth": 0,
             "ticks": ""
            },
            "type": "choropleth"
           }
          ],
          "contour": [
           {
            "colorbar": {
             "outlinewidth": 0,
             "ticks": ""
            },
            "colorscale": [
             [
              0,
              "#0d0887"
             ],
             [
              0.1111111111111111,
              "#46039f"
             ],
             [
              0.2222222222222222,
              "#7201a8"
             ],
             [
              0.3333333333333333,
              "#9c179e"
             ],
             [
              0.4444444444444444,
              "#bd3786"
             ],
             [
              0.5555555555555556,
              "#d8576b"
             ],
             [
              0.6666666666666666,
              "#ed7953"
             ],
             [
              0.7777777777777778,
              "#fb9f3a"
             ],
             [
              0.8888888888888888,
              "#fdca26"
             ],
             [
              1,
              "#f0f921"
             ]
            ],
            "type": "contour"
           }
          ],
          "contourcarpet": [
           {
            "colorbar": {
             "outlinewidth": 0,
             "ticks": ""
            },
            "type": "contourcarpet"
           }
          ],
          "heatmap": [
           {
            "colorbar": {
             "outlinewidth": 0,
             "ticks": ""
            },
            "colorscale": [
             [
              0,
              "#0d0887"
             ],
             [
              0.1111111111111111,
              "#46039f"
             ],
             [
              0.2222222222222222,
              "#7201a8"
             ],
             [
              0.3333333333333333,
              "#9c179e"
             ],
             [
              0.4444444444444444,
              "#bd3786"
             ],
             [
              0.5555555555555556,
              "#d8576b"
             ],
             [
              0.6666666666666666,
              "#ed7953"
             ],
             [
              0.7777777777777778,
              "#fb9f3a"
             ],
             [
              0.8888888888888888,
              "#fdca26"
             ],
             [
              1,
              "#f0f921"
             ]
            ],
            "type": "heatmap"
           }
          ],
          "heatmapgl": [
           {
            "colorbar": {
             "outlinewidth": 0,
             "ticks": ""
            },
            "colorscale": [
             [
              0,
              "#0d0887"
             ],
             [
              0.1111111111111111,
              "#46039f"
             ],
             [
              0.2222222222222222,
              "#7201a8"
             ],
             [
              0.3333333333333333,
              "#9c179e"
             ],
             [
              0.4444444444444444,
              "#bd3786"
             ],
             [
              0.5555555555555556,
              "#d8576b"
             ],
             [
              0.6666666666666666,
              "#ed7953"
             ],
             [
              0.7777777777777778,
              "#fb9f3a"
             ],
             [
              0.8888888888888888,
              "#fdca26"
             ],
             [
              1,
              "#f0f921"
             ]
            ],
            "type": "heatmapgl"
           }
          ],
          "histogram": [
           {
            "marker": {
             "pattern": {
              "fillmode": "overlay",
              "size": 10,
              "solidity": 0.2
             }
            },
            "type": "histogram"
           }
          ],
          "histogram2d": [
           {
            "colorbar": {
             "outlinewidth": 0,
             "ticks": ""
            },
            "colorscale": [
             [
              0,
              "#0d0887"
             ],
             [
              0.1111111111111111,
              "#46039f"
             ],
             [
              0.2222222222222222,
              "#7201a8"
             ],
             [
              0.3333333333333333,
              "#9c179e"
             ],
             [
              0.4444444444444444,
              "#bd3786"
             ],
             [
              0.5555555555555556,
              "#d8576b"
             ],
             [
              0.6666666666666666,
              "#ed7953"
             ],
             [
              0.7777777777777778,
              "#fb9f3a"
             ],
             [
              0.8888888888888888,
              "#fdca26"
             ],
             [
              1,
              "#f0f921"
             ]
            ],
            "type": "histogram2d"
           }
          ],
          "histogram2dcontour": [
           {
            "colorbar": {
             "outlinewidth": 0,
             "ticks": ""
            },
            "colorscale": [
             [
              0,
              "#0d0887"
             ],
             [
              0.1111111111111111,
              "#46039f"
             ],
             [
              0.2222222222222222,
              "#7201a8"
             ],
             [
              0.3333333333333333,
              "#9c179e"
             ],
             [
              0.4444444444444444,
              "#bd3786"
             ],
             [
              0.5555555555555556,
              "#d8576b"
             ],
             [
              0.6666666666666666,
              "#ed7953"
             ],
             [
              0.7777777777777778,
              "#fb9f3a"
             ],
             [
              0.8888888888888888,
              "#fdca26"
             ],
             [
              1,
              "#f0f921"
             ]
            ],
            "type": "histogram2dcontour"
           }
          ],
          "mesh3d": [
           {
            "colorbar": {
             "outlinewidth": 0,
             "ticks": ""
            },
            "type": "mesh3d"
           }
          ],
          "parcoords": [
           {
            "line": {
             "colorbar": {
              "outlinewidth": 0,
              "ticks": ""
             }
            },
            "type": "parcoords"
           }
          ],
          "pie": [
           {
            "automargin": true,
            "type": "pie"
           }
          ],
          "scatter": [
           {
            "fillpattern": {
             "fillmode": "overlay",
             "size": 10,
             "solidity": 0.2
            },
            "type": "scatter"
           }
          ],
          "scatter3d": [
           {
            "line": {
             "colorbar": {
              "outlinewidth": 0,
              "ticks": ""
             }
            },
            "marker": {
             "colorbar": {
              "outlinewidth": 0,
              "ticks": ""
             }
            },
            "type": "scatter3d"
           }
          ],
          "scattercarpet": [
           {
            "marker": {
             "colorbar": {
              "outlinewidth": 0,
              "ticks": ""
             }
            },
            "type": "scattercarpet"
           }
          ],
          "scattergeo": [
           {
            "marker": {
             "colorbar": {
              "outlinewidth": 0,
              "ticks": ""
             }
            },
            "type": "scattergeo"
           }
          ],
          "scattergl": [
           {
            "marker": {
             "colorbar": {
              "outlinewidth": 0,
              "ticks": ""
             }
            },
            "type": "scattergl"
           }
          ],
          "scattermapbox": [
           {
            "marker": {
             "colorbar": {
              "outlinewidth": 0,
              "ticks": ""
             }
            },
            "type": "scattermapbox"
           }
          ],
          "scatterpolar": [
           {
            "marker": {
             "colorbar": {
              "outlinewidth": 0,
              "ticks": ""
             }
            },
            "type": "scatterpolar"
           }
          ],
          "scatterpolargl": [
           {
            "marker": {
             "colorbar": {
              "outlinewidth": 0,
              "ticks": ""
             }
            },
            "type": "scatterpolargl"
           }
          ],
          "scatterternary": [
           {
            "marker": {
             "colorbar": {
              "outlinewidth": 0,
              "ticks": ""
             }
            },
            "type": "scatterternary"
           }
          ],
          "surface": [
           {
            "colorbar": {
             "outlinewidth": 0,
             "ticks": ""
            },
            "colorscale": [
             [
              0,
              "#0d0887"
             ],
             [
              0.1111111111111111,
              "#46039f"
             ],
             [
              0.2222222222222222,
              "#7201a8"
             ],
             [
              0.3333333333333333,
              "#9c179e"
             ],
             [
              0.4444444444444444,
              "#bd3786"
             ],
             [
              0.5555555555555556,
              "#d8576b"
             ],
             [
              0.6666666666666666,
              "#ed7953"
             ],
             [
              0.7777777777777778,
              "#fb9f3a"
             ],
             [
              0.8888888888888888,
              "#fdca26"
             ],
             [
              1,
              "#f0f921"
             ]
            ],
            "type": "surface"
           }
          ],
          "table": [
           {
            "cells": {
             "fill": {
              "color": "#EBF0F8"
             },
             "line": {
              "color": "white"
             }
            },
            "header": {
             "fill": {
              "color": "#C8D4E3"
             },
             "line": {
              "color": "white"
             }
            },
            "type": "table"
           }
          ]
         },
         "layout": {
          "annotationdefaults": {
           "arrowcolor": "#2a3f5f",
           "arrowhead": 0,
           "arrowwidth": 1
          },
          "autotypenumbers": "strict",
          "coloraxis": {
           "colorbar": {
            "outlinewidth": 0,
            "ticks": ""
           }
          },
          "colorscale": {
           "diverging": [
            [
             0,
             "#8e0152"
            ],
            [
             0.1,
             "#c51b7d"
            ],
            [
             0.2,
             "#de77ae"
            ],
            [
             0.3,
             "#f1b6da"
            ],
            [
             0.4,
             "#fde0ef"
            ],
            [
             0.5,
             "#f7f7f7"
            ],
            [
             0.6,
             "#e6f5d0"
            ],
            [
             0.7,
             "#b8e186"
            ],
            [
             0.8,
             "#7fbc41"
            ],
            [
             0.9,
             "#4d9221"
            ],
            [
             1,
             "#276419"
            ]
           ],
           "sequential": [
            [
             0,
             "#0d0887"
            ],
            [
             0.1111111111111111,
             "#46039f"
            ],
            [
             0.2222222222222222,
             "#7201a8"
            ],
            [
             0.3333333333333333,
             "#9c179e"
            ],
            [
             0.4444444444444444,
             "#bd3786"
            ],
            [
             0.5555555555555556,
             "#d8576b"
            ],
            [
             0.6666666666666666,
             "#ed7953"
            ],
            [
             0.7777777777777778,
             "#fb9f3a"
            ],
            [
             0.8888888888888888,
             "#fdca26"
            ],
            [
             1,
             "#f0f921"
            ]
           ],
           "sequentialminus": [
            [
             0,
             "#0d0887"
            ],
            [
             0.1111111111111111,
             "#46039f"
            ],
            [
             0.2222222222222222,
             "#7201a8"
            ],
            [
             0.3333333333333333,
             "#9c179e"
            ],
            [
             0.4444444444444444,
             "#bd3786"
            ],
            [
             0.5555555555555556,
             "#d8576b"
            ],
            [
             0.6666666666666666,
             "#ed7953"
            ],
            [
             0.7777777777777778,
             "#fb9f3a"
            ],
            [
             0.8888888888888888,
             "#fdca26"
            ],
            [
             1,
             "#f0f921"
            ]
           ]
          },
          "colorway": [
           "#636efa",
           "#EF553B",
           "#00cc96",
           "#ab63fa",
           "#FFA15A",
           "#19d3f3",
           "#FF6692",
           "#B6E880",
           "#FF97FF",
           "#FECB52"
          ],
          "font": {
           "color": "#2a3f5f"
          },
          "geo": {
           "bgcolor": "white",
           "lakecolor": "white",
           "landcolor": "#E5ECF6",
           "showlakes": true,
           "showland": true,
           "subunitcolor": "white"
          },
          "hoverlabel": {
           "align": "left"
          },
          "hovermode": "closest",
          "mapbox": {
           "style": "light"
          },
          "paper_bgcolor": "white",
          "plot_bgcolor": "#E5ECF6",
          "polar": {
           "angularaxis": {
            "gridcolor": "white",
            "linecolor": "white",
            "ticks": ""
           },
           "bgcolor": "#E5ECF6",
           "radialaxis": {
            "gridcolor": "white",
            "linecolor": "white",
            "ticks": ""
           }
          },
          "scene": {
           "xaxis": {
            "backgroundcolor": "#E5ECF6",
            "gridcolor": "white",
            "gridwidth": 2,
            "linecolor": "white",
            "showbackground": true,
            "ticks": "",
            "zerolinecolor": "white"
           },
           "yaxis": {
            "backgroundcolor": "#E5ECF6",
            "gridcolor": "white",
            "gridwidth": 2,
            "linecolor": "white",
            "showbackground": true,
            "ticks": "",
            "zerolinecolor": "white"
           },
           "zaxis": {
            "backgroundcolor": "#E5ECF6",
            "gridcolor": "white",
            "gridwidth": 2,
            "linecolor": "white",
            "showbackground": true,
            "ticks": "",
            "zerolinecolor": "white"
           }
          },
          "shapedefaults": {
           "line": {
            "color": "#2a3f5f"
           }
          },
          "ternary": {
           "aaxis": {
            "gridcolor": "white",
            "linecolor": "white",
            "ticks": ""
           },
           "baxis": {
            "gridcolor": "white",
            "linecolor": "white",
            "ticks": ""
           },
           "bgcolor": "#E5ECF6",
           "caxis": {
            "gridcolor": "white",
            "linecolor": "white",
            "ticks": ""
           }
          },
          "title": {
           "x": 0.05
          },
          "xaxis": {
           "automargin": true,
           "gridcolor": "white",
           "linecolor": "white",
           "ticks": "",
           "title": {
            "standoff": 15
           },
           "zerolinecolor": "white",
           "zerolinewidth": 2
          },
          "yaxis": {
           "automargin": true,
           "gridcolor": "white",
           "linecolor": "white",
           "ticks": "",
           "title": {
            "standoff": 15
           },
           "zerolinecolor": "white",
           "zerolinewidth": 2
          }
         }
        },
        "title": {
         "text": "Charges by Gender"
        },
        "xaxis": {
         "title": {
          "text": "Count"
         }
        },
        "yaxis": {
         "title": {
          "text": "Gender of accused"
         }
        }
       }
      }
     },
     "metadata": {},
     "output_type": "display_data"
    }
   ],
   "source": [
    "phl_by_gender=phl_crime.groupby([\"Gender of accused\"], as_index=False).size()\n",
    "\n",
    "fig = go.Figure(\n",
    "    go.Bar(x=phl_by_gender[\"size\"],  # Use go.Bar() to specify chart type as bar chart\n",
    "           y=phl_by_gender[\"Gender of accused\"],\n",
    "    orientation='h', \n",
    "    hovertemplate=\"Gender=%{y}<br>Count=%{x}<extra></extra>\"), # Need to format hover text (this is automatic with plotly.px)\n",
    "    layout={\"title\": \"Charges by Gender\"})\n",
    "\n",
    "fig.update_layout(  # Need to use .update_layout to add x- and y-axis labels (this is automatic with plotly.px)\n",
    "    xaxis=dict(title=\"Count\"), \n",
    "    yaxis=dict(title=\"Gender of accused\"))\n",
    "\n",
    "fig.show()"
   ]
  },
  {
   "cell_type": "code",
   "execution_count": 12,
   "metadata": {},
   "outputs": [
    {
     "data": {
      "application/vnd.plotly.v1+json": {
       "config": {
        "plotlyServerURL": "https://plot.ly"
       },
       "data": [
        {
         "alignmentgroup": "True",
         "hovertemplate": "Count=%{x}<br>Gender of accused=%{y}<extra></extra>",
         "legendgroup": "",
         "marker": {
          "color": "#636efa",
          "pattern": {
           "shape": ""
          }
         },
         "name": "",
         "offsetgroup": "",
         "orientation": "h",
         "showlegend": false,
         "textposition": "auto",
         "type": "bar",
         "x": [
          72,
          617
         ],
         "xaxis": "x",
         "y": [
          "Female",
          "Male"
         ],
         "yaxis": "y"
        }
       ],
       "layout": {
        "barmode": "relative",
        "legend": {
         "tracegroupgap": 0
        },
        "template": {
         "data": {
          "bar": [
           {
            "error_x": {
             "color": "#2a3f5f"
            },
            "error_y": {
             "color": "#2a3f5f"
            },
            "marker": {
             "line": {
              "color": "#E5ECF6",
              "width": 0.5
             },
             "pattern": {
              "fillmode": "overlay",
              "size": 10,
              "solidity": 0.2
             }
            },
            "type": "bar"
           }
          ],
          "barpolar": [
           {
            "marker": {
             "line": {
              "color": "#E5ECF6",
              "width": 0.5
             },
             "pattern": {
              "fillmode": "overlay",
              "size": 10,
              "solidity": 0.2
             }
            },
            "type": "barpolar"
           }
          ],
          "carpet": [
           {
            "aaxis": {
             "endlinecolor": "#2a3f5f",
             "gridcolor": "white",
             "linecolor": "white",
             "minorgridcolor": "white",
             "startlinecolor": "#2a3f5f"
            },
            "baxis": {
             "endlinecolor": "#2a3f5f",
             "gridcolor": "white",
             "linecolor": "white",
             "minorgridcolor": "white",
             "startlinecolor": "#2a3f5f"
            },
            "type": "carpet"
           }
          ],
          "choropleth": [
           {
            "colorbar": {
             "outlinewidth": 0,
             "ticks": ""
            },
            "type": "choropleth"
           }
          ],
          "contour": [
           {
            "colorbar": {
             "outlinewidth": 0,
             "ticks": ""
            },
            "colorscale": [
             [
              0,
              "#0d0887"
             ],
             [
              0.1111111111111111,
              "#46039f"
             ],
             [
              0.2222222222222222,
              "#7201a8"
             ],
             [
              0.3333333333333333,
              "#9c179e"
             ],
             [
              0.4444444444444444,
              "#bd3786"
             ],
             [
              0.5555555555555556,
              "#d8576b"
             ],
             [
              0.6666666666666666,
              "#ed7953"
             ],
             [
              0.7777777777777778,
              "#fb9f3a"
             ],
             [
              0.8888888888888888,
              "#fdca26"
             ],
             [
              1,
              "#f0f921"
             ]
            ],
            "type": "contour"
           }
          ],
          "contourcarpet": [
           {
            "colorbar": {
             "outlinewidth": 0,
             "ticks": ""
            },
            "type": "contourcarpet"
           }
          ],
          "heatmap": [
           {
            "colorbar": {
             "outlinewidth": 0,
             "ticks": ""
            },
            "colorscale": [
             [
              0,
              "#0d0887"
             ],
             [
              0.1111111111111111,
              "#46039f"
             ],
             [
              0.2222222222222222,
              "#7201a8"
             ],
             [
              0.3333333333333333,
              "#9c179e"
             ],
             [
              0.4444444444444444,
              "#bd3786"
             ],
             [
              0.5555555555555556,
              "#d8576b"
             ],
             [
              0.6666666666666666,
              "#ed7953"
             ],
             [
              0.7777777777777778,
              "#fb9f3a"
             ],
             [
              0.8888888888888888,
              "#fdca26"
             ],
             [
              1,
              "#f0f921"
             ]
            ],
            "type": "heatmap"
           }
          ],
          "heatmapgl": [
           {
            "colorbar": {
             "outlinewidth": 0,
             "ticks": ""
            },
            "colorscale": [
             [
              0,
              "#0d0887"
             ],
             [
              0.1111111111111111,
              "#46039f"
             ],
             [
              0.2222222222222222,
              "#7201a8"
             ],
             [
              0.3333333333333333,
              "#9c179e"
             ],
             [
              0.4444444444444444,
              "#bd3786"
             ],
             [
              0.5555555555555556,
              "#d8576b"
             ],
             [
              0.6666666666666666,
              "#ed7953"
             ],
             [
              0.7777777777777778,
              "#fb9f3a"
             ],
             [
              0.8888888888888888,
              "#fdca26"
             ],
             [
              1,
              "#f0f921"
             ]
            ],
            "type": "heatmapgl"
           }
          ],
          "histogram": [
           {
            "marker": {
             "pattern": {
              "fillmode": "overlay",
              "size": 10,
              "solidity": 0.2
             }
            },
            "type": "histogram"
           }
          ],
          "histogram2d": [
           {
            "colorbar": {
             "outlinewidth": 0,
             "ticks": ""
            },
            "colorscale": [
             [
              0,
              "#0d0887"
             ],
             [
              0.1111111111111111,
              "#46039f"
             ],
             [
              0.2222222222222222,
              "#7201a8"
             ],
             [
              0.3333333333333333,
              "#9c179e"
             ],
             [
              0.4444444444444444,
              "#bd3786"
             ],
             [
              0.5555555555555556,
              "#d8576b"
             ],
             [
              0.6666666666666666,
              "#ed7953"
             ],
             [
              0.7777777777777778,
              "#fb9f3a"
             ],
             [
              0.8888888888888888,
              "#fdca26"
             ],
             [
              1,
              "#f0f921"
             ]
            ],
            "type": "histogram2d"
           }
          ],
          "histogram2dcontour": [
           {
            "colorbar": {
             "outlinewidth": 0,
             "ticks": ""
            },
            "colorscale": [
             [
              0,
              "#0d0887"
             ],
             [
              0.1111111111111111,
              "#46039f"
             ],
             [
              0.2222222222222222,
              "#7201a8"
             ],
             [
              0.3333333333333333,
              "#9c179e"
             ],
             [
              0.4444444444444444,
              "#bd3786"
             ],
             [
              0.5555555555555556,
              "#d8576b"
             ],
             [
              0.6666666666666666,
              "#ed7953"
             ],
             [
              0.7777777777777778,
              "#fb9f3a"
             ],
             [
              0.8888888888888888,
              "#fdca26"
             ],
             [
              1,
              "#f0f921"
             ]
            ],
            "type": "histogram2dcontour"
           }
          ],
          "mesh3d": [
           {
            "colorbar": {
             "outlinewidth": 0,
             "ticks": ""
            },
            "type": "mesh3d"
           }
          ],
          "parcoords": [
           {
            "line": {
             "colorbar": {
              "outlinewidth": 0,
              "ticks": ""
             }
            },
            "type": "parcoords"
           }
          ],
          "pie": [
           {
            "automargin": true,
            "type": "pie"
           }
          ],
          "scatter": [
           {
            "fillpattern": {
             "fillmode": "overlay",
             "size": 10,
             "solidity": 0.2
            },
            "type": "scatter"
           }
          ],
          "scatter3d": [
           {
            "line": {
             "colorbar": {
              "outlinewidth": 0,
              "ticks": ""
             }
            },
            "marker": {
             "colorbar": {
              "outlinewidth": 0,
              "ticks": ""
             }
            },
            "type": "scatter3d"
           }
          ],
          "scattercarpet": [
           {
            "marker": {
             "colorbar": {
              "outlinewidth": 0,
              "ticks": ""
             }
            },
            "type": "scattercarpet"
           }
          ],
          "scattergeo": [
           {
            "marker": {
             "colorbar": {
              "outlinewidth": 0,
              "ticks": ""
             }
            },
            "type": "scattergeo"
           }
          ],
          "scattergl": [
           {
            "marker": {
             "colorbar": {
              "outlinewidth": 0,
              "ticks": ""
             }
            },
            "type": "scattergl"
           }
          ],
          "scattermapbox": [
           {
            "marker": {
             "colorbar": {
              "outlinewidth": 0,
              "ticks": ""
             }
            },
            "type": "scattermapbox"
           }
          ],
          "scatterpolar": [
           {
            "marker": {
             "colorbar": {
              "outlinewidth": 0,
              "ticks": ""
             }
            },
            "type": "scatterpolar"
           }
          ],
          "scatterpolargl": [
           {
            "marker": {
             "colorbar": {
              "outlinewidth": 0,
              "ticks": ""
             }
            },
            "type": "scatterpolargl"
           }
          ],
          "scatterternary": [
           {
            "marker": {
             "colorbar": {
              "outlinewidth": 0,
              "ticks": ""
             }
            },
            "type": "scatterternary"
           }
          ],
          "surface": [
           {
            "colorbar": {
             "outlinewidth": 0,
             "ticks": ""
            },
            "colorscale": [
             [
              0,
              "#0d0887"
             ],
             [
              0.1111111111111111,
              "#46039f"
             ],
             [
              0.2222222222222222,
              "#7201a8"
             ],
             [
              0.3333333333333333,
              "#9c179e"
             ],
             [
              0.4444444444444444,
              "#bd3786"
             ],
             [
              0.5555555555555556,
              "#d8576b"
             ],
             [
              0.6666666666666666,
              "#ed7953"
             ],
             [
              0.7777777777777778,
              "#fb9f3a"
             ],
             [
              0.8888888888888888,
              "#fdca26"
             ],
             [
              1,
              "#f0f921"
             ]
            ],
            "type": "surface"
           }
          ],
          "table": [
           {
            "cells": {
             "fill": {
              "color": "#EBF0F8"
             },
             "line": {
              "color": "white"
             }
            },
            "header": {
             "fill": {
              "color": "#C8D4E3"
             },
             "line": {
              "color": "white"
             }
            },
            "type": "table"
           }
          ]
         },
         "layout": {
          "annotationdefaults": {
           "arrowcolor": "#2a3f5f",
           "arrowhead": 0,
           "arrowwidth": 1
          },
          "autotypenumbers": "strict",
          "coloraxis": {
           "colorbar": {
            "outlinewidth": 0,
            "ticks": ""
           }
          },
          "colorscale": {
           "diverging": [
            [
             0,
             "#8e0152"
            ],
            [
             0.1,
             "#c51b7d"
            ],
            [
             0.2,
             "#de77ae"
            ],
            [
             0.3,
             "#f1b6da"
            ],
            [
             0.4,
             "#fde0ef"
            ],
            [
             0.5,
             "#f7f7f7"
            ],
            [
             0.6,
             "#e6f5d0"
            ],
            [
             0.7,
             "#b8e186"
            ],
            [
             0.8,
             "#7fbc41"
            ],
            [
             0.9,
             "#4d9221"
            ],
            [
             1,
             "#276419"
            ]
           ],
           "sequential": [
            [
             0,
             "#0d0887"
            ],
            [
             0.1111111111111111,
             "#46039f"
            ],
            [
             0.2222222222222222,
             "#7201a8"
            ],
            [
             0.3333333333333333,
             "#9c179e"
            ],
            [
             0.4444444444444444,
             "#bd3786"
            ],
            [
             0.5555555555555556,
             "#d8576b"
            ],
            [
             0.6666666666666666,
             "#ed7953"
            ],
            [
             0.7777777777777778,
             "#fb9f3a"
            ],
            [
             0.8888888888888888,
             "#fdca26"
            ],
            [
             1,
             "#f0f921"
            ]
           ],
           "sequentialminus": [
            [
             0,
             "#0d0887"
            ],
            [
             0.1111111111111111,
             "#46039f"
            ],
            [
             0.2222222222222222,
             "#7201a8"
            ],
            [
             0.3333333333333333,
             "#9c179e"
            ],
            [
             0.4444444444444444,
             "#bd3786"
            ],
            [
             0.5555555555555556,
             "#d8576b"
            ],
            [
             0.6666666666666666,
             "#ed7953"
            ],
            [
             0.7777777777777778,
             "#fb9f3a"
            ],
            [
             0.8888888888888888,
             "#fdca26"
            ],
            [
             1,
             "#f0f921"
            ]
           ]
          },
          "colorway": [
           "#636efa",
           "#EF553B",
           "#00cc96",
           "#ab63fa",
           "#FFA15A",
           "#19d3f3",
           "#FF6692",
           "#B6E880",
           "#FF97FF",
           "#FECB52"
          ],
          "font": {
           "color": "#2a3f5f"
          },
          "geo": {
           "bgcolor": "white",
           "lakecolor": "white",
           "landcolor": "#E5ECF6",
           "showlakes": true,
           "showland": true,
           "subunitcolor": "white"
          },
          "hoverlabel": {
           "align": "left"
          },
          "hovermode": "closest",
          "mapbox": {
           "style": "light"
          },
          "paper_bgcolor": "white",
          "plot_bgcolor": "#E5ECF6",
          "polar": {
           "angularaxis": {
            "gridcolor": "white",
            "linecolor": "white",
            "ticks": ""
           },
           "bgcolor": "#E5ECF6",
           "radialaxis": {
            "gridcolor": "white",
            "linecolor": "white",
            "ticks": ""
           }
          },
          "scene": {
           "xaxis": {
            "backgroundcolor": "#E5ECF6",
            "gridcolor": "white",
            "gridwidth": 2,
            "linecolor": "white",
            "showbackground": true,
            "ticks": "",
            "zerolinecolor": "white"
           },
           "yaxis": {
            "backgroundcolor": "#E5ECF6",
            "gridcolor": "white",
            "gridwidth": 2,
            "linecolor": "white",
            "showbackground": true,
            "ticks": "",
            "zerolinecolor": "white"
           },
           "zaxis": {
            "backgroundcolor": "#E5ECF6",
            "gridcolor": "white",
            "gridwidth": 2,
            "linecolor": "white",
            "showbackground": true,
            "ticks": "",
            "zerolinecolor": "white"
           }
          },
          "shapedefaults": {
           "line": {
            "color": "#2a3f5f"
           }
          },
          "ternary": {
           "aaxis": {
            "gridcolor": "white",
            "linecolor": "white",
            "ticks": ""
           },
           "baxis": {
            "gridcolor": "white",
            "linecolor": "white",
            "ticks": ""
           },
           "bgcolor": "#E5ECF6",
           "caxis": {
            "gridcolor": "white",
            "linecolor": "white",
            "ticks": ""
           }
          },
          "title": {
           "x": 0.05
          },
          "xaxis": {
           "automargin": true,
           "gridcolor": "white",
           "linecolor": "white",
           "ticks": "",
           "title": {
            "standoff": 15
           },
           "zerolinecolor": "white",
           "zerolinewidth": 2
          },
          "yaxis": {
           "automargin": true,
           "gridcolor": "white",
           "linecolor": "white",
           "ticks": "",
           "title": {
            "standoff": 15
           },
           "zerolinecolor": "white",
           "zerolinewidth": 2
          }
         }
        },
        "title": {
         "text": "Charges by Gender"
        },
        "xaxis": {
         "anchor": "y",
         "domain": [
          0,
          1
         ],
         "title": {
          "text": "Count"
         }
        },
        "yaxis": {
         "anchor": "x",
         "domain": [
          0,
          1
         ],
         "title": {
          "text": "Gender of accused"
         }
        }
       }
      }
     },
     "metadata": {},
     "output_type": "display_data"
    }
   ],
   "source": [
    "fig = px.bar(\n",
    "    phl_by_gender,\n",
    "    x=\"size\",\n",
    "    y=\"Gender of accused\",\n",
    "    orientation=\"h\",\n",
    "    title=\"Charges by Gender\",\n",
    "    labels={\"size\": \"Count\"},\n",
    ")\n",
    "\n",
    "fig.show()"
   ]
  },
  {
   "cell_type": "code",
   "execution_count": 13,
   "metadata": {},
   "outputs": [
    {
     "data": {
      "application/vnd.plotly.v1+json": {
       "config": {
        "plotlyServerURL": "https://plot.ly"
       },
       "data": [
        {
         "cells": {
          "align": "left",
          "fill": {
           "color": "lavender"
          },
          "values": [
           [
            1902,
            1902,
            1902,
            1902,
            1902,
            1902,
            1902,
            1902,
            1902,
            1902,
            1902,
            1902,
            1902,
            1902,
            1902,
            1902,
            1902,
            1902,
            1902,
            1902,
            1902,
            1902,
            1902,
            1902,
            1902,
            1902,
            1902,
            1902,
            1902,
            1902,
            1902,
            1902,
            1902,
            1902,
            1902,
            1902,
            1902,
            1902,
            1902,
            1902,
            1902,
            1908,
            1908,
            1908,
            1908,
            1908,
            1908,
            1908,
            1908,
            1908,
            1908,
            1908,
            1908,
            1908,
            1908,
            1908,
            1908,
            1908,
            1908,
            1908,
            1908,
            1908,
            1908,
            1908,
            1908,
            1908,
            1908,
            1908,
            1908,
            1908,
            1908,
            1908,
            1908,
            1908,
            1908,
            1908,
            1908,
            1908,
            1908,
            1908,
            1908,
            1908,
            1908,
            1908,
            1908,
            1908,
            1908,
            1908,
            1908,
            1908,
            1908,
            1908,
            1908,
            1908,
            1908,
            1908,
            1908,
            1908,
            1908,
            1908,
            1908,
            1908,
            1908,
            1908,
            1908,
            1908,
            1908,
            1908,
            1908,
            1914,
            1914,
            1914,
            1914,
            1914,
            1914,
            1914,
            1914,
            1914,
            1914,
            1914,
            1914,
            1914,
            1914,
            1914,
            1914,
            1914,
            1914,
            1914,
            1914,
            1914,
            1914,
            1914,
            1914,
            1914,
            1914,
            1914,
            1914,
            1914,
            1914,
            1914,
            1914,
            1914,
            1914,
            1914,
            1914,
            1914,
            1914,
            1914,
            1914,
            1914,
            1914,
            1914,
            1914,
            1914,
            1914,
            1914,
            1914,
            1914,
            1914,
            1914,
            1914,
            1914,
            1914,
            1914,
            1914,
            1914,
            1914,
            1914,
            1914,
            1914,
            1914,
            1914,
            1914,
            1914,
            1914,
            1914,
            1914,
            1914,
            1914,
            1914,
            1914,
            1914,
            1914,
            1914,
            1914,
            1914,
            1914,
            1914,
            1914,
            1914,
            1914,
            1914,
            1914,
            1914,
            1914,
            1914,
            1914,
            1914,
            1914,
            1914,
            1914,
            1914,
            1914,
            1920,
            1920,
            1920,
            1920,
            1920,
            1920,
            1920,
            1920,
            1920,
            1920,
            1920,
            1920,
            1920,
            1920,
            1920,
            1920,
            1920,
            1920,
            1920,
            1920,
            1920,
            1920,
            1920,
            1920,
            1920,
            1920,
            1920,
            1920,
            1920,
            1920,
            1920,
            1920,
            1920,
            1920,
            1920,
            1920,
            1920,
            1920,
            1920,
            1920,
            1920,
            1920,
            1920,
            1920,
            1920,
            1920,
            1920,
            1920,
            1920,
            1920,
            1920,
            1920,
            1920,
            1920,
            1920,
            1920,
            1920,
            1920,
            1920,
            1920,
            1920,
            1920,
            1920,
            1920,
            1920,
            1920,
            1920,
            1920,
            1920,
            1920,
            1920,
            1920,
            1920,
            1920,
            1920,
            1920,
            1920,
            1920,
            1920,
            1920,
            1920,
            1920,
            1920,
            1920,
            1920,
            1920,
            1920,
            1920,
            1920,
            1920,
            1920,
            1920,
            1920,
            1920,
            1920,
            1920,
            1920,
            1920,
            1920,
            1920,
            1920,
            1920,
            1920,
            1920,
            1920,
            1920,
            1920,
            1920,
            1920,
            1920,
            1920,
            1920,
            1920,
            1920,
            1920,
            1920,
            1920,
            1920,
            1920,
            1920,
            1920,
            1920,
            1920,
            1920,
            1920,
            1920,
            1920,
            1920,
            1920,
            1920,
            1920,
            1920,
            1920,
            1920,
            1920,
            1920,
            1920,
            1920,
            1920,
            1920,
            1920,
            1920,
            1920,
            1920,
            1920,
            1926,
            1926,
            1926,
            1926,
            1926,
            1926,
            1926,
            1926,
            1926,
            1926,
            1926,
            1926,
            1926,
            1926,
            1926,
            1926,
            1926,
            1926,
            1926,
            1926,
            1926,
            1926,
            1926,
            1926,
            1926,
            1926,
            1926,
            1926,
            1926,
            1926,
            1926,
            1926,
            1926,
            1926,
            1926,
            1926,
            1926,
            1926,
            1926,
            1926,
            1926,
            1926,
            1926,
            1926,
            1926,
            1926,
            1926,
            1926,
            1926,
            1926,
            1926,
            1926,
            1926,
            1926,
            1926,
            1926,
            1926,
            1926,
            1926,
            1926,
            1926,
            1926,
            1926,
            1926,
            1926,
            1926,
            1926,
            1926,
            1926,
            1926,
            1926,
            1926,
            1926,
            1926,
            1926,
            1926,
            1926,
            1926,
            1926,
            1926,
            1926,
            1926,
            1926,
            1926,
            1926,
            1926,
            1926,
            1926,
            1926,
            1926,
            1926,
            1926,
            1926,
            1926,
            1926,
            1926,
            1926,
            1926,
            1926,
            1926,
            1926,
            1926,
            1926,
            1926,
            1926,
            1926,
            1926,
            1926,
            1926,
            1926,
            1926,
            1926,
            1926,
            1926,
            1926,
            1926,
            1926,
            1926,
            1926,
            1926,
            1926,
            1926,
            1926,
            1926,
            1926,
            1926,
            1926,
            1926,
            1926,
            1926,
            1926,
            1926,
            1926,
            1926,
            1926,
            1926,
            1926,
            1926,
            1926,
            1926,
            1926,
            1926,
            1926,
            1926,
            1926,
            1926,
            1926,
            1926,
            1926,
            1926,
            1926,
            1926,
            1926,
            1926,
            1926,
            1926,
            1926,
            1926,
            1926,
            1926,
            1926,
            1926,
            1926,
            1926,
            1926,
            1926,
            1926,
            1926,
            1926,
            1926,
            1926,
            1926,
            1926,
            1926,
            1926,
            1926,
            1926,
            1926,
            1926,
            1926,
            1926,
            1926,
            1926,
            1926,
            1926,
            1926,
            1926,
            1926,
            1926,
            1926,
            1926,
            1926,
            1926,
            1926,
            1926,
            1926,
            1926,
            1932,
            1932,
            1932,
            1932,
            1932,
            1932,
            1932,
            1932,
            1932,
            1932,
            1932,
            1932,
            1932,
            1932,
            1932,
            1932,
            1932,
            1932,
            1932,
            1932,
            1932,
            1932,
            1932,
            1932,
            1932,
            1932,
            1932,
            1932,
            1932,
            1932,
            1932,
            1932,
            1932,
            1932,
            1932,
            1932,
            1932,
            1932,
            1932,
            1932,
            1932,
            1932,
            1932,
            1932,
            1932,
            1932,
            1932,
            1932,
            1932,
            1932,
            1932,
            1932,
            1932,
            1932,
            1932,
            1932,
            1932,
            1932,
            1932,
            1932,
            1932,
            1932,
            1932,
            1932,
            1932,
            1932,
            1932,
            1932,
            1932,
            1932,
            1932,
            1932,
            1932,
            1932,
            1932,
            1932,
            1932,
            1932,
            1932,
            1932,
            1932,
            1932,
            1932,
            1932,
            1932,
            1932,
            1932,
            1932,
            1932,
            1932,
            1932,
            1932,
            1932,
            1932,
            1932,
            1932,
            1932,
            1932,
            1932,
            1932,
            1932,
            1932,
            1932,
            1932,
            1932,
            1932,
            1932,
            1932,
            1932,
            1932,
            1932,
            1932,
            1932,
            1932,
            1932,
            1932,
            1932,
            1932,
            1932,
            1932,
            1932,
            1932,
            1932,
            1932,
            1932,
            1932,
            1932,
            1932,
            1932,
            1932,
            1932,
            1932,
            1932,
            1932,
            1932,
            1932,
            1932,
            1932,
            1932,
            1932,
            1932,
            1932,
            1932,
            1932,
            1932,
            1932,
            1932,
            1932,
            1932,
            1932,
            1932,
            1932,
            1932,
            1932,
            1932,
            1932,
            1932,
            1932,
            1932,
            1932,
            1932,
            1932,
            1932,
            1932,
            1932,
            1932,
            1932,
            1932,
            1932
           ],
           [
            "Murder",
            "Murder",
            "Murder",
            "Abortion",
            "Murder",
            "Abortion",
            "Abortion",
            "Murder",
            "Murder",
            "Murder",
            "Abortion",
            "Murder",
            "Murder",
            "Murder",
            "Abortion",
            "Abortion",
            "Murder",
            "Murder",
            "Murder",
            "Murder",
            "Murder",
            "Murder",
            "Abortion",
            "Murder",
            "Murder",
            "Murder",
            "Murder",
            "Abortion",
            "Abortion",
            "Abortion",
            "Abortion",
            "Murder",
            "Murder",
            "Murder",
            "Murder",
            "Murder",
            "Murder",
            "Murder",
            "Abortion",
            "Murder",
            "Murder",
            "Murder",
            "Manslaughter",
            "Abortion",
            "Abortion",
            "Murder",
            "Murder",
            "Murder",
            "Murder",
            "Murder",
            "Murder",
            "Abortion",
            "Murder",
            "Abortion",
            "Manslaughter",
            "Murder",
            "Manslaughter",
            "Murder",
            "Murder",
            "Manslaughter",
            "Manslaughter",
            "Murder",
            "Abortion",
            "Murder",
            "Abortion",
            "Murder",
            "Manslaughter",
            "Murder",
            "Manslaughter",
            "Manslaughter",
            "Manslaughter",
            "Murder",
            "Murder",
            "Murder",
            "Murder",
            "Abortion",
            "Murder",
            "Abortion",
            "Murder",
            "Murder",
            "Murder",
            "Murder",
            "Murder",
            "Murder",
            "Murder",
            "Murder",
            "Murder",
            "Murder",
            "Murder",
            "Murder",
            "Murder",
            "Murder",
            "Murder",
            "Manslaughter",
            "Murder",
            "Murder",
            "Murder",
            "Murder",
            "Murder",
            "Murder",
            "Murder",
            "Murder",
            "Abortion",
            "Murder",
            "Murder",
            "Manslaughter",
            "Murder",
            "Manslaughter",
            "Murder",
            "Murder",
            "Murder",
            "Murder",
            "Murder",
            "Manslaughter",
            "Manslaughter",
            "Murder",
            "Murder",
            "Manslaughter",
            "Manslaughter",
            "Manslaughter",
            "Abortion",
            "Murder",
            "Murder",
            "Murder",
            "Manslaughter",
            "Abortion",
            "Manslaughter",
            "Manslaughter",
            "Manslaughter",
            "Manslaughter",
            "Murder",
            "Abortion",
            "Murder",
            "Murder",
            "Murder",
            "Manslaughter",
            "Murder",
            "Murder",
            "Manslaughter",
            "Manslaughter",
            "Murder",
            "Abortion",
            "Murder",
            "Murder",
            "Murder",
            "Murder",
            "Manslaughter",
            "Manslaughter",
            "Murder",
            "Manslaughter",
            "Manslaughter",
            "Murder",
            "Murder",
            "Murder",
            "Murder",
            "Murder",
            "Manslaughter",
            "Murder",
            "Murder",
            "Abortion",
            "Murder",
            "Manslaughter",
            "Manslaughter",
            "Manslaughter",
            "Manslaughter",
            "Abortion",
            "Murder",
            "Murder",
            "Murder",
            "Manslaughter",
            "Murder",
            "Manslaughter",
            "Murder",
            "Murder",
            "Murder",
            "Abortion",
            "Manslaughter",
            "Murder",
            "Manslaughter",
            "Manslaughter",
            "Manslaughter",
            "Murder",
            "Murder",
            "Murder",
            "Murder",
            "Murder",
            "Murder",
            "Murder",
            "Murder",
            "Murder",
            "Murder",
            "Murder",
            "Murder",
            "Murder",
            "Murder",
            "Murder",
            "Manslaughter",
            "Murder",
            "Murder",
            "Murder",
            "Murder",
            "Murder",
            "Murder",
            "Manslaughter",
            "Murder",
            "Manslaughter",
            "Manslaughter",
            "Manslaughter",
            "Murder",
            "Murder",
            "Murder",
            "Murder",
            "Murder",
            "Murder",
            "Manslaughter",
            "Manslaughter",
            "Murder",
            "Murder",
            "Murder",
            "Murder",
            "Murder",
            "Murder",
            "Murder",
            "Murder",
            "Manslaughter",
            "Manslaughter",
            "Manslaughter",
            "Murder",
            "Murder",
            "Manslaughter",
            "Abortion",
            "Murder",
            "Murder",
            "Murder",
            "Murder",
            "Murder",
            "Murder",
            "Murder",
            "Murder",
            "Murder",
            "Murder",
            "Murder",
            "Murder",
            "Murder",
            "Abortion",
            "Murder",
            "Murder",
            "Murder",
            "Murder",
            "Murder",
            "Murder",
            "Murder",
            "Murder",
            "Murder",
            "Manslaughter",
            "Manslaughter",
            "Manslaughter",
            "Murder",
            "Abortion",
            "Murder",
            "Manslaughter",
            "Murder",
            "Abortion",
            "Abortion",
            "Murder",
            "Murder",
            "Murder",
            "Manslaughter",
            "Manslaughter",
            "Manslaughter",
            "Abortion",
            "Murder",
            "Murder",
            "Murder",
            "Murder",
            "Manslaughter",
            "Manslaughter",
            "Abortion",
            "Murder",
            "Murder",
            "Manslaughter",
            "Manslaughter",
            "Manslaughter",
            "Murder",
            "Murder",
            "Murder",
            "Murder",
            "Murder",
            "Murder",
            "Murder",
            "Manslaughter",
            "Murder",
            "Manslaughter",
            "Manslaughter",
            "Murder",
            "Murder",
            "Murder",
            "Murder",
            "Manslaughter",
            "Manslaughter",
            "Manslaughter",
            "Murder",
            "Murder",
            "Murder",
            "Murder",
            "Murder",
            "Murder",
            "Murder",
            "Murder",
            "Manslaughter",
            "Manslaughter",
            "Murder",
            "Abortion",
            "Murder",
            "Murder",
            "Murder",
            "Manslaughter",
            "Manslaughter",
            "Manslaughter",
            "Manslaughter",
            "Murder",
            "Abortion",
            "Murder",
            "Murder",
            "Murder",
            "Murder",
            "Murder",
            "Murder",
            "Murder",
            "Murder",
            "Murder",
            "Murder",
            "Murder",
            "Murder",
            "Murder",
            "Murder",
            "Murder",
            "Murder",
            "Murder",
            "Murder",
            "Murder",
            "Murder",
            "Murder",
            "Murder",
            "Murder",
            "Murder",
            "Murder",
            "Murder",
            "Murder",
            "Murder",
            "Murder",
            "Manslaughter",
            "Murder",
            "Murder",
            "Murder",
            "Murder",
            "Murder",
            "Murder",
            "Murder",
            "Murder",
            "Murder",
            "Murder",
            "Murder",
            "Murder",
            "Murder",
            "Murder",
            "Murder",
            "Murder",
            "Murder",
            "Murder",
            "Murder",
            "Murder",
            "Murder",
            "Murder",
            "Murder",
            "Murder",
            "Murder",
            "Murder",
            "Murder",
            "Murder",
            "Murder",
            "Murder",
            "Murder",
            "Murder",
            "Murder",
            "Murder",
            "Murder",
            "Murder",
            "Murder",
            "Murder",
            "Murder",
            "Murder",
            "Murder",
            "Murder",
            "Murder",
            "Murder",
            "Murder",
            "Murder",
            "Murder",
            "Murder",
            "Abortion",
            "Murder",
            "Murder",
            "Murder",
            "Murder",
            "Murder",
            "Murder",
            "Murder",
            "Murder",
            "Murder",
            "Murder",
            "Murder",
            "Murder",
            "Murder",
            "Murder",
            "Murder",
            "Murder",
            "Murder",
            "Murder",
            "Murder",
            "Murder",
            "Murder",
            "Murder",
            "Abortion",
            "Murder",
            "Murder",
            "Murder",
            "Abortion",
            "Manslaughter",
            "Manslaughter",
            "Murder",
            "Murder",
            "Murder",
            "Murder",
            "Manslaughter",
            "Murder",
            "Murder",
            "Murder",
            "Murder",
            "Murder",
            "Murder",
            "Murder",
            "Murder",
            "Murder",
            "Murder",
            "Murder",
            "Murder",
            "Murder",
            "Murder",
            "Murder",
            "Murder",
            "Murder",
            "Murder",
            "Murder",
            "Murder",
            "Murder",
            "Murder",
            "Murder",
            "Murder",
            "Manslaughter",
            "Murder",
            "Murder",
            "Manslaughter",
            "Murder",
            "Murder",
            "Murder",
            "Murder",
            "Murder",
            "Murder",
            "Murder",
            "Murder",
            "Murder",
            "Abortion",
            "Murder",
            "Murder",
            "Murder",
            "Murder",
            "Murder",
            "Murder",
            "Murder",
            "Abortion",
            "Murder",
            "Murder",
            "Murder",
            "Murder",
            "Murder",
            "Murder",
            "Murder",
            "Murder",
            "Murder",
            "Murder",
            "Murder",
            "Murder",
            "Murder",
            "Murder",
            "Murder",
            "Murder",
            "Murder",
            "Murder",
            "Murder",
            "Murder",
            "Murder",
            "Murder",
            "Murder",
            "Murder",
            "Murder",
            "Murder",
            "Murder",
            "Murder",
            "Murder",
            "Murder",
            "Murder",
            "Murder",
            "Murder",
            "Murder",
            "Murder",
            "Murder",
            "Murder",
            "Murder",
            "Murder",
            "Murder",
            "Manslaughter",
            "Murder",
            "Manslaughter",
            "Murder",
            "Murder",
            "Murder",
            "Murder",
            "Murder",
            "Murder",
            "Murder",
            "Murder",
            "Manslaughter",
            "Manslaughter",
            "Murder",
            "Murder",
            "Murder",
            "Murder",
            "Murder",
            "Murder",
            "Murder",
            "Murder",
            "Murder",
            "Manslaughter",
            "Manslaughter",
            "Murder",
            "Manslaughter",
            "Abortion",
            "Murder",
            "Murder",
            "Manslaughter",
            "Murder",
            "Murder",
            "Abortion",
            "Murder",
            "Murder",
            "Manslaughter",
            "Murder",
            "Murder",
            "Murder",
            "Murder",
            "Murder",
            "Murder",
            "Murder",
            "Murder",
            "Murder",
            "Murder",
            "Manslaughter",
            "Murder",
            "Murder",
            "Murder",
            "Murder",
            "Murder",
            "Murder",
            "Murder",
            "Murder",
            "Manslaughter",
            "Murder",
            "Murder",
            "Murder",
            "Murder",
            "Murder",
            "Murder",
            "Manslaughter",
            "Manslaughter",
            "Manslaughter",
            "Murder",
            "Murder",
            "Manslaughter",
            "Murder",
            "Murder",
            "Manslaughter",
            "Abortion",
            "Abortion",
            "Murder",
            "Murder",
            "Murder",
            "Murder",
            "Murder",
            "Murder",
            "Murder",
            "Murder",
            "Abortion",
            "Abortion",
            "Manslaughter",
            "Manslaughter",
            "Murder",
            "Murder",
            "Manslaughter",
            "Abortion",
            "Murder",
            "Murder",
            "Murder",
            "Murder",
            "Manslaughter",
            "Manslaughter",
            "Murder",
            "Murder",
            "Murder",
            "Murder",
            "Murder",
            "Murder",
            "Abortion",
            "Murder",
            "Murder",
            "Murder",
            "Murder",
            "Abortion",
            "Murder",
            "Murder",
            "Murder",
            "Murder",
            "Murder",
            "Murder",
            "Manslaughter",
            "Murder",
            "Manslaughter",
            "Murder",
            "Murder",
            "Murder",
            "Abortion",
            "Abortion",
            "Murder",
            "Murder",
            "Murder",
            "Murder",
            "Manslaughter",
            "Murder",
            "Murder",
            "Murder",
            "Murder",
            "Murder",
            "Murder",
            "Murder",
            "Manslaughter",
            "Murder",
            "Abortion",
            "Manslaughter",
            "Manslaughter",
            "Manslaughter",
            "Manslaughter",
            "Murder",
            "Murder",
            "Murder",
            "Murder",
            "Manslaughter",
            "Manslaughter",
            "Murder",
            "Murder",
            "Murder",
            "Murder",
            "Murder",
            "Murder",
            "Murder",
            "Murder",
            "Murder",
            "Murder",
            "Murder",
            "Murder",
            "Murder",
            "Murder",
            "Murder",
            "Murder",
            "Murder",
            "Murder",
            "Murder",
            "Murder",
            "Murder",
            "Murder",
            "Murder",
            "Murder",
            "Murder",
            "Murder",
            "Murder",
            "Murder",
            "Murder",
            "Murder",
            "Murder",
            "Murder",
            "Murder",
            "Murder",
            "Murder",
            "Murder",
            "Murder",
            "Murder",
            "Murder",
            "Murder",
            "Murder",
            "Murder",
            "Murder",
            "Murder",
            "Murder",
            "Murder",
            "Murder"
           ],
           [
            "Male",
            "Female",
            "Male",
            "Female",
            "Male",
            null,
            "Female",
            "Male",
            "Male",
            "Male",
            "Female",
            "Male",
            "Male",
            "Male",
            "Male",
            "Female",
            "Male",
            "Female",
            "Male",
            "Male",
            "Male",
            "Male",
            "Female",
            "Male",
            "Male",
            "Male",
            "Female",
            "Male",
            "Male",
            "Female",
            "Male",
            "Male",
            "Male",
            "Male",
            "Male",
            "Male",
            "Male",
            "Male",
            "Male",
            "Male",
            "Male",
            "Male",
            "Male",
            "Female",
            "Male",
            "Male",
            "Female",
            "Male",
            "Female",
            "Male",
            "Male",
            "Female",
            "Male",
            "Female",
            "Male",
            "Male",
            "Male",
            "Male",
            "Male",
            "Male",
            "Male",
            "Male",
            "Male",
            "Male",
            "Female",
            "Male",
            "Male",
            "Male",
            "Male",
            "Male",
            "Male",
            "Male",
            "Male",
            "Male",
            "Male",
            null,
            "Male",
            "Male",
            "Male",
            "Male",
            "Male",
            "Male",
            "Male",
            "Male",
            "Male",
            "Male",
            "Female",
            "Male",
            "Male",
            "Male",
            "Male",
            "Male",
            "Male",
            "Female",
            "Male",
            "Male",
            "Male",
            "Male",
            "Female",
            "Male",
            "Female",
            "Male",
            "Female",
            "Male",
            "Male",
            "Male",
            "Male",
            "Male",
            "Male",
            "Male",
            "Male",
            "Male",
            "Male",
            "Male",
            "Male",
            "Male",
            "Male",
            "Male",
            "Male",
            "Male",
            "Male",
            "Male",
            "Male",
            "Female",
            "Male",
            "Male",
            "Male",
            "Male",
            "Male",
            "Male",
            "Male",
            "Female",
            "Male",
            "Male",
            "Male",
            "Male",
            "Male",
            "Male",
            "Male",
            "Male",
            "Male",
            "Female",
            "Male",
            "Male",
            "Male",
            "Male",
            "Male",
            "Male",
            "Male",
            "Male",
            "Male",
            "Male",
            "Male",
            "Male",
            "Male",
            "Male",
            "Female",
            "Male",
            "Male",
            "Female",
            "Male",
            "Male",
            "Male",
            "Male",
            "Male",
            "Male",
            "Male",
            "Male",
            "Male",
            "Male",
            "Male",
            "Male",
            "Male",
            "Male",
            "Male",
            "Female",
            "Male",
            "Male",
            "Male",
            "Male",
            "Male",
            "Male",
            "Male",
            "Male",
            "Male",
            "Male",
            "Male",
            "Male",
            "Male",
            "Male",
            "Male",
            "Male",
            "Male",
            null,
            "Male",
            "Male",
            "Male",
            "Male",
            "Male",
            "Male",
            "Male",
            "Male",
            "Male",
            "Male",
            "Male",
            "Male",
            "Male",
            "Male",
            "Male",
            "Male",
            "Male",
            "Male",
            "Male",
            "Male",
            "Male",
            "Male",
            "Male",
            "Male",
            "Male",
            "Male",
            "Male",
            "Female",
            "Male",
            "Male",
            "Male",
            "Male",
            "Male",
            "Male",
            "Male",
            "Male",
            "Female",
            "Male",
            "Female",
            "Male",
            "Male",
            "Male",
            "Female",
            "Male",
            "Male",
            "Male",
            "Male",
            "Male",
            "Male",
            "Male",
            "Female",
            "Male",
            "Male",
            "Female",
            "Male",
            "Male",
            "Male",
            "Male",
            "Female",
            "Male",
            "Male",
            "Male",
            "Male",
            "Male",
            "Male",
            "Male",
            "Male",
            "Male",
            "Male",
            "Male",
            "Male",
            "Male",
            "Male",
            "Male",
            "Male",
            "Male",
            "Male",
            "Male",
            "Male",
            "Male",
            "Male",
            "Male",
            "Male",
            "Female",
            "Male",
            "Male",
            "Male",
            "Male",
            "Male",
            "Male",
            "Male",
            "Male",
            "Male",
            "Male",
            "Male",
            "Male",
            "Male",
            "Male",
            "Male",
            "Male",
            "Male",
            "Male",
            "Male",
            "Male",
            "Male",
            "Male",
            "Male",
            "Male",
            "Male",
            "Male",
            "Male",
            "Male",
            "Male",
            "Male",
            "Male",
            "Male",
            "Male",
            "Male",
            "Female",
            "Male",
            "Male",
            "Male",
            "Male",
            "Male",
            "Male",
            "Male",
            "Female",
            "Female",
            null,
            "Male",
            "Male",
            "Male",
            null,
            "Male",
            null,
            "Female",
            "Male",
            "Male",
            "Male",
            "Male",
            null,
            "Male",
            "Male",
            null,
            "Female",
            "Male",
            null,
            null,
            "Male",
            "Male",
            "Male",
            "Male",
            "Male",
            "Male",
            "Male",
            "Male",
            "Male",
            "Male",
            "Male",
            "Male",
            "Male",
            "Male",
            "Male",
            "Male",
            "Female",
            "Male",
            "Male",
            "Male",
            "Male",
            "Male",
            "Female",
            "Male",
            "Male",
            "Male",
            "Male",
            "Male",
            "Male",
            "Male",
            "Male",
            "Male",
            "Male",
            "Male",
            "Female",
            "Male",
            "Male",
            "Female",
            "Male",
            "Male",
            "Male",
            "Male",
            "Male",
            "Male",
            "Male",
            "Male",
            "Male",
            "Male",
            "Male",
            "Male",
            "Male",
            "Male",
            "Male",
            "Male",
            "Male",
            "Male",
            "Male",
            "Male",
            "Female",
            "Male",
            "Male",
            "Male",
            "Male",
            "Male",
            "Male",
            "Female",
            "Male",
            "Male",
            "Male",
            "Male",
            "Male",
            "Male",
            "Male",
            "Male",
            "Male",
            "Male",
            "Female",
            "Male",
            "Male",
            "Male",
            "Male",
            "Female",
            "Male",
            "Female",
            "Male",
            "Male",
            "Male",
            "Male",
            "Male",
            "Male",
            "Male",
            "Male",
            "Male",
            "Male",
            "Male",
            "Male",
            "Male",
            "Male",
            "Male",
            "Male",
            "Male",
            "Male",
            "Male",
            "Male",
            "Male",
            "Male",
            "Male",
            "Male",
            "Male",
            null,
            "Male",
            "Male",
            "Male",
            "Male",
            "Male",
            "Male",
            "Male",
            "Male",
            "Male",
            "Male",
            "Male",
            "Male",
            "Male",
            "Male",
            "Male",
            "Male",
            "Male",
            "Male",
            "Male",
            "Male",
            "Male",
            "Male",
            "Male",
            "Male",
            "Male",
            "Male",
            "Male",
            "Male",
            "Female",
            "Male",
            "Male",
            "Male",
            "Male",
            null,
            null,
            null,
            "Male",
            null,
            null,
            "Male",
            "Male",
            "Male",
            "Male",
            "Male",
            "Male",
            null,
            "Male",
            "Male",
            "Male",
            "Male",
            "Male",
            null,
            "Male",
            "Male",
            "Male",
            "Male",
            "Male",
            "Male",
            "Male",
            "Male",
            null,
            null,
            "Male",
            "Male",
            null,
            "Male",
            "Male",
            "Male",
            "Male",
            "Male",
            "Male",
            "Male",
            "Male",
            "Male",
            "Male",
            "Male",
            "Male",
            "Male",
            "Male",
            "Male",
            "Male",
            "Male",
            "Male",
            "Male",
            "Male",
            "Male",
            "Male",
            "Female",
            "Male",
            "Female",
            "Male",
            "Male",
            "Male",
            "Male",
            "Male",
            "Male",
            "Male",
            "Male",
            "Male",
            "Male",
            "Male",
            "Female",
            "Male",
            "Male",
            "Male",
            "Male",
            "Male",
            "Male",
            "Male",
            "Male",
            "Female",
            "Male",
            "Male",
            "Male",
            "Male",
            "Male",
            "Male",
            "Male",
            "Male",
            "Male",
            "Male",
            "Male",
            "Male",
            "Male",
            "Male",
            "Male",
            "Male",
            "Male",
            "Male",
            "Male",
            "Male",
            "Male",
            "Male",
            "Male",
            "Female",
            "Male",
            "Male",
            "Male",
            "Male",
            "Male",
            "Female",
            "Female",
            "Male",
            "Male",
            "Male",
            "Female",
            "Male",
            "Male",
            "Female",
            "Male",
            "Male",
            "Male",
            "Male",
            "Male",
            "Male",
            "Male",
            "Male",
            "Female",
            "Male",
            "Male",
            "Male",
            "Male",
            "Male",
            "Male",
            "Male",
            "Male",
            "Male",
            "Male",
            "Male",
            "Female",
            "Male",
            "Male",
            "Female",
            "Male",
            "Male",
            "Female",
            "Female",
            "Male",
            "Male",
            "Male",
            "Male",
            "Male",
            "Male",
            "Male",
            "Male",
            "Male",
            "Female",
            "Male",
            "Male",
            "Male",
            "Male",
            "Female",
            "Male",
            "Male",
            "Male",
            "Male",
            "Male",
            "Female",
            "Male",
            "Male",
            "Female",
            "Male",
            "Female",
            "Male",
            "Male",
            "Male",
            "Male",
            "Male",
            "Male",
            "Male",
            "Male",
            "Male",
            "Male",
            "Female",
            "Male",
            "Male",
            "Male",
            "Male",
            "Female",
            "Male",
            "Male",
            "Male",
            "Male",
            "Male",
            null,
            "Male",
            "Male",
            "Male",
            "Male",
            "Male",
            null,
            "Male",
            "Male",
            "Male",
            "Male",
            "Male",
            "Male",
            "Male",
            "Male",
            "Male",
            "Male",
            "Male",
            "Male",
            "Male",
            "Male",
            null,
            "Female",
            "Male",
            "Male",
            "Male",
            "Male",
            "Male",
            "Male",
            "Male",
            "Female",
            "Male",
            "Male",
            "Male",
            null,
            "Male",
            "Male",
            "Male"
           ],
           [
            null,
            null,
            null,
            47,
            null,
            null,
            null,
            21,
            17,
            null,
            null,
            null,
            null,
            null,
            null,
            null,
            null,
            null,
            16,
            null,
            28,
            33,
            null,
            18,
            null,
            null,
            null,
            null,
            null,
            null,
            null,
            17,
            58,
            null,
            null,
            null,
            null,
            null,
            null,
            null,
            null,
            null,
            null,
            null,
            null,
            null,
            null,
            null,
            null,
            17,
            null,
            null,
            null,
            null,
            null,
            25,
            null,
            25,
            null,
            null,
            null,
            19,
            null,
            60,
            null,
            null,
            null,
            null,
            15,
            19,
            null,
            null,
            98,
            null,
            null,
            null,
            null,
            null,
            null,
            null,
            22,
            null,
            21,
            null,
            null,
            30,
            null,
            24,
            null,
            23,
            null,
            null,
            null,
            19,
            null,
            null,
            null,
            null,
            null,
            50,
            null,
            null,
            null,
            null,
            null,
            null,
            null,
            98,
            null,
            null,
            35,
            47,
            42,
            null,
            null,
            19,
            null,
            35,
            35,
            23,
            null,
            25,
            null,
            null,
            56,
            null,
            null,
            null,
            null,
            null,
            21,
            null,
            null,
            23,
            98,
            null,
            null,
            35,
            22,
            null,
            18,
            60,
            19,
            60,
            28,
            21,
            59,
            null,
            44,
            null,
            null,
            64,
            null,
            21,
            32,
            51,
            33,
            42,
            22,
            null,
            30,
            26,
            null,
            42,
            null,
            null,
            36,
            26,
            37,
            null,
            36,
            26,
            45,
            32,
            41,
            null,
            null,
            42,
            null,
            23,
            null,
            22,
            24,
            40,
            22,
            42,
            41,
            null,
            22,
            42,
            38,
            20,
            null,
            null,
            35,
            40,
            null,
            30,
            40,
            35,
            24,
            27,
            25,
            23,
            null,
            18,
            16,
            null,
            35,
            21,
            30,
            null,
            35,
            15,
            null,
            null,
            16,
            53,
            null,
            null,
            57,
            30,
            30,
            41,
            24,
            null,
            19,
            34,
            22,
            null,
            null,
            36,
            null,
            28,
            null,
            17,
            98,
            34,
            25,
            25,
            38,
            17,
            20,
            null,
            null,
            22,
            31,
            34,
            35,
            31,
            24,
            55,
            30,
            25,
            29,
            null,
            null,
            45,
            null,
            29,
            93,
            55,
            null,
            null,
            28,
            25,
            30,
            19,
            24,
            null,
            null,
            null,
            23,
            null,
            50,
            null,
            25,
            53,
            35,
            28,
            null,
            null,
            30,
            42,
            23,
            42,
            30,
            30,
            21,
            21,
            null,
            25,
            null,
            30,
            null,
            25,
            20,
            20,
            null,
            null,
            null,
            null,
            null,
            null,
            null,
            null,
            77,
            null,
            null,
            null,
            41,
            null,
            null,
            30,
            29,
            16,
            25,
            null,
            null,
            null,
            20,
            52,
            null,
            61,
            20,
            56,
            null,
            null,
            null,
            12,
            15,
            45,
            20,
            35,
            null,
            50,
            22,
            null,
            24,
            null,
            null,
            null,
            null,
            null,
            null,
            null,
            28,
            33,
            57,
            36,
            null,
            null,
            29,
            35,
            null,
            29,
            28,
            33,
            36,
            30,
            25,
            48,
            38,
            21,
            34,
            31,
            25,
            null,
            52,
            35,
            40,
            null,
            21,
            null,
            30,
            30,
            17,
            null,
            51,
            22,
            30,
            20,
            35,
            29,
            null,
            30,
            40,
            31,
            null,
            40,
            24,
            28,
            35,
            32,
            22,
            45,
            24,
            28,
            38,
            29,
            null,
            32,
            null,
            37,
            14,
            31,
            null,
            34,
            null,
            28,
            98,
            22,
            28,
            25,
            25,
            27,
            43,
            null,
            19,
            31,
            30,
            20,
            31,
            null,
            24,
            42,
            26,
            null,
            26,
            null,
            46,
            null,
            null,
            52,
            29,
            25,
            23,
            25,
            null,
            30,
            null,
            38,
            null,
            null,
            30,
            29,
            37,
            28,
            31,
            98,
            34,
            42,
            29,
            20,
            21,
            28,
            33,
            18,
            null,
            34,
            46,
            30,
            19,
            20,
            58,
            22,
            26,
            33,
            40,
            43,
            37,
            28,
            null,
            27,
            null,
            25,
            28,
            37,
            null,
            29,
            null,
            null,
            32,
            23,
            24,
            null,
            null,
            null,
            22,
            null,
            null,
            null,
            44,
            40,
            45,
            27,
            29,
            null,
            null,
            56,
            null,
            37,
            null,
            null,
            33,
            25,
            26,
            null,
            26,
            null,
            30,
            23,
            null,
            null,
            36,
            null,
            null,
            null,
            18,
            null,
            null,
            null,
            25,
            null,
            null,
            17,
            null,
            41,
            26,
            null,
            29,
            null,
            null,
            null,
            null,
            null,
            null,
            98,
            null,
            null,
            25,
            null,
            null,
            null,
            24,
            15,
            25,
            null,
            34,
            34,
            22,
            32,
            null,
            null,
            null,
            39,
            null,
            null,
            28,
            25,
            25,
            null,
            26,
            27,
            null,
            26,
            13,
            null,
            null,
            null,
            27,
            null,
            null,
            42,
            28,
            18,
            null,
            null,
            32,
            20,
            38,
            42,
            20,
            null,
            null,
            null,
            39,
            39,
            null,
            31,
            16,
            null,
            null,
            null,
            35,
            30,
            30,
            39,
            22,
            35,
            23,
            14,
            null,
            null,
            null,
            18,
            31,
            39,
            null,
            null,
            22,
            27,
            32,
            23,
            null,
            36,
            29,
            26,
            38,
            30,
            26,
            39,
            null,
            24,
            30,
            30,
            40,
            null,
            40,
            37,
            41,
            35,
            null,
            25,
            24,
            null,
            null,
            null,
            30,
            42,
            26,
            null,
            37,
            23,
            null,
            25,
            28,
            null,
            66,
            29,
            55,
            40,
            32,
            null,
            44,
            30,
            null,
            null,
            null,
            33,
            null,
            null,
            31,
            35,
            32,
            null,
            40,
            37,
            24,
            54,
            34,
            null,
            20,
            34,
            null,
            20,
            null,
            null,
            null,
            30,
            31,
            null,
            null,
            55,
            null,
            28,
            19,
            19,
            17,
            20,
            32,
            38,
            27,
            null,
            34,
            37,
            26,
            null,
            37,
            null,
            39,
            38,
            40,
            54,
            30,
            null,
            37,
            42,
            41,
            null,
            null,
            36,
            15,
            47
           ],
           [
            null,
            null,
            null,
            null,
            null,
            null,
            38,
            21,
            23,
            null,
            null,
            50,
            21,
            null,
            null,
            null,
            null,
            null,
            25,
            null,
            50,
            28,
            null,
            22,
            null,
            null,
            null,
            null,
            null,
            null,
            null,
            null,
            null,
            55,
            null,
            10,
            null,
            null,
            null,
            null,
            8,
            null,
            null,
            59,
            null,
            null,
            59,
            null,
            1,
            27,
            null,
            null,
            59,
            59,
            49,
            30,
            19,
            25,
            null,
            null,
            null,
            17,
            null,
            null,
            null,
            null,
            17,
            null,
            15,
            18,
            null,
            null,
            null,
            null,
            28,
            null,
            null,
            null,
            null,
            null,
            23,
            null,
            39,
            null,
            null,
            30,
            null,
            null,
            null,
            27,
            null,
            null,
            12,
            61,
            null,
            40,
            null,
            null,
            null,
            null,
            null,
            60,
            null,
            null,
            65,
            29,
            null,
            11,
            null,
            27,
            30,
            20,
            null,
            35,
            10,
            19,
            null,
            48,
            48,
            35,
            35,
            28,
            null,
            1,
            56,
            null,
            null,
            2,
            null,
            null,
            null,
            null,
            null,
            69,
            31,
            null,
            17,
            48,
            65,
            53,
            25,
            null,
            35,
            15,
            30,
            25,
            45,
            48,
            28,
            null,
            null,
            38,
            38,
            20,
            30,
            26,
            1,
            18,
            26,
            null,
            20,
            36,
            null,
            40,
            null,
            null,
            24,
            31,
            32,
            null,
            45,
            34,
            35,
            26,
            60,
            null,
            null,
            36,
            null,
            39,
            5,
            29,
            59,
            34,
            35,
            8,
            31,
            null,
            21,
            33,
            null,
            48,
            null,
            21,
            36,
            38,
            null,
            26,
            26,
            36,
            null,
            51,
            24,
            31,
            null,
            null,
            17,
            28,
            38,
            18,
            24,
            44,
            26,
            11,
            null,
            null,
            16,
            38,
            null,
            23,
            40,
            35,
            37,
            38,
            73,
            null,
            null,
            25,
            57,
            null,
            20,
            35,
            1,
            25,
            28,
            38,
            null,
            29,
            26,
            45,
            36,
            50,
            26,
            33,
            null,
            33,
            23,
            null,
            24,
            23,
            28,
            38,
            33,
            30,
            null,
            10,
            null,
            40,
            null,
            27,
            null,
            47,
            null,
            59,
            32,
            27,
            25,
            null,
            21,
            null,
            null,
            null,
            25,
            42,
            45,
            null,
            47,
            null,
            24,
            36,
            8,
            67,
            36,
            31,
            24,
            40,
            34,
            26,
            46,
            25,
            null,
            28,
            null,
            31,
            null,
            24,
            21,
            20,
            23,
            null,
            9,
            35,
            null,
            null,
            null,
            null,
            null,
            null,
            48,
            70,
            61,
            null,
            null,
            25,
            25,
            10,
            10,
            48,
            null,
            22,
            38,
            null,
            75,
            36,
            21,
            35,
            30,
            22,
            45,
            10,
            15,
            47,
            null,
            33,
            63,
            20,
            30,
            38,
            null,
            null,
            38,
            25,
            25,
            35,
            null,
            21,
            31,
            69,
            36,
            32,
            null,
            30,
            33,
            26,
            31,
            36,
            20,
            null,
            40,
            26,
            30,
            48,
            31,
            20,
            47,
            37,
            null,
            null,
            26,
            45,
            35,
            null,
            20,
            15,
            36,
            30,
            30,
            24,
            45,
            null,
            30,
            30,
            null,
            31,
            88,
            30,
            38,
            30,
            45,
            34,
            47,
            25,
            40,
            20,
            37,
            24,
            32,
            27,
            55,
            42,
            23,
            36,
            null,
            33,
            8,
            44,
            59,
            5,
            12,
            null,
            59,
            25,
            46,
            26,
            null,
            27,
            30,
            50,
            31,
            36,
            30,
            35,
            30,
            null,
            25,
            27,
            21,
            null,
            57,
            null,
            null,
            76,
            37,
            39,
            62,
            24,
            null,
            22,
            null,
            9,
            1,
            27,
            6,
            null,
            30,
            50,
            45,
            55,
            33,
            null,
            51,
            35,
            null,
            16,
            23,
            17,
            37,
            21,
            null,
            null,
            27,
            50,
            14,
            30,
            50,
            17,
            27,
            32,
            39,
            23,
            37,
            23,
            null,
            32,
            null,
            39,
            25,
            43,
            null,
            54,
            59,
            42,
            28,
            25,
            23,
            25,
            48,
            null,
            42,
            21,
            26,
            35,
            25,
            33,
            40,
            31,
            40,
            21,
            27,
            35,
            38,
            37,
            37,
            33,
            55,
            27,
            29,
            null,
            26,
            47,
            65,
            39,
            27,
            26,
            25,
            23,
            17,
            null,
            17,
            35,
            null,
            59,
            24,
            null,
            null,
            null,
            null,
            null,
            null,
            null,
            31,
            null,
            9,
            42,
            41,
            null,
            null,
            null,
            null,
            35,
            null,
            null,
            null,
            null,
            60,
            21,
            21,
            null,
            41,
            26,
            20,
            22,
            null,
            null,
            50,
            32,
            4,
            null,
            29,
            41,
            32,
            null,
            48,
            null,
            null,
            21,
            43,
            null,
            19,
            null,
            null,
            null,
            null,
            52,
            31,
            22,
            9,
            null,
            42,
            21,
            41,
            40,
            69,
            null,
            null,
            null,
            41,
            42,
            null,
            31,
            7,
            null,
            null,
            null,
            28,
            22,
            30,
            39,
            35,
            17,
            26,
            10,
            18,
            null,
            46,
            34,
            19,
            45,
            59,
            null,
            31,
            43,
            32,
            19,
            null,
            55,
            49,
            26,
            22,
            35,
            25,
            null,
            null,
            23,
            35,
            42,
            27,
            null,
            40,
            30,
            33,
            37,
            null,
            35,
            9,
            44,
            81,
            null,
            33,
            64,
            26,
            null,
            34,
            24,
            null,
            39,
            28,
            51,
            39,
            29,
            50,
            null,
            null,
            64,
            70,
            26,
            null,
            28,
            21,
            2,
            null,
            20,
            32,
            29,
            28,
            34,
            45,
            23,
            27,
            21,
            56,
            20,
            21,
            19,
            22,
            27,
            32,
            23,
            37,
            22,
            40,
            21,
            62,
            43,
            47,
            27,
            49,
            23,
            8,
            63,
            41,
            33,
            46,
            35,
            29,
            34,
            23,
            25,
            37,
            9,
            30,
            32,
            42,
            44,
            22,
            61,
            43,
            36,
            39,
            38,
            40,
            36,
            11,
            27
           ],
           [
            "Fist, other body part",
            null,
            "Knife, sharp instrument",
            null,
            "Knife, sharp instrument",
            null,
            null,
            "Gun",
            "Gun",
            "Gun",
            null,
            "Gun",
            "Blunt object",
            null,
            null,
            null,
            null,
            null,
            "Fist, other body part",
            null,
            "Gun",
            "Gun",
            null,
            "Fist, other body part",
            null,
            "Gun",
            null,
            null,
            null,
            null,
            null,
            "Knife, sharp instrument",
            "Gun",
            null,
            "Gun",
            "Poison",
            "Gun",
            null,
            null,
            null,
            "Other",
            "Gun",
            null,
            null,
            null,
            null,
            null,
            null,
            null,
            "Gun",
            null,
            null,
            null,
            null,
            "Other",
            "Gun",
            "Gun",
            "Gun",
            "Gun",
            null,
            "Other",
            "Gun",
            null,
            "Gun",
            null,
            "Gun",
            "Gun",
            null,
            "Fist, other body part",
            "Fist, other body part",
            "Vehicle",
            null,
            null,
            "Gun",
            "Gun",
            null,
            null,
            null,
            null,
            "Gun",
            "Knife, sharp instrument",
            "Knife, sharp instrument",
            "Fist, other body part",
            null,
            "Knife, sharp instrument",
            "Gun",
            "Gun",
            "Gun",
            "Blunt object",
            "Gun",
            "Gun",
            "Gun",
            "Gun",
            "Other",
            "Knife, sharp instrument",
            "Gun",
            "Knife, sharp instrument",
            null,
            "Blunt object",
            "Fist, other body part",
            "Gun",
            "Fist, other body part",
            null,
            null,
            "Gun",
            "Vehicle",
            "Gun",
            "Gun",
            "Knife, sharp instrument",
            "Gun",
            "Knife, sharp instrument",
            "Gun",
            "Fist, other body part",
            "Vehicle",
            "Vehicle",
            "Knife, sharp instrument",
            null,
            "Fist, other body part",
            "Fist, other body part",
            "Fist, other body part",
            null,
            "Knife, sharp instrument",
            "Knife, sharp instrument",
            null,
            "Fist, other body part",
            null,
            "Vehicle",
            "Vehicle",
            "Gun",
            null,
            "Knife, sharp instrument",
            null,
            null,
            "Blunt object",
            "Gun",
            null,
            "Gun",
            "Gun",
            "Fist, other body part",
            "Vehicle",
            "Gun",
            "Other",
            "Blunt object",
            "Gun",
            null,
            null,
            "Blunt object",
            "Vehicle",
            "Knife, sharp instrument",
            "Vehicle",
            null,
            "Gun",
            "Knife, sharp instrument",
            "Gun",
            "Fist, other body part",
            "Gun",
            "Other",
            "Knife, sharp instrument",
            "Gun",
            null,
            "Gun",
            null,
            null,
            "Fist, other body part",
            null,
            null,
            "Knife, sharp instrument",
            "Gun",
            "Gun",
            null,
            "Knife, sharp instrument",
            "Vehicle",
            "Gun",
            "Knife, sharp instrument",
            "Blunt object",
            null,
            "Blunt object",
            "Gun",
            "Vehicle",
            "Fist, other body part",
            "Vehicle",
            null,
            "Gun",
            "Gun",
            "Knife, sharp instrument",
            "Other",
            "Gun",
            "Gun",
            "Gun",
            "Gun",
            "Gun",
            "Blunt object",
            "Knife, sharp instrument",
            "Gun",
            "Knife, sharp instrument",
            "Gun",
            "Vehicle",
            "Gun",
            "Gun",
            "Gun",
            "Fist, other body part",
            "Gun",
            "Gun",
            "Vehicle",
            "Blunt object",
            "Vehicle",
            "Gun",
            "Vehicle",
            "Gun",
            "Gun",
            "Gun",
            "Gun",
            "Gun",
            "Gun",
            null,
            null,
            "Knife, sharp instrument",
            "Gun",
            "Gun",
            "Knife, sharp instrument",
            "Other",
            "Gun",
            "Other",
            "Gun",
            "Vehicle",
            "Vehicle",
            "Vehicle",
            "Gun",
            "Knife, sharp instrument",
            null,
            null,
            "Gun",
            null,
            "Gun",
            "Gun",
            "Gun",
            null,
            "Gun",
            "Knife, sharp instrument",
            "Gun",
            "Gun",
            "Gun",
            "Gun",
            "Gun",
            null,
            "Gun",
            "Gun",
            "Gun",
            "Gun",
            "Knife, sharp instrument",
            "Gun",
            "Gun",
            "Gun",
            "Gun",
            "Vehicle",
            "Vehicle",
            null,
            "Gun",
            null,
            "Gun",
            null,
            "Other",
            null,
            null,
            "Gun",
            "Gun",
            "Gun",
            "Vehicle",
            "Vehicle",
            null,
            null,
            null,
            "Gun",
            "Gun",
            "Gun",
            null,
            "Vehicle",
            null,
            "Blunt object",
            "Gun",
            "Vehicle",
            "Vehicle",
            "Other",
            "Knife, sharp instrument",
            "Gun",
            "Gun",
            "Knife, sharp instrument",
            "Gun",
            "Gun",
            "Gun",
            null,
            "Gun",
            null,
            "Fist, other body part",
            "Blunt object",
            "Blunt object",
            "Gun",
            "Knife, sharp instrument",
            "Vehicle",
            null,
            "Vehicle",
            "Gun",
            "Knife, sharp instrument",
            null,
            "Gun",
            "Gun",
            "Gun",
            "Gun",
            "Gun",
            "Vehicle",
            "Vehicle",
            "Gun",
            null,
            null,
            "Gun",
            "Gun",
            "Vehicle",
            "Vehicle",
            null,
            "Vehicle",
            "Knife, sharp instrument",
            null,
            "Blunt object",
            "Blunt object",
            "Knife, sharp instrument",
            "Gun",
            "Gun",
            "Gun",
            "Gun",
            "Gun",
            "Gun",
            "Gun",
            "Gun",
            "Gun",
            "Gun",
            "Gun",
            "Gun",
            "Gun",
            "Gun",
            "Gun",
            "Gun",
            "Gun",
            "Gun",
            "Gun",
            "Gun",
            "Gun",
            "Gun",
            "Gun",
            "Gun",
            "Knife, sharp instrument",
            null,
            "Gun",
            "Gun",
            "Gun",
            "Gun",
            "Gun",
            "Knife, sharp instrument",
            "Knife, sharp instrument",
            "Gun",
            "Gun",
            "Gun",
            "Gun",
            "Gun",
            "Gun",
            "Other",
            "Gun",
            "Gun",
            null,
            "Knife, sharp instrument",
            "Gun",
            "Gun",
            "Vehicle",
            "Gun",
            "Vehicle",
            "Fist, other body part",
            "Knife, sharp instrument",
            "Gun",
            "Gun",
            "Gun",
            "Gun",
            "Knife, sharp instrument",
            "Gun",
            "Gun",
            "Gun",
            "Vehicle",
            "Gun",
            "Gun",
            "Gun",
            "Gun",
            "Knife, sharp instrument",
            "Gun",
            "Gun",
            "Gun",
            "Gun",
            "Gun",
            "Gun",
            "Blunt object",
            "Gun",
            "Gun",
            "Fist, other body part",
            null,
            "Gun",
            null,
            "Gun",
            "Knife, sharp instrument",
            "Other",
            "Gun",
            "Vehicle",
            null,
            "Vehicle",
            null,
            "Knife, sharp instrument",
            "Knife, sharp instrument",
            "Gun",
            "Knife, sharp instrument",
            "Gun",
            "Knife, sharp instrument",
            "Vehicle",
            "Knife, sharp instrument",
            "Blunt object",
            "Gun",
            "Gun",
            "Knife, sharp instrument",
            null,
            "Knife, sharp instrument",
            "Knife, sharp instrument",
            "Other",
            null,
            "Vehicle",
            null,
            "Vehicle",
            "Vehicle",
            "Gun",
            "Knife, sharp instrument",
            "Vehicle",
            null,
            "Gun",
            "Gun",
            null,
            "Vehicle",
            "Vehicle",
            "Knife, sharp instrument",
            "Vehicle",
            "Vehicle",
            "Gun",
            "Gun",
            "Gun",
            "Gun",
            "Gun",
            null,
            "Blunt object",
            "Fist, other body part",
            "Gun",
            "Gun",
            "Gun",
            "Gun",
            "Vehicle",
            "Gun",
            null,
            "Vehicle",
            "Gun",
            "Gun",
            "Vehicle",
            "Gun",
            "Other",
            "Gun",
            "Gun",
            "Gun",
            "Gun",
            "Gun",
            "Gun",
            "Gun",
            null,
            "Knife, sharp instrument",
            "Vehicle",
            "Gun",
            "Gun",
            "Gun",
            "Vehicle",
            "Fist, other body part",
            null,
            "Gun",
            "Gun",
            "Gun",
            "Gun",
            "Gun",
            "Knife, sharp instrument",
            "Gun",
            "Other",
            "Gun",
            "Gun",
            "Gun",
            "Fist, other body part",
            "Gun",
            "Knife, sharp instrument",
            "Gun",
            "Fist, other body part",
            "Gun",
            "Gun",
            "Other",
            "Gun",
            "Fist, other body part",
            "Gun",
            "Gun",
            "Other",
            "Knife, sharp instrument",
            "Knife, sharp instrument",
            "Gun",
            "Gun",
            "Gun",
            "Gun",
            "Gun",
            "Gun",
            "Gun",
            "Gun",
            "Gun",
            "Gun",
            null,
            "Gun",
            "Fist, other body part",
            "Gun",
            null,
            "Gun",
            null,
            null,
            "Gun",
            null,
            "Gun",
            "Gun",
            null,
            "Gun",
            "Gun",
            null,
            "Vehicle",
            "Knife, sharp instrument",
            "Gun",
            null,
            null,
            null,
            "Gun",
            "Vehicle",
            null,
            null,
            "Vehicle",
            "Vehicle",
            "Knife, sharp instrument",
            "Vehicle",
            null,
            null,
            "Knife, sharp instrument",
            "Vehicle",
            "Gun",
            null,
            null,
            "Knife, sharp instrument",
            "Gun",
            "Vehicle",
            null,
            "Knife, sharp instrument",
            "Gun",
            "Knife, sharp instrument",
            null,
            "Knife, sharp instrument",
            "Gun",
            null,
            "Vehicle",
            "Gun",
            "Vehicle",
            "Gun",
            "Blunt object",
            "Blunt object",
            "Gun",
            "Knife, sharp instrument",
            null,
            "Gun",
            "Gun",
            "Vehicle",
            null,
            "Other",
            "Gun",
            "Knife, sharp instrument",
            "Gun",
            "Blunt object",
            "Vehicle",
            null,
            "Vehicle",
            "Blunt object",
            "Blunt object",
            null,
            "Gun",
            "Fist, other body part",
            null,
            null,
            null,
            "Gun",
            "Blunt object",
            "Other",
            "Gun",
            "Gun",
            "Other",
            "Knife, sharp instrument",
            "Knife, sharp instrument",
            null,
            null,
            "Vehicle",
            "Vehicle",
            "Gun",
            "Gun",
            "Vehicle",
            null,
            "Gun",
            "Knife, sharp instrument",
            "Fist, other body part",
            "Fist, other body part",
            "Fist, other body part",
            "Vehicle",
            "Fist, other body part",
            "Blunt object",
            "Gun",
            "Gun",
            "Knife, sharp instrument",
            "Gun",
            null,
            "Gun",
            "Knife, sharp instrument",
            "Gun",
            "Gun",
            null,
            "Knife, sharp instrument",
            "Knife, sharp instrument",
            "Blunt object",
            "Knife, sharp instrument",
            null,
            "Gun",
            "Vehicle",
            "Gun",
            "Vehicle",
            null,
            "Gun",
            "Gun",
            "Gun",
            null,
            "Gun",
            "Knife, sharp instrument",
            null,
            "Gun",
            "Vehicle",
            "Knife, sharp instrument",
            "Knife, sharp instrument",
            "Gun",
            "Gun",
            "Knife, sharp instrument",
            "Knife, sharp instrument",
            "Blunt object",
            "Other",
            "Other",
            null,
            "Vehicle",
            "Vehicle",
            "Vehicle",
            null,
            "Gun",
            "Knife, sharp instrument",
            "Gun",
            "Knife, sharp instrument",
            "Vehicle",
            "Vehicle",
            "Knife, sharp instrument",
            "Gun",
            "Gun",
            "Other",
            "Gun",
            "Other",
            "Gun",
            "Gun",
            "Gun",
            "Knife, sharp instrument",
            null,
            "Gun",
            "Blunt object",
            null,
            "Gun",
            "Gun",
            null,
            "Gun",
            "Fist, other body part",
            null,
            "Gun",
            null,
            null,
            "Gun",
            null,
            null,
            "Gun",
            "Gun",
            "Gun",
            "Gun",
            "Gun",
            "Gun",
            "Gun",
            "Knife, sharp instrument",
            "Gun",
            "Knife, sharp instrument",
            "Knife, sharp instrument",
            "Gun",
            "Gun",
            "Gun",
            "Gun",
            "Gun",
            "Gun",
            null,
            "Gun",
            "Knife, sharp instrument",
            "Gun"
           ],
           [
            "Teen gang",
            "No gang",
            "No gang",
            "No gang",
            "No gang",
            "No gang",
            "No gang",
            "No gang",
            "No gang",
            "No gang",
            "No gang",
            "No gang",
            "No gang",
            "No gang",
            "No gang",
            "No gang",
            "No gang",
            "No gang",
            "No gang",
            "No gang",
            "No gang",
            "No gang",
            "No gang",
            "No gang",
            "No gang",
            "No gang",
            "No gang",
            "No gang",
            "No gang",
            "No gang",
            "No gang",
            "No gang",
            "No gang",
            "No gang",
            "No gang",
            "No gang",
            "No gang",
            "No gang",
            "No gang",
            "No gang",
            "No gang",
            "No gang",
            "No gang",
            "No gang",
            "No gang",
            "No gang",
            "No gang",
            "No gang",
            "No gang",
            "No gang",
            "No gang",
            "No gang",
            "No gang",
            "No gang",
            "No gang",
            "No gang",
            "No gang",
            "No gang",
            "No gang",
            "No gang",
            "No gang",
            "No gang",
            "No gang",
            "No gang",
            "No gang",
            "No gang",
            "Teen gang",
            "No gang",
            "No gang",
            "No gang",
            "No gang",
            "No gang",
            "No gang",
            "No gang",
            "No gang",
            "No gang",
            "No gang",
            "No gang",
            "No gang",
            "No gang",
            "No gang",
            "No gang",
            "No gang",
            "No gang",
            "No gang",
            "No gang",
            "No gang",
            "Adult gang",
            "No gang",
            "No gang",
            "No gang",
            "No gang",
            "No gang",
            "No gang",
            "Adult gang",
            "No gang",
            "No gang",
            "No gang",
            "No gang",
            "No gang",
            "No gang",
            "No gang",
            "No gang",
            "No gang",
            "Teen gang",
            "No gang",
            "No gang",
            "No gang",
            "No gang",
            "No gang",
            "No gang",
            "No gang",
            "No gang",
            "No gang",
            "No gang",
            "Teen gang",
            "No gang",
            "No gang",
            "No gang",
            "No gang",
            "No gang",
            "No gang",
            "Teen gang",
            "No gang",
            "No gang",
            "No gang",
            "No gang",
            "No gang",
            "No gang",
            "No gang",
            "No gang",
            "No gang",
            "No gang",
            "No gang",
            "No gang",
            "No gang",
            "Teen gang",
            "No gang",
            "No gang",
            "No gang",
            "No gang",
            "No gang",
            "No gang",
            "No gang",
            "No gang",
            9,
            "No gang",
            "No gang",
            "No gang",
            "No gang",
            "No gang",
            "No gang",
            "No gang",
            "No gang",
            "No gang",
            "No gang",
            "No gang",
            "No gang",
            "No gang",
            "No gang",
            "No gang",
            9,
            9,
            "No gang",
            "No gang",
            "No gang",
            "No gang",
            "No gang",
            "No gang",
            9,
            "No gang",
            "No gang",
            "Adult gang",
            "No gang",
            "No gang",
            "No gang",
            "No gang",
            "No gang",
            "No gang",
            "No gang",
            "No gang",
            9,
            "No gang",
            "No gang",
            "No gang",
            "No gang",
            "No gang",
            "No gang",
            "No gang",
            "No gang",
            "No gang",
            "Teen gang",
            9,
            9,
            9,
            "No gang",
            "No gang",
            "No gang",
            "No gang",
            "No gang",
            9,
            9,
            "No gang",
            "No gang",
            "No gang",
            "No gang",
            "No gang",
            "No gang",
            "No gang",
            "No gang",
            9,
            "No gang",
            9,
            "No gang",
            9,
            9,
            "No gang",
            "No gang",
            "No gang",
            9,
            "No gang",
            "No gang",
            "No gang",
            "No gang",
            "No gang",
            "No gang",
            "No gang",
            9,
            "No gang",
            "No gang",
            "No gang",
            "No gang",
            "No gang",
            "No gang",
            9,
            "No gang",
            "No gang",
            "No gang",
            9,
            9,
            "No gang",
            "No gang",
            9,
            "No gang",
            "No gang",
            "Adult gang",
            "No gang",
            "No gang",
            "No gang",
            "No gang",
            "No gang",
            "No gang",
            "No gang",
            9,
            "No gang",
            "No gang",
            "No gang",
            "No gang",
            "No gang",
            "No gang",
            "No gang",
            "No gang",
            "No gang",
            "No gang",
            "No gang",
            9,
            9,
            "No gang",
            "No gang",
            9,
            "No gang",
            9,
            "No gang",
            "No gang",
            "No gang",
            9,
            "No gang",
            "No gang",
            "Teen gang",
            9,
            "No gang",
            "No gang",
            9,
            9,
            9,
            "No gang",
            "No gang",
            9,
            "Adult gang",
            "Adult gang",
            "No gang",
            "Teen gang",
            9,
            "No gang",
            "Adult gang",
            9,
            9,
            "No gang",
            "No gang",
            9,
            "No gang",
            9,
            "No gang",
            9,
            "No gang",
            9,
            "No gang",
            "Adult gang",
            "No gang",
            "No gang",
            "No gang",
            9,
            "No gang",
            9,
            "No gang",
            "No gang",
            "No gang",
            "No gang",
            9,
            "No gang",
            "No gang",
            "No gang",
            9,
            9,
            9,
            "No gang",
            9,
            "No gang",
            9,
            "No gang",
            "No gang",
            "No gang",
            9,
            "No gang",
            9,
            9,
            "No gang",
            9,
            "No gang",
            9,
            9,
            9,
            "No gang",
            "No gang",
            "No gang",
            "Teen gang",
            9,
            "No gang",
            "No gang",
            "No gang",
            9,
            "No gang",
            "No gang",
            "No gang",
            "No gang",
            "No gang",
            "No gang",
            "No gang",
            "No gang",
            "No gang",
            "No gang",
            "No gang",
            "No gang",
            "No gang",
            "No gang",
            "No gang",
            "No gang",
            "No gang",
            "No gang",
            "Adult gang",
            "No gang",
            "No gang",
            "Adult gang",
            "No gang",
            "No gang",
            "No gang",
            "No gang",
            "No gang",
            "No gang",
            "No gang",
            9,
            "No gang",
            "No gang",
            "No gang",
            "No gang",
            "No gang",
            "No gang",
            "No gang",
            "No gang",
            "No gang",
            "No gang",
            "No gang",
            "No gang",
            "No gang",
            9,
            "No gang",
            "No gang",
            "No gang",
            "No gang",
            "Teen gang",
            "No gang",
            "No gang",
            9,
            "No gang",
            "No gang",
            "No gang",
            "No gang",
            "No gang",
            "No gang",
            "No gang",
            "No gang",
            "No gang",
            "No gang",
            "No gang",
            "No gang",
            "No gang",
            "No gang",
            "No gang",
            "No gang",
            "No gang",
            "No gang",
            9,
            "No gang",
            "No gang",
            "No gang",
            "No gang",
            "Teen gang",
            "No gang",
            "No gang",
            "No gang",
            "No gang",
            "No gang",
            "No gang",
            "No gang",
            "No gang",
            "No gang",
            "No gang",
            "No gang",
            9,
            "No gang",
            "No gang",
            "No gang",
            "No gang",
            "No gang",
            9,
            "No gang",
            "No gang",
            "No gang",
            "No gang",
            9,
            "No gang",
            "No gang",
            "No gang",
            "No gang",
            "No gang",
            "Teen gang",
            "No gang",
            "No gang",
            "No gang",
            "No gang",
            "No gang",
            9,
            "No gang",
            "Teen gang",
            "No gang",
            "No gang",
            "No gang",
            "No gang",
            "No gang",
            "No gang",
            "No gang",
            "No gang",
            "No gang",
            "No gang",
            "No gang",
            "No gang",
            "No gang",
            "No gang",
            "No gang",
            "No gang",
            "No gang",
            "Adult gang",
            "No gang",
            "Teen gang",
            "No gang",
            "Adult gang",
            "No gang",
            "Adult gang",
            "No gang",
            "Adult gang",
            "Adult gang",
            "Teen gang",
            "No gang",
            "No gang",
            9,
            9,
            9,
            "Adult gang",
            "No gang",
            "No gang",
            "No gang",
            "No gang",
            "No gang",
            9,
            "No gang",
            "No gang",
            "No gang",
            "No gang",
            "Adult gang",
            "No gang",
            "No gang",
            "No gang",
            9,
            "No gang",
            "No gang",
            "No gang",
            9,
            "No gang",
            "No gang",
            "No gang",
            "Teen gang",
            "No gang",
            "No gang",
            "No gang",
            9,
            "Teen gang",
            9,
            "No gang",
            "No gang",
            "No gang",
            "No gang",
            "No gang",
            "No gang",
            "No gang",
            "No gang",
            "No gang",
            9,
            9,
            9,
            "No gang",
            "No gang",
            9,
            9,
            "No gang",
            "No gang",
            "Teen gang",
            "No gang",
            "No gang",
            9,
            "No gang",
            "No gang",
            "No gang",
            "No gang",
            "No gang",
            "No gang",
            "No gang",
            "No gang",
            "No gang",
            "No gang",
            "Teen gang",
            "No gang",
            9,
            "No gang",
            "No gang",
            9,
            "Teen gang",
            "No gang",
            "No gang",
            "Teen gang",
            "No gang",
            "No gang",
            "No gang",
            "No gang",
            "No gang",
            9,
            "Teen gang",
            "No gang",
            9,
            "No gang",
            "No gang",
            "No gang",
            "No gang",
            "No gang",
            "No gang",
            9,
            "No gang",
            "No gang",
            "No gang",
            9,
            9,
            "No gang",
            9,
            "No gang",
            "No gang",
            "No gang",
            "No gang",
            "No gang",
            "No gang",
            "No gang",
            "No gang",
            "No gang",
            "Teen gang",
            "No gang",
            "No gang",
            "No gang",
            "No gang",
            "No gang",
            "No gang",
            "No gang",
            "No gang",
            "Adult gang",
            9,
            "No gang",
            "No gang",
            "No gang",
            "No gang",
            9,
            "No gang",
            "No gang",
            9,
            "No gang",
            "No gang",
            "No gang",
            "Adult gang",
            "No gang",
            "No gang",
            "Teen gang",
            "No gang",
            "No gang",
            "No gang",
            "No gang",
            "No gang",
            9,
            "Teen gang",
            "No gang",
            "No gang",
            "No gang",
            9,
            "No gang",
            "No gang",
            "No gang",
            "No gang",
            "No gang",
            "No gang",
            "No gang",
            "No gang",
            "No gang",
            "No gang",
            "No gang",
            "No gang",
            "No gang",
            "No gang",
            "No gang",
            "Teen gang",
            "No gang",
            "No gang",
            "No gang",
            "No gang",
            "No gang",
            "No gang",
            "No gang",
            9,
            9,
            "No gang",
            "No gang",
            "No gang",
            "No gang",
            9,
            "Adult gang",
            "No gang",
            "No gang",
            9,
            "No gang",
            9,
            9,
            9,
            "Adult gang",
            9,
            "Adult gang",
            9,
            9,
            "No gang",
            9,
            9,
            "No gang",
            "No gang",
            "No gang",
            "No gang",
            "No gang",
            "No gang",
            9,
            9,
            9,
            0,
            9,
            9,
            "No gang",
            "Adult gang",
            9,
            "No gang",
            "No gang",
            "No gang",
            "No gang",
            9,
            "No gang",
            "No gang",
            "No gang",
            "No gang",
            "No gang",
            "No gang",
            9,
            9,
            9,
            9
           ]
          ]
         },
         "header": {
          "align": "left",
          "fill": {
           "color": "paleturquoise"
          },
          "values": [
           "Year",
           "Charge",
           "Gender of accused",
           "Age of accused",
           "Victim age",
           "Weapon",
           "Gang"
          ]
         },
         "type": "table"
        }
       ],
       "layout": {
        "template": {
         "data": {
          "bar": [
           {
            "error_x": {
             "color": "#2a3f5f"
            },
            "error_y": {
             "color": "#2a3f5f"
            },
            "marker": {
             "line": {
              "color": "#E5ECF6",
              "width": 0.5
             },
             "pattern": {
              "fillmode": "overlay",
              "size": 10,
              "solidity": 0.2
             }
            },
            "type": "bar"
           }
          ],
          "barpolar": [
           {
            "marker": {
             "line": {
              "color": "#E5ECF6",
              "width": 0.5
             },
             "pattern": {
              "fillmode": "overlay",
              "size": 10,
              "solidity": 0.2
             }
            },
            "type": "barpolar"
           }
          ],
          "carpet": [
           {
            "aaxis": {
             "endlinecolor": "#2a3f5f",
             "gridcolor": "white",
             "linecolor": "white",
             "minorgridcolor": "white",
             "startlinecolor": "#2a3f5f"
            },
            "baxis": {
             "endlinecolor": "#2a3f5f",
             "gridcolor": "white",
             "linecolor": "white",
             "minorgridcolor": "white",
             "startlinecolor": "#2a3f5f"
            },
            "type": "carpet"
           }
          ],
          "choropleth": [
           {
            "colorbar": {
             "outlinewidth": 0,
             "ticks": ""
            },
            "type": "choropleth"
           }
          ],
          "contour": [
           {
            "colorbar": {
             "outlinewidth": 0,
             "ticks": ""
            },
            "colorscale": [
             [
              0,
              "#0d0887"
             ],
             [
              0.1111111111111111,
              "#46039f"
             ],
             [
              0.2222222222222222,
              "#7201a8"
             ],
             [
              0.3333333333333333,
              "#9c179e"
             ],
             [
              0.4444444444444444,
              "#bd3786"
             ],
             [
              0.5555555555555556,
              "#d8576b"
             ],
             [
              0.6666666666666666,
              "#ed7953"
             ],
             [
              0.7777777777777778,
              "#fb9f3a"
             ],
             [
              0.8888888888888888,
              "#fdca26"
             ],
             [
              1,
              "#f0f921"
             ]
            ],
            "type": "contour"
           }
          ],
          "contourcarpet": [
           {
            "colorbar": {
             "outlinewidth": 0,
             "ticks": ""
            },
            "type": "contourcarpet"
           }
          ],
          "heatmap": [
           {
            "colorbar": {
             "outlinewidth": 0,
             "ticks": ""
            },
            "colorscale": [
             [
              0,
              "#0d0887"
             ],
             [
              0.1111111111111111,
              "#46039f"
             ],
             [
              0.2222222222222222,
              "#7201a8"
             ],
             [
              0.3333333333333333,
              "#9c179e"
             ],
             [
              0.4444444444444444,
              "#bd3786"
             ],
             [
              0.5555555555555556,
              "#d8576b"
             ],
             [
              0.6666666666666666,
              "#ed7953"
             ],
             [
              0.7777777777777778,
              "#fb9f3a"
             ],
             [
              0.8888888888888888,
              "#fdca26"
             ],
             [
              1,
              "#f0f921"
             ]
            ],
            "type": "heatmap"
           }
          ],
          "heatmapgl": [
           {
            "colorbar": {
             "outlinewidth": 0,
             "ticks": ""
            },
            "colorscale": [
             [
              0,
              "#0d0887"
             ],
             [
              0.1111111111111111,
              "#46039f"
             ],
             [
              0.2222222222222222,
              "#7201a8"
             ],
             [
              0.3333333333333333,
              "#9c179e"
             ],
             [
              0.4444444444444444,
              "#bd3786"
             ],
             [
              0.5555555555555556,
              "#d8576b"
             ],
             [
              0.6666666666666666,
              "#ed7953"
             ],
             [
              0.7777777777777778,
              "#fb9f3a"
             ],
             [
              0.8888888888888888,
              "#fdca26"
             ],
             [
              1,
              "#f0f921"
             ]
            ],
            "type": "heatmapgl"
           }
          ],
          "histogram": [
           {
            "marker": {
             "pattern": {
              "fillmode": "overlay",
              "size": 10,
              "solidity": 0.2
             }
            },
            "type": "histogram"
           }
          ],
          "histogram2d": [
           {
            "colorbar": {
             "outlinewidth": 0,
             "ticks": ""
            },
            "colorscale": [
             [
              0,
              "#0d0887"
             ],
             [
              0.1111111111111111,
              "#46039f"
             ],
             [
              0.2222222222222222,
              "#7201a8"
             ],
             [
              0.3333333333333333,
              "#9c179e"
             ],
             [
              0.4444444444444444,
              "#bd3786"
             ],
             [
              0.5555555555555556,
              "#d8576b"
             ],
             [
              0.6666666666666666,
              "#ed7953"
             ],
             [
              0.7777777777777778,
              "#fb9f3a"
             ],
             [
              0.8888888888888888,
              "#fdca26"
             ],
             [
              1,
              "#f0f921"
             ]
            ],
            "type": "histogram2d"
           }
          ],
          "histogram2dcontour": [
           {
            "colorbar": {
             "outlinewidth": 0,
             "ticks": ""
            },
            "colorscale": [
             [
              0,
              "#0d0887"
             ],
             [
              0.1111111111111111,
              "#46039f"
             ],
             [
              0.2222222222222222,
              "#7201a8"
             ],
             [
              0.3333333333333333,
              "#9c179e"
             ],
             [
              0.4444444444444444,
              "#bd3786"
             ],
             [
              0.5555555555555556,
              "#d8576b"
             ],
             [
              0.6666666666666666,
              "#ed7953"
             ],
             [
              0.7777777777777778,
              "#fb9f3a"
             ],
             [
              0.8888888888888888,
              "#fdca26"
             ],
             [
              1,
              "#f0f921"
             ]
            ],
            "type": "histogram2dcontour"
           }
          ],
          "mesh3d": [
           {
            "colorbar": {
             "outlinewidth": 0,
             "ticks": ""
            },
            "type": "mesh3d"
           }
          ],
          "parcoords": [
           {
            "line": {
             "colorbar": {
              "outlinewidth": 0,
              "ticks": ""
             }
            },
            "type": "parcoords"
           }
          ],
          "pie": [
           {
            "automargin": true,
            "type": "pie"
           }
          ],
          "scatter": [
           {
            "fillpattern": {
             "fillmode": "overlay",
             "size": 10,
             "solidity": 0.2
            },
            "type": "scatter"
           }
          ],
          "scatter3d": [
           {
            "line": {
             "colorbar": {
              "outlinewidth": 0,
              "ticks": ""
             }
            },
            "marker": {
             "colorbar": {
              "outlinewidth": 0,
              "ticks": ""
             }
            },
            "type": "scatter3d"
           }
          ],
          "scattercarpet": [
           {
            "marker": {
             "colorbar": {
              "outlinewidth": 0,
              "ticks": ""
             }
            },
            "type": "scattercarpet"
           }
          ],
          "scattergeo": [
           {
            "marker": {
             "colorbar": {
              "outlinewidth": 0,
              "ticks": ""
             }
            },
            "type": "scattergeo"
           }
          ],
          "scattergl": [
           {
            "marker": {
             "colorbar": {
              "outlinewidth": 0,
              "ticks": ""
             }
            },
            "type": "scattergl"
           }
          ],
          "scattermapbox": [
           {
            "marker": {
             "colorbar": {
              "outlinewidth": 0,
              "ticks": ""
             }
            },
            "type": "scattermapbox"
           }
          ],
          "scatterpolar": [
           {
            "marker": {
             "colorbar": {
              "outlinewidth": 0,
              "ticks": ""
             }
            },
            "type": "scatterpolar"
           }
          ],
          "scatterpolargl": [
           {
            "marker": {
             "colorbar": {
              "outlinewidth": 0,
              "ticks": ""
             }
            },
            "type": "scatterpolargl"
           }
          ],
          "scatterternary": [
           {
            "marker": {
             "colorbar": {
              "outlinewidth": 0,
              "ticks": ""
             }
            },
            "type": "scatterternary"
           }
          ],
          "surface": [
           {
            "colorbar": {
             "outlinewidth": 0,
             "ticks": ""
            },
            "colorscale": [
             [
              0,
              "#0d0887"
             ],
             [
              0.1111111111111111,
              "#46039f"
             ],
             [
              0.2222222222222222,
              "#7201a8"
             ],
             [
              0.3333333333333333,
              "#9c179e"
             ],
             [
              0.4444444444444444,
              "#bd3786"
             ],
             [
              0.5555555555555556,
              "#d8576b"
             ],
             [
              0.6666666666666666,
              "#ed7953"
             ],
             [
              0.7777777777777778,
              "#fb9f3a"
             ],
             [
              0.8888888888888888,
              "#fdca26"
             ],
             [
              1,
              "#f0f921"
             ]
            ],
            "type": "surface"
           }
          ],
          "table": [
           {
            "cells": {
             "fill": {
              "color": "#EBF0F8"
             },
             "line": {
              "color": "white"
             }
            },
            "header": {
             "fill": {
              "color": "#C8D4E3"
             },
             "line": {
              "color": "white"
             }
            },
            "type": "table"
           }
          ]
         },
         "layout": {
          "annotationdefaults": {
           "arrowcolor": "#2a3f5f",
           "arrowhead": 0,
           "arrowwidth": 1
          },
          "autotypenumbers": "strict",
          "coloraxis": {
           "colorbar": {
            "outlinewidth": 0,
            "ticks": ""
           }
          },
          "colorscale": {
           "diverging": [
            [
             0,
             "#8e0152"
            ],
            [
             0.1,
             "#c51b7d"
            ],
            [
             0.2,
             "#de77ae"
            ],
            [
             0.3,
             "#f1b6da"
            ],
            [
             0.4,
             "#fde0ef"
            ],
            [
             0.5,
             "#f7f7f7"
            ],
            [
             0.6,
             "#e6f5d0"
            ],
            [
             0.7,
             "#b8e186"
            ],
            [
             0.8,
             "#7fbc41"
            ],
            [
             0.9,
             "#4d9221"
            ],
            [
             1,
             "#276419"
            ]
           ],
           "sequential": [
            [
             0,
             "#0d0887"
            ],
            [
             0.1111111111111111,
             "#46039f"
            ],
            [
             0.2222222222222222,
             "#7201a8"
            ],
            [
             0.3333333333333333,
             "#9c179e"
            ],
            [
             0.4444444444444444,
             "#bd3786"
            ],
            [
             0.5555555555555556,
             "#d8576b"
            ],
            [
             0.6666666666666666,
             "#ed7953"
            ],
            [
             0.7777777777777778,
             "#fb9f3a"
            ],
            [
             0.8888888888888888,
             "#fdca26"
            ],
            [
             1,
             "#f0f921"
            ]
           ],
           "sequentialminus": [
            [
             0,
             "#0d0887"
            ],
            [
             0.1111111111111111,
             "#46039f"
            ],
            [
             0.2222222222222222,
             "#7201a8"
            ],
            [
             0.3333333333333333,
             "#9c179e"
            ],
            [
             0.4444444444444444,
             "#bd3786"
            ],
            [
             0.5555555555555556,
             "#d8576b"
            ],
            [
             0.6666666666666666,
             "#ed7953"
            ],
            [
             0.7777777777777778,
             "#fb9f3a"
            ],
            [
             0.8888888888888888,
             "#fdca26"
            ],
            [
             1,
             "#f0f921"
            ]
           ]
          },
          "colorway": [
           "#636efa",
           "#EF553B",
           "#00cc96",
           "#ab63fa",
           "#FFA15A",
           "#19d3f3",
           "#FF6692",
           "#B6E880",
           "#FF97FF",
           "#FECB52"
          ],
          "font": {
           "color": "#2a3f5f"
          },
          "geo": {
           "bgcolor": "white",
           "lakecolor": "white",
           "landcolor": "#E5ECF6",
           "showlakes": true,
           "showland": true,
           "subunitcolor": "white"
          },
          "hoverlabel": {
           "align": "left"
          },
          "hovermode": "closest",
          "mapbox": {
           "style": "light"
          },
          "paper_bgcolor": "white",
          "plot_bgcolor": "#E5ECF6",
          "polar": {
           "angularaxis": {
            "gridcolor": "white",
            "linecolor": "white",
            "ticks": ""
           },
           "bgcolor": "#E5ECF6",
           "radialaxis": {
            "gridcolor": "white",
            "linecolor": "white",
            "ticks": ""
           }
          },
          "scene": {
           "xaxis": {
            "backgroundcolor": "#E5ECF6",
            "gridcolor": "white",
            "gridwidth": 2,
            "linecolor": "white",
            "showbackground": true,
            "ticks": "",
            "zerolinecolor": "white"
           },
           "yaxis": {
            "backgroundcolor": "#E5ECF6",
            "gridcolor": "white",
            "gridwidth": 2,
            "linecolor": "white",
            "showbackground": true,
            "ticks": "",
            "zerolinecolor": "white"
           },
           "zaxis": {
            "backgroundcolor": "#E5ECF6",
            "gridcolor": "white",
            "gridwidth": 2,
            "linecolor": "white",
            "showbackground": true,
            "ticks": "",
            "zerolinecolor": "white"
           }
          },
          "shapedefaults": {
           "line": {
            "color": "#2a3f5f"
           }
          },
          "ternary": {
           "aaxis": {
            "gridcolor": "white",
            "linecolor": "white",
            "ticks": ""
           },
           "baxis": {
            "gridcolor": "white",
            "linecolor": "white",
            "ticks": ""
           },
           "bgcolor": "#E5ECF6",
           "caxis": {
            "gridcolor": "white",
            "linecolor": "white",
            "ticks": ""
           }
          },
          "title": {
           "x": 0.05
          },
          "xaxis": {
           "automargin": true,
           "gridcolor": "white",
           "linecolor": "white",
           "ticks": "",
           "title": {
            "standoff": 15
           },
           "zerolinecolor": "white",
           "zerolinewidth": 2
          },
          "yaxis": {
           "automargin": true,
           "gridcolor": "white",
           "linecolor": "white",
           "ticks": "",
           "title": {
            "standoff": 15
           },
           "zerolinecolor": "white",
           "zerolinewidth": 2
          }
         }
        }
       }
      }
     },
     "metadata": {},
     "output_type": "display_data"
    }
   ],
   "source": [
    "fig = go.Figure(\n",
    "    data=[\n",
    "        go.Table(  # Create table\n",
    "            header=dict(\n",
    "                values=list(\n",
    "                    phl_crime.columns\n",
    "                ),  # Get list of all columns in 'phl_crime' DataFrame to use for header\n",
    "                fill_color=\"paleturquoise\",  # Change heading color\n",
    "                align=\"left\",\n",
    "            ),  # Change header text alignment\n",
    "            cells=dict(\n",
    "                values=phl_crime.transpose().values.tolist(),  # Get values from all columns in dataframe for values\n",
    "                fill_color=\"lavender\",\n",
    "                align=\"left\",\n",
    "            ),\n",
    "        )\n",
    "    ]\n",
    ")\n",
    "\n",
    "fig.show()"
   ]
  },
  {
   "cell_type": "code",
   "execution_count": 14,
   "metadata": {},
   "outputs": [
    {
     "name": "stderr",
     "output_type": "stream",
     "text": [
      "c:\\Users\\agaro\\Documents\\Digital-History\\.venv\\Lib\\site-packages\\plotly\\graph_objs\\_deprecations.py:378: DeprecationWarning:\n",
      "\n",
      "plotly.graph_objs.Line is deprecated.\n",
      "Please replace it with one of the following more specific types\n",
      "  - plotly.graph_objs.scatter.Line\n",
      "  - plotly.graph_objs.layout.shape.Line\n",
      "  - etc.\n",
      "\n",
      "\n"
     ]
    },
    {
     "data": {
      "application/vnd.plotly.v1+json": {
       "config": {
        "plotlyServerURL": "https://plot.ly"
       },
       "data": [
        {
         "hovertemplate": "<b>Gender=</b> %{x}<br><b>Count=</b> %{y}<extra></extra>",
         "name": "Suspect gender",
         "type": "bar",
         "x": [
          "Female",
          "Male"
         ],
         "xaxis": "x",
         "y": [
          72,
          617
         ],
         "yaxis": "y"
        },
        {
         "hovertemplate": "<b>Gender=</b>Female<br><b>Year=</b> %{x}<br><b>Count=</b> %{y}</b><extra></extra>",
         "name": "Female",
         "type": "scatter",
         "x": [
          1902,
          1908,
          1914,
          1920,
          1926,
          1932
         ],
         "xaxis": "x2",
         "y": [
          9,
          11,
          6,
          13,
          12,
          21
         ],
         "yaxis": "y2"
        },
        {
         "hovertemplate": "<b>Gender=</b>Male<br><b>Year=</b> %{x}<br><b>Count=</b> %{y}</b><extra></extra>",
         "name": "Male",
         "type": "scatter",
         "x": [
          1902,
          1908,
          1914,
          1920,
          1926,
          1932
         ],
         "xaxis": "x2",
         "y": [
          31,
          56,
          87,
          125,
          174,
          144
         ],
         "yaxis": "y2"
        },
        {
         "name": "Female",
         "type": "box",
         "xaxis": "x3",
         "y": [
          null,
          47,
          null,
          null,
          null,
          null,
          null,
          null,
          null,
          null,
          null,
          null,
          null,
          null,
          null,
          null,
          19,
          null,
          null,
          null,
          null,
          null,
          60,
          33,
          null,
          null,
          30,
          null,
          null,
          98,
          null,
          34,
          30,
          53,
          null,
          20,
          52,
          12,
          24,
          36,
          34,
          17,
          22,
          null,
          34,
          19,
          null,
          42,
          null,
          null,
          null,
          null,
          26,
          39,
          null,
          null,
          39,
          23,
          null,
          39,
          30,
          null,
          40,
          30,
          23,
          29,
          32,
          44,
          null,
          34,
          37,
          37
         ],
         "yaxis": "y3"
        },
        {
         "name": "Male",
         "type": "box",
         "xaxis": "x3",
         "y": [
          null,
          null,
          null,
          21,
          17,
          null,
          null,
          null,
          null,
          null,
          null,
          16,
          null,
          28,
          33,
          18,
          null,
          null,
          null,
          null,
          null,
          17,
          58,
          null,
          null,
          null,
          null,
          null,
          null,
          null,
          null,
          null,
          null,
          null,
          null,
          null,
          17,
          null,
          null,
          null,
          25,
          null,
          25,
          null,
          null,
          null,
          19,
          null,
          60,
          null,
          null,
          null,
          15,
          19,
          null,
          null,
          98,
          null,
          null,
          null,
          null,
          null,
          null,
          22,
          null,
          21,
          null,
          null,
          30,
          24,
          null,
          23,
          null,
          null,
          null,
          null,
          null,
          null,
          null,
          50,
          null,
          null,
          null,
          null,
          null,
          98,
          null,
          null,
          35,
          47,
          42,
          null,
          null,
          19,
          null,
          35,
          35,
          23,
          null,
          25,
          null,
          56,
          null,
          null,
          null,
          null,
          null,
          21,
          null,
          23,
          98,
          null,
          null,
          35,
          22,
          null,
          18,
          19,
          60,
          28,
          21,
          59,
          null,
          44,
          null,
          null,
          64,
          null,
          21,
          32,
          51,
          42,
          22,
          30,
          26,
          null,
          42,
          null,
          null,
          36,
          26,
          37,
          null,
          36,
          26,
          45,
          32,
          41,
          null,
          42,
          null,
          23,
          null,
          22,
          24,
          40,
          22,
          42,
          41,
          null,
          22,
          42,
          38,
          20,
          null,
          35,
          40,
          null,
          30,
          40,
          35,
          24,
          27,
          25,
          23,
          null,
          18,
          16,
          null,
          35,
          21,
          30,
          null,
          35,
          15,
          null,
          null,
          16,
          53,
          null,
          null,
          57,
          30,
          41,
          24,
          null,
          19,
          34,
          22,
          null,
          36,
          28,
          null,
          17,
          34,
          25,
          25,
          38,
          17,
          20,
          null,
          22,
          31,
          35,
          31,
          24,
          55,
          25,
          29,
          null,
          null,
          45,
          null,
          29,
          93,
          55,
          null,
          null,
          28,
          25,
          30,
          19,
          24,
          null,
          null,
          null,
          23,
          null,
          50,
          null,
          25,
          35,
          28,
          null,
          null,
          30,
          42,
          23,
          42,
          30,
          30,
          21,
          21,
          null,
          25,
          null,
          30,
          null,
          25,
          20,
          20,
          null,
          null,
          null,
          null,
          null,
          null,
          null,
          null,
          77,
          null,
          null,
          null,
          41,
          null,
          30,
          29,
          16,
          25,
          null,
          null,
          null,
          61,
          20,
          56,
          null,
          15,
          45,
          20,
          35,
          50,
          22,
          null,
          null,
          null,
          null,
          null,
          28,
          33,
          57,
          36,
          null,
          null,
          29,
          35,
          null,
          29,
          28,
          33,
          30,
          25,
          48,
          38,
          21,
          31,
          25,
          null,
          52,
          35,
          40,
          null,
          21,
          null,
          30,
          30,
          null,
          51,
          30,
          20,
          35,
          29,
          null,
          30,
          40,
          31,
          null,
          40,
          24,
          28,
          35,
          32,
          22,
          45,
          24,
          28,
          38,
          29,
          32,
          null,
          37,
          14,
          31,
          null,
          null,
          28,
          98,
          22,
          28,
          25,
          25,
          27,
          43,
          null,
          31,
          30,
          20,
          31,
          24,
          26,
          null,
          26,
          null,
          46,
          null,
          null,
          52,
          29,
          25,
          23,
          25,
          null,
          30,
          null,
          38,
          null,
          null,
          30,
          29,
          37,
          28,
          31,
          98,
          34,
          29,
          20,
          21,
          28,
          33,
          18,
          null,
          34,
          46,
          30,
          19,
          20,
          58,
          22,
          26,
          33,
          40,
          43,
          37,
          28,
          null,
          27,
          null,
          25,
          28,
          37,
          null,
          29,
          null,
          32,
          23,
          24,
          22,
          null,
          44,
          40,
          45,
          27,
          29,
          null,
          56,
          null,
          37,
          null,
          33,
          25,
          26,
          null,
          26,
          null,
          30,
          23,
          36,
          null,
          null,
          18,
          null,
          null,
          null,
          25,
          null,
          null,
          17,
          null,
          41,
          26,
          null,
          29,
          null,
          null,
          null,
          null,
          null,
          null,
          98,
          null,
          25,
          null,
          null,
          24,
          15,
          25,
          null,
          34,
          34,
          22,
          32,
          null,
          null,
          39,
          null,
          null,
          28,
          25,
          25,
          null,
          27,
          null,
          26,
          13,
          null,
          null,
          null,
          27,
          null,
          null,
          42,
          28,
          18,
          null,
          null,
          32,
          20,
          38,
          42,
          20,
          null,
          null,
          null,
          39,
          null,
          31,
          16,
          null,
          35,
          30,
          30,
          22,
          35,
          14,
          null,
          null,
          null,
          18,
          31,
          39,
          null,
          22,
          27,
          32,
          23,
          null,
          36,
          29,
          26,
          38,
          30,
          26,
          null,
          24,
          30,
          40,
          37,
          41,
          35,
          null,
          25,
          24,
          null,
          null,
          null,
          42,
          26,
          null,
          37,
          null,
          25,
          28,
          null,
          66,
          55,
          40,
          null,
          30,
          null,
          null,
          null,
          33,
          null,
          null,
          31,
          35,
          32,
          40,
          37,
          24,
          54,
          null,
          20,
          34,
          null,
          20,
          null,
          null,
          30,
          31,
          null,
          55,
          null,
          28,
          19,
          19,
          17,
          20,
          32,
          38,
          27,
          null,
          34,
          37,
          26,
          null,
          39,
          38,
          40,
          54,
          30,
          null,
          42,
          41,
          null,
          36,
          15,
          47
         ],
         "yaxis": "y3"
        }
       ],
       "layout": {
        "annotations": [
         {
          "arrowhead": 1,
          "ax": 30,
          "ay": 30,
          "showarrow": true,
          "text": "Males",
          "x": 1920,
          "xref": "x2",
          "y": 120,
          "yref": "y2"
         },
         {
          "arrowhead": 1,
          "showarrow": true,
          "text": "Females",
          "x": 1920,
          "xref": "x2",
          "y": 20,
          "yref": "y2"
         },
         {
          "font": {
           "color": "black",
           "size": 15
          },
          "showarrow": false,
          "text": "Male vs. female suspects (left); male vs. female suspects over time (middle); age distributions of male vs. female suspects (right).",
          "textangle": 0,
          "x": 0,
          "xanchor": "left",
          "xref": "paper",
          "y": -0.15,
          "yref": "paper"
         }
        ],
        "font": {
         "family": "Times New Roman"
        },
        "height": 650,
        "hoverlabel": {
         "font": {
          "family": "Times New Roman",
          "size": 16
         }
        },
        "showlegend": false,
        "template": {
         "data": {
          "bar": [
           {
            "error_x": {
             "color": "#2a3f5f"
            },
            "error_y": {
             "color": "#2a3f5f"
            },
            "marker": {
             "line": {
              "color": "#E5ECF6",
              "width": 0.5
             },
             "pattern": {
              "fillmode": "overlay",
              "size": 10,
              "solidity": 0.2
             }
            },
            "type": "bar"
           }
          ],
          "barpolar": [
           {
            "marker": {
             "line": {
              "color": "#E5ECF6",
              "width": 0.5
             },
             "pattern": {
              "fillmode": "overlay",
              "size": 10,
              "solidity": 0.2
             }
            },
            "type": "barpolar"
           }
          ],
          "carpet": [
           {
            "aaxis": {
             "endlinecolor": "#2a3f5f",
             "gridcolor": "white",
             "linecolor": "white",
             "minorgridcolor": "white",
             "startlinecolor": "#2a3f5f"
            },
            "baxis": {
             "endlinecolor": "#2a3f5f",
             "gridcolor": "white",
             "linecolor": "white",
             "minorgridcolor": "white",
             "startlinecolor": "#2a3f5f"
            },
            "type": "carpet"
           }
          ],
          "choropleth": [
           {
            "colorbar": {
             "outlinewidth": 0,
             "ticks": ""
            },
            "type": "choropleth"
           }
          ],
          "contour": [
           {
            "colorbar": {
             "outlinewidth": 0,
             "ticks": ""
            },
            "colorscale": [
             [
              0,
              "#0d0887"
             ],
             [
              0.1111111111111111,
              "#46039f"
             ],
             [
              0.2222222222222222,
              "#7201a8"
             ],
             [
              0.3333333333333333,
              "#9c179e"
             ],
             [
              0.4444444444444444,
              "#bd3786"
             ],
             [
              0.5555555555555556,
              "#d8576b"
             ],
             [
              0.6666666666666666,
              "#ed7953"
             ],
             [
              0.7777777777777778,
              "#fb9f3a"
             ],
             [
              0.8888888888888888,
              "#fdca26"
             ],
             [
              1,
              "#f0f921"
             ]
            ],
            "type": "contour"
           }
          ],
          "contourcarpet": [
           {
            "colorbar": {
             "outlinewidth": 0,
             "ticks": ""
            },
            "type": "contourcarpet"
           }
          ],
          "heatmap": [
           {
            "colorbar": {
             "outlinewidth": 0,
             "ticks": ""
            },
            "colorscale": [
             [
              0,
              "#0d0887"
             ],
             [
              0.1111111111111111,
              "#46039f"
             ],
             [
              0.2222222222222222,
              "#7201a8"
             ],
             [
              0.3333333333333333,
              "#9c179e"
             ],
             [
              0.4444444444444444,
              "#bd3786"
             ],
             [
              0.5555555555555556,
              "#d8576b"
             ],
             [
              0.6666666666666666,
              "#ed7953"
             ],
             [
              0.7777777777777778,
              "#fb9f3a"
             ],
             [
              0.8888888888888888,
              "#fdca26"
             ],
             [
              1,
              "#f0f921"
             ]
            ],
            "type": "heatmap"
           }
          ],
          "heatmapgl": [
           {
            "colorbar": {
             "outlinewidth": 0,
             "ticks": ""
            },
            "colorscale": [
             [
              0,
              "#0d0887"
             ],
             [
              0.1111111111111111,
              "#46039f"
             ],
             [
              0.2222222222222222,
              "#7201a8"
             ],
             [
              0.3333333333333333,
              "#9c179e"
             ],
             [
              0.4444444444444444,
              "#bd3786"
             ],
             [
              0.5555555555555556,
              "#d8576b"
             ],
             [
              0.6666666666666666,
              "#ed7953"
             ],
             [
              0.7777777777777778,
              "#fb9f3a"
             ],
             [
              0.8888888888888888,
              "#fdca26"
             ],
             [
              1,
              "#f0f921"
             ]
            ],
            "type": "heatmapgl"
           }
          ],
          "histogram": [
           {
            "marker": {
             "pattern": {
              "fillmode": "overlay",
              "size": 10,
              "solidity": 0.2
             }
            },
            "type": "histogram"
           }
          ],
          "histogram2d": [
           {
            "colorbar": {
             "outlinewidth": 0,
             "ticks": ""
            },
            "colorscale": [
             [
              0,
              "#0d0887"
             ],
             [
              0.1111111111111111,
              "#46039f"
             ],
             [
              0.2222222222222222,
              "#7201a8"
             ],
             [
              0.3333333333333333,
              "#9c179e"
             ],
             [
              0.4444444444444444,
              "#bd3786"
             ],
             [
              0.5555555555555556,
              "#d8576b"
             ],
             [
              0.6666666666666666,
              "#ed7953"
             ],
             [
              0.7777777777777778,
              "#fb9f3a"
             ],
             [
              0.8888888888888888,
              "#fdca26"
             ],
             [
              1,
              "#f0f921"
             ]
            ],
            "type": "histogram2d"
           }
          ],
          "histogram2dcontour": [
           {
            "colorbar": {
             "outlinewidth": 0,
             "ticks": ""
            },
            "colorscale": [
             [
              0,
              "#0d0887"
             ],
             [
              0.1111111111111111,
              "#46039f"
             ],
             [
              0.2222222222222222,
              "#7201a8"
             ],
             [
              0.3333333333333333,
              "#9c179e"
             ],
             [
              0.4444444444444444,
              "#bd3786"
             ],
             [
              0.5555555555555556,
              "#d8576b"
             ],
             [
              0.6666666666666666,
              "#ed7953"
             ],
             [
              0.7777777777777778,
              "#fb9f3a"
             ],
             [
              0.8888888888888888,
              "#fdca26"
             ],
             [
              1,
              "#f0f921"
             ]
            ],
            "type": "histogram2dcontour"
           }
          ],
          "mesh3d": [
           {
            "colorbar": {
             "outlinewidth": 0,
             "ticks": ""
            },
            "type": "mesh3d"
           }
          ],
          "parcoords": [
           {
            "line": {
             "colorbar": {
              "outlinewidth": 0,
              "ticks": ""
             }
            },
            "type": "parcoords"
           }
          ],
          "pie": [
           {
            "automargin": true,
            "type": "pie"
           }
          ],
          "scatter": [
           {
            "fillpattern": {
             "fillmode": "overlay",
             "size": 10,
             "solidity": 0.2
            },
            "type": "scatter"
           }
          ],
          "scatter3d": [
           {
            "line": {
             "colorbar": {
              "outlinewidth": 0,
              "ticks": ""
             }
            },
            "marker": {
             "colorbar": {
              "outlinewidth": 0,
              "ticks": ""
             }
            },
            "type": "scatter3d"
           }
          ],
          "scattercarpet": [
           {
            "marker": {
             "colorbar": {
              "outlinewidth": 0,
              "ticks": ""
             }
            },
            "type": "scattercarpet"
           }
          ],
          "scattergeo": [
           {
            "marker": {
             "colorbar": {
              "outlinewidth": 0,
              "ticks": ""
             }
            },
            "type": "scattergeo"
           }
          ],
          "scattergl": [
           {
            "marker": {
             "colorbar": {
              "outlinewidth": 0,
              "ticks": ""
             }
            },
            "type": "scattergl"
           }
          ],
          "scattermapbox": [
           {
            "marker": {
             "colorbar": {
              "outlinewidth": 0,
              "ticks": ""
             }
            },
            "type": "scattermapbox"
           }
          ],
          "scatterpolar": [
           {
            "marker": {
             "colorbar": {
              "outlinewidth": 0,
              "ticks": ""
             }
            },
            "type": "scatterpolar"
           }
          ],
          "scatterpolargl": [
           {
            "marker": {
             "colorbar": {
              "outlinewidth": 0,
              "ticks": ""
             }
            },
            "type": "scatterpolargl"
           }
          ],
          "scatterternary": [
           {
            "marker": {
             "colorbar": {
              "outlinewidth": 0,
              "ticks": ""
             }
            },
            "type": "scatterternary"
           }
          ],
          "surface": [
           {
            "colorbar": {
             "outlinewidth": 0,
             "ticks": ""
            },
            "colorscale": [
             [
              0,
              "#0d0887"
             ],
             [
              0.1111111111111111,
              "#46039f"
             ],
             [
              0.2222222222222222,
              "#7201a8"
             ],
             [
              0.3333333333333333,
              "#9c179e"
             ],
             [
              0.4444444444444444,
              "#bd3786"
             ],
             [
              0.5555555555555556,
              "#d8576b"
             ],
             [
              0.6666666666666666,
              "#ed7953"
             ],
             [
              0.7777777777777778,
              "#fb9f3a"
             ],
             [
              0.8888888888888888,
              "#fdca26"
             ],
             [
              1,
              "#f0f921"
             ]
            ],
            "type": "surface"
           }
          ],
          "table": [
           {
            "cells": {
             "fill": {
              "color": "#EBF0F8"
             },
             "line": {
              "color": "white"
             }
            },
            "header": {
             "fill": {
              "color": "#C8D4E3"
             },
             "line": {
              "color": "white"
             }
            },
            "type": "table"
           }
          ]
         },
         "layout": {
          "annotationdefaults": {
           "arrowcolor": "#2a3f5f",
           "arrowhead": 0,
           "arrowwidth": 1
          },
          "autotypenumbers": "strict",
          "coloraxis": {
           "colorbar": {
            "outlinewidth": 0,
            "ticks": ""
           }
          },
          "colorscale": {
           "diverging": [
            [
             0,
             "#8e0152"
            ],
            [
             0.1,
             "#c51b7d"
            ],
            [
             0.2,
             "#de77ae"
            ],
            [
             0.3,
             "#f1b6da"
            ],
            [
             0.4,
             "#fde0ef"
            ],
            [
             0.5,
             "#f7f7f7"
            ],
            [
             0.6,
             "#e6f5d0"
            ],
            [
             0.7,
             "#b8e186"
            ],
            [
             0.8,
             "#7fbc41"
            ],
            [
             0.9,
             "#4d9221"
            ],
            [
             1,
             "#276419"
            ]
           ],
           "sequential": [
            [
             0,
             "#0d0887"
            ],
            [
             0.1111111111111111,
             "#46039f"
            ],
            [
             0.2222222222222222,
             "#7201a8"
            ],
            [
             0.3333333333333333,
             "#9c179e"
            ],
            [
             0.4444444444444444,
             "#bd3786"
            ],
            [
             0.5555555555555556,
             "#d8576b"
            ],
            [
             0.6666666666666666,
             "#ed7953"
            ],
            [
             0.7777777777777778,
             "#fb9f3a"
            ],
            [
             0.8888888888888888,
             "#fdca26"
            ],
            [
             1,
             "#f0f921"
            ]
           ],
           "sequentialminus": [
            [
             0,
             "#0d0887"
            ],
            [
             0.1111111111111111,
             "#46039f"
            ],
            [
             0.2222222222222222,
             "#7201a8"
            ],
            [
             0.3333333333333333,
             "#9c179e"
            ],
            [
             0.4444444444444444,
             "#bd3786"
            ],
            [
             0.5555555555555556,
             "#d8576b"
            ],
            [
             0.6666666666666666,
             "#ed7953"
            ],
            [
             0.7777777777777778,
             "#fb9f3a"
            ],
            [
             0.8888888888888888,
             "#fdca26"
            ],
            [
             1,
             "#f0f921"
            ]
           ]
          },
          "colorway": [
           "#636efa",
           "#EF553B",
           "#00cc96",
           "#ab63fa",
           "#FFA15A",
           "#19d3f3",
           "#FF6692",
           "#B6E880",
           "#FF97FF",
           "#FECB52"
          ],
          "font": {
           "color": "#2a3f5f"
          },
          "geo": {
           "bgcolor": "white",
           "lakecolor": "white",
           "landcolor": "#E5ECF6",
           "showlakes": true,
           "showland": true,
           "subunitcolor": "white"
          },
          "hoverlabel": {
           "align": "left"
          },
          "hovermode": "closest",
          "mapbox": {
           "style": "light"
          },
          "paper_bgcolor": "white",
          "plot_bgcolor": "#E5ECF6",
          "polar": {
           "angularaxis": {
            "gridcolor": "white",
            "linecolor": "white",
            "ticks": ""
           },
           "bgcolor": "#E5ECF6",
           "radialaxis": {
            "gridcolor": "white",
            "linecolor": "white",
            "ticks": ""
           }
          },
          "scene": {
           "xaxis": {
            "backgroundcolor": "#E5ECF6",
            "gridcolor": "white",
            "gridwidth": 2,
            "linecolor": "white",
            "showbackground": true,
            "ticks": "",
            "zerolinecolor": "white"
           },
           "yaxis": {
            "backgroundcolor": "#E5ECF6",
            "gridcolor": "white",
            "gridwidth": 2,
            "linecolor": "white",
            "showbackground": true,
            "ticks": "",
            "zerolinecolor": "white"
           },
           "zaxis": {
            "backgroundcolor": "#E5ECF6",
            "gridcolor": "white",
            "gridwidth": 2,
            "linecolor": "white",
            "showbackground": true,
            "ticks": "",
            "zerolinecolor": "white"
           }
          },
          "shapedefaults": {
           "line": {
            "color": "#2a3f5f"
           }
          },
          "ternary": {
           "aaxis": {
            "gridcolor": "white",
            "linecolor": "white",
            "ticks": ""
           },
           "baxis": {
            "gridcolor": "white",
            "linecolor": "white",
            "ticks": ""
           },
           "bgcolor": "#E5ECF6",
           "caxis": {
            "gridcolor": "white",
            "linecolor": "white",
            "ticks": ""
           }
          },
          "title": {
           "x": 0.05
          },
          "xaxis": {
           "automargin": true,
           "gridcolor": "white",
           "linecolor": "white",
           "ticks": "",
           "title": {
            "standoff": 15
           },
           "zerolinecolor": "white",
           "zerolinewidth": 2
          },
          "yaxis": {
           "automargin": true,
           "gridcolor": "white",
           "linecolor": "white",
           "ticks": "",
           "title": {
            "standoff": 15
           },
           "zerolinecolor": "white",
           "zerolinewidth": 2
          }
         }
        },
        "title": {
         "text": "Breakdown of Philadelphia Crime Data by Gender and Age 1902-1932",
         "x": 0.5
        },
        "xaxis": {
         "anchor": "y",
         "domain": [
          0,
          0.2888888888888889
         ],
         "title": {
          "text": "Suspect gender"
         }
        },
        "xaxis2": {
         "anchor": "y2",
         "domain": [
          0.35555555555555557,
          0.6444444444444445
         ],
         "title": {
          "text": "Year"
         }
        },
        "xaxis3": {
         "anchor": "y3",
         "domain": [
          0.7111111111111111,
          1
         ],
         "title": {
          "text": "Suspect gender"
         }
        },
        "yaxis": {
         "anchor": "x",
         "domain": [
          0,
          1
         ],
         "title": {
          "text": "Count"
         }
        },
        "yaxis2": {
         "anchor": "x2",
         "domain": [
          0,
          1
         ],
         "title": {
          "text": "Count"
         }
        },
        "yaxis3": {
         "anchor": "x3",
         "domain": [
          0,
          1
         ],
         "title": {
          "text": "Age"
         }
        }
       }
      }
     },
     "metadata": {},
     "output_type": "display_data"
    }
   ],
   "source": [
    "# Import make_subplots\n",
    "from plotly.subplots import make_subplots\n",
    "\n",
    "# Gather data for subplot\n",
    "phl_women, phl_men = (\n",
    "    phl_crime.loc[phl_crime[\"Gender of accused\"] == \"Female\"],\n",
    "    phl_crime.loc[phl_crime[\"Gender of accused\"] == \"Male\"],\n",
    ")\n",
    "phl_women_year, phl_men_year = (\n",
    "    phl_women.groupby([\"Year\"], as_index=False).size(),\n",
    "    phl_men.groupby([\"Year\"], as_index=False).size(),\n",
    ")\n",
    "\n",
    "fig = make_subplots(rows=1, cols=3) # Use the rows and cols parameters to create smaller/bigger grid\n",
    "\n",
    "fig.add_trace(\n",
    "    # Use go.Bar() to specify chart type as bar chart\n",
    "    go.Bar(\n",
    "        x=phl_by_gender[\n",
    "            \"Gender of accused\"\n",
    "        ],\n",
    "        y=phl_by_gender[\"size\"],\n",
    "        name=\"Suspect gender\",\n",
    "        hovertemplate=\"<b>Gender=</b> %{x}<br><b>Count=</b> %{y}<extra></extra>\",\n",
    "    ),\n",
    "    # Use the row and col parameters to change the position of the subplot within the grid\n",
    "    row=1,\n",
    "    col=1,\n",
    ")\n",
    "\n",
    "fig.add_trace(\n",
    "    # Use go.Line() here to specify graph type as line graph\n",
    "    go.Line(\n",
    "        x=phl_women_year[\n",
    "            \"Year\"\n",
    "        ],\n",
    "        y=phl_women_year[\"size\"],\n",
    "        name=\"Female\",  # Specify that this line represents female prosecutions\n",
    "        hovertemplate=\"<b>Gender=</b>Female<br><b>Year=</b> %{x}<br><b>Count=</b> %{y}</b><extra></extra>\",\n",
    "    ),\n",
    "    # the col parameter is now 2 (rather than 1) since we want to position this graph next to the bar chart.\n",
    "    row=1,\n",
    "    col=2,\n",
    ")\n",
    "\n",
    "# Since we want separate lines for male and female charges, we need to add two 'Line' traces to the plot.\n",
    "fig.add_trace(\n",
    "    go.Line(\n",
    "        x=phl_men_year[\"Year\"],\n",
    "        y=phl_men_year[\"size\"],\n",
    "        name=\"Male\",  # Specify that this line represents male prosecutions\n",
    "        hovertemplate=\"<b>Gender=</b>Male<br><b>Year=</b> %{x}<br><b>Count=</b> %{y}</b><extra></extra>\",\n",
    "    ),\n",
    "    row=1,\n",
    "    col=2,\n",
    ")\n",
    "\n",
    "fig.add_trace(\n",
    "    # Use go.Box() to specify graph type as boxplot\n",
    "    go.Box(\n",
    "        y=phl_women[\"Age of accused\"], name=\"Female\"\n",
    "    ),\n",
    "    row=1,\n",
    "    col=3, # col=3 now because it is the third graph in the grid figure\n",
    ")\n",
    "\n",
    "# As before, we need to add another trace since we want a separate box for males.\n",
    "fig.add_trace(go.Box(y=phl_men[\"Age of accused\"], name=\"Male\"), row=1, col=3)\n",
    "\n",
    "fig.update_layout(\n",
    "    font_family=\"Times New Roman\",  # Change font for the figure\n",
    "    hoverlabel_font_family=\"Times New Roman\",  # Change font for hover labels\n",
    "    hoverlabel_font_size=16,  # Change font size for hover labels\n",
    "    title_text=\"Breakdown of Philadelphia Crime Data by Gender and Age 1902-1932\",  # Main title\n",
    "    title_x=0.5,  # Position main title at center of graph (note: the title_x parameter only takes integers or floats)\n",
    "    xaxis1_title_text=\"Suspect gender\",  # Add label for x-axis in 1st subplot\n",
    "    yaxis1_title_text=\"Count\",  # Add label for y-axis in 1st subplot\n",
    "    xaxis2_title_text=\"Year\",\n",
    "    yaxis2_title_text=\"Count\",\n",
    "    xaxis3_title_text=\"Suspect gender\",\n",
    "    yaxis3_title_text=\"Age\",\n",
    "    showlegend=False,  # Remove legend\n",
    "    height=650, # Set height for graph - not needed, but can be useful for digital publishing\n",
    ")\n",
    "\n",
    "fig.update_layout(\n",
    "    # Pass in a list of dicts where each dict represents one annotation\n",
    "    annotations=[\n",
    "        # Our first annotation will be for the 'males' line\n",
    "        dict(  \n",
    "            x=1920,\n",
    "            y=120,  # X- and y- co-ordinates for the annotation point\n",
    "            xref=\"x2\",  # Specify xref and yref as x2 and y2 because we want the second graph in the grid (the line graph)\n",
    "            yref=\"y2\",\n",
    "            text=\"Males\",  # Text for annotation is 'Males'\n",
    "            showarrow=True,  # Use False to add a line without an arrowhead\n",
    "            arrowhead=1,  # Change size of arrowhead\n",
    "            ax=30,  # Use the ax and ay parameters to change length of line\n",
    "            ay=30,\n",
    "        ),\n",
    "        # Our second annotation will be for the 'females' line\n",
    "        dict(\n",
    "            x=1920,\n",
    "            y=20,\n",
    "            xref=\"x2\",\n",
    "            yref=\"y2\",\n",
    "            text=\"Females\",\n",
    "            showarrow=True,\n",
    "            arrowhead=1,\n",
    "        ),\n",
    "    ]\n",
    ")\n",
    "\n",
    "fig.add_annotation(\n",
    "    dict(\n",
    "        font=dict(color=\"black\", size=15),  # Change font color and size\n",
    "        x=0,  # Use x and y to specify annotation position\n",
    "        y=-0.15,\n",
    "        showarrow=False,\n",
    "        text=\"Male vs. female suspects (left); male vs. female suspects over time (middle); age distributions of male vs. female suspects (right).\",\n",
    "        textangle=0,  # Option to rotate text (sometimes useful to save space)\n",
    "        xanchor=\"left\",\n",
    "        xref=\"paper\",  # Set xref and yref to 'paper' so that x and y coordinates are absolute refs.\n",
    "        yref=\"paper\",\n",
    "    )\n",
    ")\n",
    "\n",
    "fig.show()"
   ]
  }
 ],
 "metadata": {
  "kernelspec": {
   "display_name": ".venv",
   "language": "python",
   "name": "python3"
  },
  "language_info": {
   "codemirror_mode": {
    "name": "ipython",
    "version": 3
   },
   "file_extension": ".py",
   "mimetype": "text/x-python",
   "name": "python",
   "nbconvert_exporter": "python",
   "pygments_lexer": "ipython3",
   "version": "3.12.2"
  }
 },
 "nbformat": 4,
 "nbformat_minor": 2
}
